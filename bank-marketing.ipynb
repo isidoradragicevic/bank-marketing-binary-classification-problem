{
 "cells": [
  {
   "cell_type": "code",
   "execution_count": 468,
   "id": "cae4422d-b9b7-49b2-94b0-f25ab6df9b62",
   "metadata": {},
   "outputs": [],
   "source": [
    "import pandas as pd\n",
    "import numpy as np\n",
    "import matplotlib.pyplot as plt\n",
    "import seaborn as sns\n",
    "from sklearn.preprocessing import OrdinalEncoder, OneHotEncoder, LabelEncoder\n",
    "from sklearn.model_selection import train_test_split, cross_val_score, StratifiedKFold, GridSearchCV\n",
    "from imblearn.pipeline import Pipeline as ImbPipeline\n",
    "from imblearn.over_sampling import SMOTE\n",
    "from sklearn.preprocessing import StandardScaler\n",
    "from sklearn.neighbors import KNeighborsClassifier\n",
    "from sklearn.linear_model import LogisticRegression\n",
    "from sklearn.discriminant_analysis import LinearDiscriminantAnalysis\n",
    "from sklearn.naive_bayes import GaussianNB\n",
    "from sklearn.metrics import classification_report, confusion_matrix, roc_auc_score, roc_curve, auc, precision_recall_curve"
   ]
  },
  {
   "cell_type": "code",
   "execution_count": 2,
   "id": "6412bda0-fa18-4f0f-9ece-38d5728ce0fe",
   "metadata": {},
   "outputs": [],
   "source": [
    "pd.set_option('display.max_columns', None)"
   ]
  },
  {
   "cell_type": "code",
   "execution_count": 3,
   "id": "2eb20818-eea4-4f50-bebf-31cccc3d25c4",
   "metadata": {},
   "outputs": [
    {
     "data": {
      "text/html": [
       "<div>\n",
       "<style scoped>\n",
       "    .dataframe tbody tr th:only-of-type {\n",
       "        vertical-align: middle;\n",
       "    }\n",
       "\n",
       "    .dataframe tbody tr th {\n",
       "        vertical-align: top;\n",
       "    }\n",
       "\n",
       "    .dataframe thead th {\n",
       "        text-align: right;\n",
       "    }\n",
       "</style>\n",
       "<table border=\"1\" class=\"dataframe\">\n",
       "  <thead>\n",
       "    <tr style=\"text-align: right;\">\n",
       "      <th></th>\n",
       "      <th>age</th>\n",
       "      <th>job</th>\n",
       "      <th>marital</th>\n",
       "      <th>education</th>\n",
       "      <th>default</th>\n",
       "      <th>housing</th>\n",
       "      <th>loan</th>\n",
       "      <th>contact</th>\n",
       "      <th>month</th>\n",
       "      <th>day_of_week</th>\n",
       "      <th>duration</th>\n",
       "      <th>campaign</th>\n",
       "      <th>pdays</th>\n",
       "      <th>previous</th>\n",
       "      <th>poutcome</th>\n",
       "      <th>emp.var.rate</th>\n",
       "      <th>cons.price.idx</th>\n",
       "      <th>cons.conf.idx</th>\n",
       "      <th>euribor3m</th>\n",
       "      <th>nr.employed</th>\n",
       "      <th>y</th>\n",
       "    </tr>\n",
       "  </thead>\n",
       "  <tbody>\n",
       "    <tr>\n",
       "      <th>0</th>\n",
       "      <td>56</td>\n",
       "      <td>housemaid</td>\n",
       "      <td>married</td>\n",
       "      <td>basic.4y</td>\n",
       "      <td>no</td>\n",
       "      <td>no</td>\n",
       "      <td>no</td>\n",
       "      <td>telephone</td>\n",
       "      <td>may</td>\n",
       "      <td>mon</td>\n",
       "      <td>261</td>\n",
       "      <td>1</td>\n",
       "      <td>999</td>\n",
       "      <td>0</td>\n",
       "      <td>nonexistent</td>\n",
       "      <td>1.1</td>\n",
       "      <td>93.994</td>\n",
       "      <td>-36.4</td>\n",
       "      <td>4.857</td>\n",
       "      <td>5191.0</td>\n",
       "      <td>no</td>\n",
       "    </tr>\n",
       "    <tr>\n",
       "      <th>1</th>\n",
       "      <td>57</td>\n",
       "      <td>services</td>\n",
       "      <td>married</td>\n",
       "      <td>high.school</td>\n",
       "      <td>unknown</td>\n",
       "      <td>no</td>\n",
       "      <td>no</td>\n",
       "      <td>telephone</td>\n",
       "      <td>may</td>\n",
       "      <td>mon</td>\n",
       "      <td>149</td>\n",
       "      <td>1</td>\n",
       "      <td>999</td>\n",
       "      <td>0</td>\n",
       "      <td>nonexistent</td>\n",
       "      <td>1.1</td>\n",
       "      <td>93.994</td>\n",
       "      <td>-36.4</td>\n",
       "      <td>4.857</td>\n",
       "      <td>5191.0</td>\n",
       "      <td>no</td>\n",
       "    </tr>\n",
       "    <tr>\n",
       "      <th>2</th>\n",
       "      <td>37</td>\n",
       "      <td>services</td>\n",
       "      <td>married</td>\n",
       "      <td>high.school</td>\n",
       "      <td>no</td>\n",
       "      <td>yes</td>\n",
       "      <td>no</td>\n",
       "      <td>telephone</td>\n",
       "      <td>may</td>\n",
       "      <td>mon</td>\n",
       "      <td>226</td>\n",
       "      <td>1</td>\n",
       "      <td>999</td>\n",
       "      <td>0</td>\n",
       "      <td>nonexistent</td>\n",
       "      <td>1.1</td>\n",
       "      <td>93.994</td>\n",
       "      <td>-36.4</td>\n",
       "      <td>4.857</td>\n",
       "      <td>5191.0</td>\n",
       "      <td>no</td>\n",
       "    </tr>\n",
       "    <tr>\n",
       "      <th>3</th>\n",
       "      <td>40</td>\n",
       "      <td>admin.</td>\n",
       "      <td>married</td>\n",
       "      <td>basic.6y</td>\n",
       "      <td>no</td>\n",
       "      <td>no</td>\n",
       "      <td>no</td>\n",
       "      <td>telephone</td>\n",
       "      <td>may</td>\n",
       "      <td>mon</td>\n",
       "      <td>151</td>\n",
       "      <td>1</td>\n",
       "      <td>999</td>\n",
       "      <td>0</td>\n",
       "      <td>nonexistent</td>\n",
       "      <td>1.1</td>\n",
       "      <td>93.994</td>\n",
       "      <td>-36.4</td>\n",
       "      <td>4.857</td>\n",
       "      <td>5191.0</td>\n",
       "      <td>no</td>\n",
       "    </tr>\n",
       "    <tr>\n",
       "      <th>4</th>\n",
       "      <td>56</td>\n",
       "      <td>services</td>\n",
       "      <td>married</td>\n",
       "      <td>high.school</td>\n",
       "      <td>no</td>\n",
       "      <td>no</td>\n",
       "      <td>yes</td>\n",
       "      <td>telephone</td>\n",
       "      <td>may</td>\n",
       "      <td>mon</td>\n",
       "      <td>307</td>\n",
       "      <td>1</td>\n",
       "      <td>999</td>\n",
       "      <td>0</td>\n",
       "      <td>nonexistent</td>\n",
       "      <td>1.1</td>\n",
       "      <td>93.994</td>\n",
       "      <td>-36.4</td>\n",
       "      <td>4.857</td>\n",
       "      <td>5191.0</td>\n",
       "      <td>no</td>\n",
       "    </tr>\n",
       "    <tr>\n",
       "      <th>5</th>\n",
       "      <td>45</td>\n",
       "      <td>services</td>\n",
       "      <td>married</td>\n",
       "      <td>basic.9y</td>\n",
       "      <td>unknown</td>\n",
       "      <td>no</td>\n",
       "      <td>no</td>\n",
       "      <td>telephone</td>\n",
       "      <td>may</td>\n",
       "      <td>mon</td>\n",
       "      <td>198</td>\n",
       "      <td>1</td>\n",
       "      <td>999</td>\n",
       "      <td>0</td>\n",
       "      <td>nonexistent</td>\n",
       "      <td>1.1</td>\n",
       "      <td>93.994</td>\n",
       "      <td>-36.4</td>\n",
       "      <td>4.857</td>\n",
       "      <td>5191.0</td>\n",
       "      <td>no</td>\n",
       "    </tr>\n",
       "    <tr>\n",
       "      <th>6</th>\n",
       "      <td>59</td>\n",
       "      <td>admin.</td>\n",
       "      <td>married</td>\n",
       "      <td>professional.course</td>\n",
       "      <td>no</td>\n",
       "      <td>no</td>\n",
       "      <td>no</td>\n",
       "      <td>telephone</td>\n",
       "      <td>may</td>\n",
       "      <td>mon</td>\n",
       "      <td>139</td>\n",
       "      <td>1</td>\n",
       "      <td>999</td>\n",
       "      <td>0</td>\n",
       "      <td>nonexistent</td>\n",
       "      <td>1.1</td>\n",
       "      <td>93.994</td>\n",
       "      <td>-36.4</td>\n",
       "      <td>4.857</td>\n",
       "      <td>5191.0</td>\n",
       "      <td>no</td>\n",
       "    </tr>\n",
       "    <tr>\n",
       "      <th>7</th>\n",
       "      <td>41</td>\n",
       "      <td>blue-collar</td>\n",
       "      <td>married</td>\n",
       "      <td>unknown</td>\n",
       "      <td>unknown</td>\n",
       "      <td>no</td>\n",
       "      <td>no</td>\n",
       "      <td>telephone</td>\n",
       "      <td>may</td>\n",
       "      <td>mon</td>\n",
       "      <td>217</td>\n",
       "      <td>1</td>\n",
       "      <td>999</td>\n",
       "      <td>0</td>\n",
       "      <td>nonexistent</td>\n",
       "      <td>1.1</td>\n",
       "      <td>93.994</td>\n",
       "      <td>-36.4</td>\n",
       "      <td>4.857</td>\n",
       "      <td>5191.0</td>\n",
       "      <td>no</td>\n",
       "    </tr>\n",
       "    <tr>\n",
       "      <th>8</th>\n",
       "      <td>24</td>\n",
       "      <td>technician</td>\n",
       "      <td>single</td>\n",
       "      <td>professional.course</td>\n",
       "      <td>no</td>\n",
       "      <td>yes</td>\n",
       "      <td>no</td>\n",
       "      <td>telephone</td>\n",
       "      <td>may</td>\n",
       "      <td>mon</td>\n",
       "      <td>380</td>\n",
       "      <td>1</td>\n",
       "      <td>999</td>\n",
       "      <td>0</td>\n",
       "      <td>nonexistent</td>\n",
       "      <td>1.1</td>\n",
       "      <td>93.994</td>\n",
       "      <td>-36.4</td>\n",
       "      <td>4.857</td>\n",
       "      <td>5191.0</td>\n",
       "      <td>no</td>\n",
       "    </tr>\n",
       "    <tr>\n",
       "      <th>9</th>\n",
       "      <td>25</td>\n",
       "      <td>services</td>\n",
       "      <td>single</td>\n",
       "      <td>high.school</td>\n",
       "      <td>no</td>\n",
       "      <td>yes</td>\n",
       "      <td>no</td>\n",
       "      <td>telephone</td>\n",
       "      <td>may</td>\n",
       "      <td>mon</td>\n",
       "      <td>50</td>\n",
       "      <td>1</td>\n",
       "      <td>999</td>\n",
       "      <td>0</td>\n",
       "      <td>nonexistent</td>\n",
       "      <td>1.1</td>\n",
       "      <td>93.994</td>\n",
       "      <td>-36.4</td>\n",
       "      <td>4.857</td>\n",
       "      <td>5191.0</td>\n",
       "      <td>no</td>\n",
       "    </tr>\n",
       "  </tbody>\n",
       "</table>\n",
       "</div>"
      ],
      "text/plain": [
       "   age          job  marital            education  default housing loan  \\\n",
       "0   56    housemaid  married             basic.4y       no      no   no   \n",
       "1   57     services  married          high.school  unknown      no   no   \n",
       "2   37     services  married          high.school       no     yes   no   \n",
       "3   40       admin.  married             basic.6y       no      no   no   \n",
       "4   56     services  married          high.school       no      no  yes   \n",
       "5   45     services  married             basic.9y  unknown      no   no   \n",
       "6   59       admin.  married  professional.course       no      no   no   \n",
       "7   41  blue-collar  married              unknown  unknown      no   no   \n",
       "8   24   technician   single  professional.course       no     yes   no   \n",
       "9   25     services   single          high.school       no     yes   no   \n",
       "\n",
       "     contact month day_of_week  duration  campaign  pdays  previous  \\\n",
       "0  telephone   may         mon       261         1    999         0   \n",
       "1  telephone   may         mon       149         1    999         0   \n",
       "2  telephone   may         mon       226         1    999         0   \n",
       "3  telephone   may         mon       151         1    999         0   \n",
       "4  telephone   may         mon       307         1    999         0   \n",
       "5  telephone   may         mon       198         1    999         0   \n",
       "6  telephone   may         mon       139         1    999         0   \n",
       "7  telephone   may         mon       217         1    999         0   \n",
       "8  telephone   may         mon       380         1    999         0   \n",
       "9  telephone   may         mon        50         1    999         0   \n",
       "\n",
       "      poutcome  emp.var.rate  cons.price.idx  cons.conf.idx  euribor3m  \\\n",
       "0  nonexistent           1.1          93.994          -36.4      4.857   \n",
       "1  nonexistent           1.1          93.994          -36.4      4.857   \n",
       "2  nonexistent           1.1          93.994          -36.4      4.857   \n",
       "3  nonexistent           1.1          93.994          -36.4      4.857   \n",
       "4  nonexistent           1.1          93.994          -36.4      4.857   \n",
       "5  nonexistent           1.1          93.994          -36.4      4.857   \n",
       "6  nonexistent           1.1          93.994          -36.4      4.857   \n",
       "7  nonexistent           1.1          93.994          -36.4      4.857   \n",
       "8  nonexistent           1.1          93.994          -36.4      4.857   \n",
       "9  nonexistent           1.1          93.994          -36.4      4.857   \n",
       "\n",
       "   nr.employed   y  \n",
       "0       5191.0  no  \n",
       "1       5191.0  no  \n",
       "2       5191.0  no  \n",
       "3       5191.0  no  \n",
       "4       5191.0  no  \n",
       "5       5191.0  no  \n",
       "6       5191.0  no  \n",
       "7       5191.0  no  \n",
       "8       5191.0  no  \n",
       "9       5191.0  no  "
      ]
     },
     "execution_count": 3,
     "metadata": {},
     "output_type": "execute_result"
    }
   ],
   "source": [
    "df = pd.read_csv('bank-additional-full.csv', sep=';')\n",
    "df.head(10)"
   ]
  },
  {
   "cell_type": "code",
   "execution_count": 4,
   "id": "7abc5284-1add-4cb8-ba86-290b20c7a61e",
   "metadata": {},
   "outputs": [
    {
     "data": {
      "text/plain": [
       "(41188, 21)"
      ]
     },
     "execution_count": 4,
     "metadata": {},
     "output_type": "execute_result"
    }
   ],
   "source": [
    "df.shape"
   ]
  },
  {
   "cell_type": "code",
   "execution_count": 5,
   "id": "f50ce437-3cdf-4a7b-bc53-c07f00e4964b",
   "metadata": {},
   "outputs": [
    {
     "name": "stdout",
     "output_type": "stream",
     "text": [
      "<class 'pandas.core.frame.DataFrame'>\n",
      "RangeIndex: 41188 entries, 0 to 41187\n",
      "Data columns (total 21 columns):\n",
      " #   Column          Non-Null Count  Dtype  \n",
      "---  ------          --------------  -----  \n",
      " 0   age             41188 non-null  int64  \n",
      " 1   job             41188 non-null  object \n",
      " 2   marital         41188 non-null  object \n",
      " 3   education       41188 non-null  object \n",
      " 4   default         41188 non-null  object \n",
      " 5   housing         41188 non-null  object \n",
      " 6   loan            41188 non-null  object \n",
      " 7   contact         41188 non-null  object \n",
      " 8   month           41188 non-null  object \n",
      " 9   day_of_week     41188 non-null  object \n",
      " 10  duration        41188 non-null  int64  \n",
      " 11  campaign        41188 non-null  int64  \n",
      " 12  pdays           41188 non-null  int64  \n",
      " 13  previous        41188 non-null  int64  \n",
      " 14  poutcome        41188 non-null  object \n",
      " 15  emp.var.rate    41188 non-null  float64\n",
      " 16  cons.price.idx  41188 non-null  float64\n",
      " 17  cons.conf.idx   41188 non-null  float64\n",
      " 18  euribor3m       41188 non-null  float64\n",
      " 19  nr.employed     41188 non-null  float64\n",
      " 20  y               41188 non-null  object \n",
      "dtypes: float64(5), int64(5), object(11)\n",
      "memory usage: 6.6+ MB\n"
     ]
    }
   ],
   "source": [
    "df.info()"
   ]
  },
  {
   "cell_type": "code",
   "execution_count": 6,
   "id": "b625fd02-e580-4b90-a612-a27280b2a923",
   "metadata": {},
   "outputs": [
    {
     "data": {
      "text/html": [
       "<div>\n",
       "<style scoped>\n",
       "    .dataframe tbody tr th:only-of-type {\n",
       "        vertical-align: middle;\n",
       "    }\n",
       "\n",
       "    .dataframe tbody tr th {\n",
       "        vertical-align: top;\n",
       "    }\n",
       "\n",
       "    .dataframe thead th {\n",
       "        text-align: right;\n",
       "    }\n",
       "</style>\n",
       "<table border=\"1\" class=\"dataframe\">\n",
       "  <thead>\n",
       "    <tr style=\"text-align: right;\">\n",
       "      <th></th>\n",
       "      <th>age</th>\n",
       "      <th>duration</th>\n",
       "      <th>campaign</th>\n",
       "      <th>pdays</th>\n",
       "      <th>previous</th>\n",
       "      <th>emp.var.rate</th>\n",
       "      <th>cons.price.idx</th>\n",
       "      <th>cons.conf.idx</th>\n",
       "      <th>euribor3m</th>\n",
       "      <th>nr.employed</th>\n",
       "    </tr>\n",
       "  </thead>\n",
       "  <tbody>\n",
       "    <tr>\n",
       "      <th>count</th>\n",
       "      <td>41188.00000</td>\n",
       "      <td>41188.000000</td>\n",
       "      <td>41188.000000</td>\n",
       "      <td>41188.000000</td>\n",
       "      <td>41188.000000</td>\n",
       "      <td>41188.000000</td>\n",
       "      <td>41188.000000</td>\n",
       "      <td>41188.000000</td>\n",
       "      <td>41188.000000</td>\n",
       "      <td>41188.000000</td>\n",
       "    </tr>\n",
       "    <tr>\n",
       "      <th>mean</th>\n",
       "      <td>40.02406</td>\n",
       "      <td>258.285010</td>\n",
       "      <td>2.567593</td>\n",
       "      <td>962.475454</td>\n",
       "      <td>0.172963</td>\n",
       "      <td>0.081886</td>\n",
       "      <td>93.575664</td>\n",
       "      <td>-40.502600</td>\n",
       "      <td>3.621291</td>\n",
       "      <td>5167.035911</td>\n",
       "    </tr>\n",
       "    <tr>\n",
       "      <th>std</th>\n",
       "      <td>10.42125</td>\n",
       "      <td>259.279249</td>\n",
       "      <td>2.770014</td>\n",
       "      <td>186.910907</td>\n",
       "      <td>0.494901</td>\n",
       "      <td>1.570960</td>\n",
       "      <td>0.578840</td>\n",
       "      <td>4.628198</td>\n",
       "      <td>1.734447</td>\n",
       "      <td>72.251528</td>\n",
       "    </tr>\n",
       "    <tr>\n",
       "      <th>min</th>\n",
       "      <td>17.00000</td>\n",
       "      <td>0.000000</td>\n",
       "      <td>1.000000</td>\n",
       "      <td>0.000000</td>\n",
       "      <td>0.000000</td>\n",
       "      <td>-3.400000</td>\n",
       "      <td>92.201000</td>\n",
       "      <td>-50.800000</td>\n",
       "      <td>0.634000</td>\n",
       "      <td>4963.600000</td>\n",
       "    </tr>\n",
       "    <tr>\n",
       "      <th>25%</th>\n",
       "      <td>32.00000</td>\n",
       "      <td>102.000000</td>\n",
       "      <td>1.000000</td>\n",
       "      <td>999.000000</td>\n",
       "      <td>0.000000</td>\n",
       "      <td>-1.800000</td>\n",
       "      <td>93.075000</td>\n",
       "      <td>-42.700000</td>\n",
       "      <td>1.344000</td>\n",
       "      <td>5099.100000</td>\n",
       "    </tr>\n",
       "    <tr>\n",
       "      <th>50%</th>\n",
       "      <td>38.00000</td>\n",
       "      <td>180.000000</td>\n",
       "      <td>2.000000</td>\n",
       "      <td>999.000000</td>\n",
       "      <td>0.000000</td>\n",
       "      <td>1.100000</td>\n",
       "      <td>93.749000</td>\n",
       "      <td>-41.800000</td>\n",
       "      <td>4.857000</td>\n",
       "      <td>5191.000000</td>\n",
       "    </tr>\n",
       "    <tr>\n",
       "      <th>75%</th>\n",
       "      <td>47.00000</td>\n",
       "      <td>319.000000</td>\n",
       "      <td>3.000000</td>\n",
       "      <td>999.000000</td>\n",
       "      <td>0.000000</td>\n",
       "      <td>1.400000</td>\n",
       "      <td>93.994000</td>\n",
       "      <td>-36.400000</td>\n",
       "      <td>4.961000</td>\n",
       "      <td>5228.100000</td>\n",
       "    </tr>\n",
       "    <tr>\n",
       "      <th>max</th>\n",
       "      <td>98.00000</td>\n",
       "      <td>4918.000000</td>\n",
       "      <td>56.000000</td>\n",
       "      <td>999.000000</td>\n",
       "      <td>7.000000</td>\n",
       "      <td>1.400000</td>\n",
       "      <td>94.767000</td>\n",
       "      <td>-26.900000</td>\n",
       "      <td>5.045000</td>\n",
       "      <td>5228.100000</td>\n",
       "    </tr>\n",
       "  </tbody>\n",
       "</table>\n",
       "</div>"
      ],
      "text/plain": [
       "               age      duration      campaign         pdays      previous  \\\n",
       "count  41188.00000  41188.000000  41188.000000  41188.000000  41188.000000   \n",
       "mean      40.02406    258.285010      2.567593    962.475454      0.172963   \n",
       "std       10.42125    259.279249      2.770014    186.910907      0.494901   \n",
       "min       17.00000      0.000000      1.000000      0.000000      0.000000   \n",
       "25%       32.00000    102.000000      1.000000    999.000000      0.000000   \n",
       "50%       38.00000    180.000000      2.000000    999.000000      0.000000   \n",
       "75%       47.00000    319.000000      3.000000    999.000000      0.000000   \n",
       "max       98.00000   4918.000000     56.000000    999.000000      7.000000   \n",
       "\n",
       "       emp.var.rate  cons.price.idx  cons.conf.idx     euribor3m   nr.employed  \n",
       "count  41188.000000    41188.000000   41188.000000  41188.000000  41188.000000  \n",
       "mean       0.081886       93.575664     -40.502600      3.621291   5167.035911  \n",
       "std        1.570960        0.578840       4.628198      1.734447     72.251528  \n",
       "min       -3.400000       92.201000     -50.800000      0.634000   4963.600000  \n",
       "25%       -1.800000       93.075000     -42.700000      1.344000   5099.100000  \n",
       "50%        1.100000       93.749000     -41.800000      4.857000   5191.000000  \n",
       "75%        1.400000       93.994000     -36.400000      4.961000   5228.100000  \n",
       "max        1.400000       94.767000     -26.900000      5.045000   5228.100000  "
      ]
     },
     "execution_count": 6,
     "metadata": {},
     "output_type": "execute_result"
    }
   ],
   "source": [
    "df.describe()"
   ]
  },
  {
   "cell_type": "code",
   "execution_count": 7,
   "id": "b396af16-1cbc-4e15-baaa-32e48a9725dc",
   "metadata": {},
   "outputs": [
    {
     "data": {
      "text/plain": [
       "y                    2\n",
       "contact              2\n",
       "default              3\n",
       "housing              3\n",
       "loan                 3\n",
       "poutcome             3\n",
       "marital              4\n",
       "day_of_week          5\n",
       "education            8\n",
       "previous             8\n",
       "emp.var.rate        10\n",
       "month               10\n",
       "nr.employed         11\n",
       "job                 12\n",
       "cons.price.idx      26\n",
       "cons.conf.idx       26\n",
       "pdays               27\n",
       "campaign            42\n",
       "age                 78\n",
       "euribor3m          316\n",
       "duration          1544\n",
       "dtype: int64"
      ]
     },
     "execution_count": 7,
     "metadata": {},
     "output_type": "execute_result"
    }
   ],
   "source": [
    "df.nunique().sort_values()"
   ]
  },
  {
   "cell_type": "markdown",
   "id": "75160d04-7043-4f4b-b399-79a9f5bbf67f",
   "metadata": {},
   "source": [
    "There are no NaN values"
   ]
  },
  {
   "cell_type": "markdown",
   "id": "38704428-fb74-4230-9e9b-ca54cde03b74",
   "metadata": {
    "jp-MarkdownHeadingCollapsed": true
   },
   "source": [
    "## Checking for duplicates"
   ]
  },
  {
   "cell_type": "code",
   "execution_count": 10,
   "id": "fa8e21cf-5a45-402b-ad9a-601c721e7ff0",
   "metadata": {},
   "outputs": [
    {
     "data": {
      "text/plain": [
       "12"
      ]
     },
     "execution_count": 10,
     "metadata": {},
     "output_type": "execute_result"
    }
   ],
   "source": [
    "df.duplicated().sum()"
   ]
  },
  {
   "cell_type": "markdown",
   "id": "15c1a112-2207-4905-8ab7-35ed960d90cd",
   "metadata": {},
   "source": [
    "Seeing and droping duplicates:"
   ]
  },
  {
   "cell_type": "code",
   "execution_count": 12,
   "id": "4393c331-18aa-433c-a523-5ce71867ea05",
   "metadata": {},
   "outputs": [
    {
     "data": {
      "text/html": [
       "<div>\n",
       "<style scoped>\n",
       "    .dataframe tbody tr th:only-of-type {\n",
       "        vertical-align: middle;\n",
       "    }\n",
       "\n",
       "    .dataframe tbody tr th {\n",
       "        vertical-align: top;\n",
       "    }\n",
       "\n",
       "    .dataframe thead th {\n",
       "        text-align: right;\n",
       "    }\n",
       "</style>\n",
       "<table border=\"1\" class=\"dataframe\">\n",
       "  <thead>\n",
       "    <tr style=\"text-align: right;\">\n",
       "      <th></th>\n",
       "      <th>age</th>\n",
       "      <th>job</th>\n",
       "      <th>marital</th>\n",
       "      <th>education</th>\n",
       "      <th>default</th>\n",
       "      <th>housing</th>\n",
       "      <th>loan</th>\n",
       "      <th>contact</th>\n",
       "      <th>month</th>\n",
       "      <th>day_of_week</th>\n",
       "      <th>duration</th>\n",
       "      <th>campaign</th>\n",
       "      <th>pdays</th>\n",
       "      <th>previous</th>\n",
       "      <th>poutcome</th>\n",
       "      <th>emp.var.rate</th>\n",
       "      <th>cons.price.idx</th>\n",
       "      <th>cons.conf.idx</th>\n",
       "      <th>euribor3m</th>\n",
       "      <th>nr.employed</th>\n",
       "      <th>y</th>\n",
       "    </tr>\n",
       "  </thead>\n",
       "  <tbody>\n",
       "    <tr>\n",
       "      <th>1266</th>\n",
       "      <td>39</td>\n",
       "      <td>blue-collar</td>\n",
       "      <td>married</td>\n",
       "      <td>basic.6y</td>\n",
       "      <td>no</td>\n",
       "      <td>no</td>\n",
       "      <td>no</td>\n",
       "      <td>telephone</td>\n",
       "      <td>may</td>\n",
       "      <td>thu</td>\n",
       "      <td>124</td>\n",
       "      <td>1</td>\n",
       "      <td>999</td>\n",
       "      <td>0</td>\n",
       "      <td>nonexistent</td>\n",
       "      <td>1.1</td>\n",
       "      <td>93.994</td>\n",
       "      <td>-36.4</td>\n",
       "      <td>4.855</td>\n",
       "      <td>5191.0</td>\n",
       "      <td>no</td>\n",
       "    </tr>\n",
       "    <tr>\n",
       "      <th>12261</th>\n",
       "      <td>36</td>\n",
       "      <td>retired</td>\n",
       "      <td>married</td>\n",
       "      <td>unknown</td>\n",
       "      <td>no</td>\n",
       "      <td>no</td>\n",
       "      <td>no</td>\n",
       "      <td>telephone</td>\n",
       "      <td>jul</td>\n",
       "      <td>thu</td>\n",
       "      <td>88</td>\n",
       "      <td>1</td>\n",
       "      <td>999</td>\n",
       "      <td>0</td>\n",
       "      <td>nonexistent</td>\n",
       "      <td>1.4</td>\n",
       "      <td>93.918</td>\n",
       "      <td>-42.7</td>\n",
       "      <td>4.966</td>\n",
       "      <td>5228.1</td>\n",
       "      <td>no</td>\n",
       "    </tr>\n",
       "    <tr>\n",
       "      <th>14234</th>\n",
       "      <td>27</td>\n",
       "      <td>technician</td>\n",
       "      <td>single</td>\n",
       "      <td>professional.course</td>\n",
       "      <td>no</td>\n",
       "      <td>no</td>\n",
       "      <td>no</td>\n",
       "      <td>cellular</td>\n",
       "      <td>jul</td>\n",
       "      <td>mon</td>\n",
       "      <td>331</td>\n",
       "      <td>2</td>\n",
       "      <td>999</td>\n",
       "      <td>0</td>\n",
       "      <td>nonexistent</td>\n",
       "      <td>1.4</td>\n",
       "      <td>93.918</td>\n",
       "      <td>-42.7</td>\n",
       "      <td>4.962</td>\n",
       "      <td>5228.1</td>\n",
       "      <td>no</td>\n",
       "    </tr>\n",
       "    <tr>\n",
       "      <th>16956</th>\n",
       "      <td>47</td>\n",
       "      <td>technician</td>\n",
       "      <td>divorced</td>\n",
       "      <td>high.school</td>\n",
       "      <td>no</td>\n",
       "      <td>yes</td>\n",
       "      <td>no</td>\n",
       "      <td>cellular</td>\n",
       "      <td>jul</td>\n",
       "      <td>thu</td>\n",
       "      <td>43</td>\n",
       "      <td>3</td>\n",
       "      <td>999</td>\n",
       "      <td>0</td>\n",
       "      <td>nonexistent</td>\n",
       "      <td>1.4</td>\n",
       "      <td>93.918</td>\n",
       "      <td>-42.7</td>\n",
       "      <td>4.962</td>\n",
       "      <td>5228.1</td>\n",
       "      <td>no</td>\n",
       "    </tr>\n",
       "    <tr>\n",
       "      <th>18465</th>\n",
       "      <td>32</td>\n",
       "      <td>technician</td>\n",
       "      <td>single</td>\n",
       "      <td>professional.course</td>\n",
       "      <td>no</td>\n",
       "      <td>yes</td>\n",
       "      <td>no</td>\n",
       "      <td>cellular</td>\n",
       "      <td>jul</td>\n",
       "      <td>thu</td>\n",
       "      <td>128</td>\n",
       "      <td>1</td>\n",
       "      <td>999</td>\n",
       "      <td>0</td>\n",
       "      <td>nonexistent</td>\n",
       "      <td>1.4</td>\n",
       "      <td>93.918</td>\n",
       "      <td>-42.7</td>\n",
       "      <td>4.968</td>\n",
       "      <td>5228.1</td>\n",
       "      <td>no</td>\n",
       "    </tr>\n",
       "    <tr>\n",
       "      <th>20216</th>\n",
       "      <td>55</td>\n",
       "      <td>services</td>\n",
       "      <td>married</td>\n",
       "      <td>high.school</td>\n",
       "      <td>unknown</td>\n",
       "      <td>no</td>\n",
       "      <td>no</td>\n",
       "      <td>cellular</td>\n",
       "      <td>aug</td>\n",
       "      <td>mon</td>\n",
       "      <td>33</td>\n",
       "      <td>1</td>\n",
       "      <td>999</td>\n",
       "      <td>0</td>\n",
       "      <td>nonexistent</td>\n",
       "      <td>1.4</td>\n",
       "      <td>93.444</td>\n",
       "      <td>-36.1</td>\n",
       "      <td>4.965</td>\n",
       "      <td>5228.1</td>\n",
       "      <td>no</td>\n",
       "    </tr>\n",
       "    <tr>\n",
       "      <th>20534</th>\n",
       "      <td>41</td>\n",
       "      <td>technician</td>\n",
       "      <td>married</td>\n",
       "      <td>professional.course</td>\n",
       "      <td>no</td>\n",
       "      <td>yes</td>\n",
       "      <td>no</td>\n",
       "      <td>cellular</td>\n",
       "      <td>aug</td>\n",
       "      <td>tue</td>\n",
       "      <td>127</td>\n",
       "      <td>1</td>\n",
       "      <td>999</td>\n",
       "      <td>0</td>\n",
       "      <td>nonexistent</td>\n",
       "      <td>1.4</td>\n",
       "      <td>93.444</td>\n",
       "      <td>-36.1</td>\n",
       "      <td>4.966</td>\n",
       "      <td>5228.1</td>\n",
       "      <td>no</td>\n",
       "    </tr>\n",
       "    <tr>\n",
       "      <th>25217</th>\n",
       "      <td>39</td>\n",
       "      <td>admin.</td>\n",
       "      <td>married</td>\n",
       "      <td>university.degree</td>\n",
       "      <td>no</td>\n",
       "      <td>no</td>\n",
       "      <td>no</td>\n",
       "      <td>cellular</td>\n",
       "      <td>nov</td>\n",
       "      <td>tue</td>\n",
       "      <td>123</td>\n",
       "      <td>2</td>\n",
       "      <td>999</td>\n",
       "      <td>0</td>\n",
       "      <td>nonexistent</td>\n",
       "      <td>-0.1</td>\n",
       "      <td>93.200</td>\n",
       "      <td>-42.0</td>\n",
       "      <td>4.153</td>\n",
       "      <td>5195.8</td>\n",
       "      <td>no</td>\n",
       "    </tr>\n",
       "    <tr>\n",
       "      <th>28477</th>\n",
       "      <td>24</td>\n",
       "      <td>services</td>\n",
       "      <td>single</td>\n",
       "      <td>high.school</td>\n",
       "      <td>no</td>\n",
       "      <td>yes</td>\n",
       "      <td>no</td>\n",
       "      <td>cellular</td>\n",
       "      <td>apr</td>\n",
       "      <td>tue</td>\n",
       "      <td>114</td>\n",
       "      <td>1</td>\n",
       "      <td>999</td>\n",
       "      <td>0</td>\n",
       "      <td>nonexistent</td>\n",
       "      <td>-1.8</td>\n",
       "      <td>93.075</td>\n",
       "      <td>-47.1</td>\n",
       "      <td>1.423</td>\n",
       "      <td>5099.1</td>\n",
       "      <td>no</td>\n",
       "    </tr>\n",
       "    <tr>\n",
       "      <th>32516</th>\n",
       "      <td>35</td>\n",
       "      <td>admin.</td>\n",
       "      <td>married</td>\n",
       "      <td>university.degree</td>\n",
       "      <td>no</td>\n",
       "      <td>yes</td>\n",
       "      <td>no</td>\n",
       "      <td>cellular</td>\n",
       "      <td>may</td>\n",
       "      <td>fri</td>\n",
       "      <td>348</td>\n",
       "      <td>4</td>\n",
       "      <td>999</td>\n",
       "      <td>0</td>\n",
       "      <td>nonexistent</td>\n",
       "      <td>-1.8</td>\n",
       "      <td>92.893</td>\n",
       "      <td>-46.2</td>\n",
       "      <td>1.313</td>\n",
       "      <td>5099.1</td>\n",
       "      <td>no</td>\n",
       "    </tr>\n",
       "    <tr>\n",
       "      <th>36951</th>\n",
       "      <td>45</td>\n",
       "      <td>admin.</td>\n",
       "      <td>married</td>\n",
       "      <td>university.degree</td>\n",
       "      <td>no</td>\n",
       "      <td>no</td>\n",
       "      <td>no</td>\n",
       "      <td>cellular</td>\n",
       "      <td>jul</td>\n",
       "      <td>thu</td>\n",
       "      <td>252</td>\n",
       "      <td>1</td>\n",
       "      <td>999</td>\n",
       "      <td>0</td>\n",
       "      <td>nonexistent</td>\n",
       "      <td>-2.9</td>\n",
       "      <td>92.469</td>\n",
       "      <td>-33.6</td>\n",
       "      <td>1.072</td>\n",
       "      <td>5076.2</td>\n",
       "      <td>yes</td>\n",
       "    </tr>\n",
       "    <tr>\n",
       "      <th>38281</th>\n",
       "      <td>71</td>\n",
       "      <td>retired</td>\n",
       "      <td>single</td>\n",
       "      <td>university.degree</td>\n",
       "      <td>no</td>\n",
       "      <td>no</td>\n",
       "      <td>no</td>\n",
       "      <td>telephone</td>\n",
       "      <td>oct</td>\n",
       "      <td>tue</td>\n",
       "      <td>120</td>\n",
       "      <td>1</td>\n",
       "      <td>999</td>\n",
       "      <td>0</td>\n",
       "      <td>nonexistent</td>\n",
       "      <td>-3.4</td>\n",
       "      <td>92.431</td>\n",
       "      <td>-26.9</td>\n",
       "      <td>0.742</td>\n",
       "      <td>5017.5</td>\n",
       "      <td>no</td>\n",
       "    </tr>\n",
       "  </tbody>\n",
       "</table>\n",
       "</div>"
      ],
      "text/plain": [
       "       age          job   marital            education  default housing loan  \\\n",
       "1266    39  blue-collar   married             basic.6y       no      no   no   \n",
       "12261   36      retired   married              unknown       no      no   no   \n",
       "14234   27   technician    single  professional.course       no      no   no   \n",
       "16956   47   technician  divorced          high.school       no     yes   no   \n",
       "18465   32   technician    single  professional.course       no     yes   no   \n",
       "20216   55     services   married          high.school  unknown      no   no   \n",
       "20534   41   technician   married  professional.course       no     yes   no   \n",
       "25217   39       admin.   married    university.degree       no      no   no   \n",
       "28477   24     services    single          high.school       no     yes   no   \n",
       "32516   35       admin.   married    university.degree       no     yes   no   \n",
       "36951   45       admin.   married    university.degree       no      no   no   \n",
       "38281   71      retired    single    university.degree       no      no   no   \n",
       "\n",
       "         contact month day_of_week  duration  campaign  pdays  previous  \\\n",
       "1266   telephone   may         thu       124         1    999         0   \n",
       "12261  telephone   jul         thu        88         1    999         0   \n",
       "14234   cellular   jul         mon       331         2    999         0   \n",
       "16956   cellular   jul         thu        43         3    999         0   \n",
       "18465   cellular   jul         thu       128         1    999         0   \n",
       "20216   cellular   aug         mon        33         1    999         0   \n",
       "20534   cellular   aug         tue       127         1    999         0   \n",
       "25217   cellular   nov         tue       123         2    999         0   \n",
       "28477   cellular   apr         tue       114         1    999         0   \n",
       "32516   cellular   may         fri       348         4    999         0   \n",
       "36951   cellular   jul         thu       252         1    999         0   \n",
       "38281  telephone   oct         tue       120         1    999         0   \n",
       "\n",
       "          poutcome  emp.var.rate  cons.price.idx  cons.conf.idx  euribor3m  \\\n",
       "1266   nonexistent           1.1          93.994          -36.4      4.855   \n",
       "12261  nonexistent           1.4          93.918          -42.7      4.966   \n",
       "14234  nonexistent           1.4          93.918          -42.7      4.962   \n",
       "16956  nonexistent           1.4          93.918          -42.7      4.962   \n",
       "18465  nonexistent           1.4          93.918          -42.7      4.968   \n",
       "20216  nonexistent           1.4          93.444          -36.1      4.965   \n",
       "20534  nonexistent           1.4          93.444          -36.1      4.966   \n",
       "25217  nonexistent          -0.1          93.200          -42.0      4.153   \n",
       "28477  nonexistent          -1.8          93.075          -47.1      1.423   \n",
       "32516  nonexistent          -1.8          92.893          -46.2      1.313   \n",
       "36951  nonexistent          -2.9          92.469          -33.6      1.072   \n",
       "38281  nonexistent          -3.4          92.431          -26.9      0.742   \n",
       "\n",
       "       nr.employed    y  \n",
       "1266        5191.0   no  \n",
       "12261       5228.1   no  \n",
       "14234       5228.1   no  \n",
       "16956       5228.1   no  \n",
       "18465       5228.1   no  \n",
       "20216       5228.1   no  \n",
       "20534       5228.1   no  \n",
       "25217       5195.8   no  \n",
       "28477       5099.1   no  \n",
       "32516       5099.1   no  \n",
       "36951       5076.2  yes  \n",
       "38281       5017.5   no  "
      ]
     },
     "execution_count": 12,
     "metadata": {},
     "output_type": "execute_result"
    }
   ],
   "source": [
    "df.loc[df.duplicated(), :]"
   ]
  },
  {
   "cell_type": "code",
   "execution_count": 13,
   "id": "19c1ebe7-5b56-42bb-a0e8-071dc888f24e",
   "metadata": {},
   "outputs": [],
   "source": [
    "df.drop_duplicates(keep='first', inplace=True)"
   ]
  },
  {
   "cell_type": "code",
   "execution_count": 14,
   "id": "2af765cc-a0db-4e5c-a99c-328ceebba8bd",
   "metadata": {},
   "outputs": [],
   "source": [
    "cols_to_drop = []"
   ]
  },
  {
   "cell_type": "markdown",
   "id": "5e5915d4-acec-468d-98e7-f95785b50515",
   "metadata": {
    "jp-MarkdownHeadingCollapsed": true
   },
   "source": [
    "## Target column"
   ]
  },
  {
   "cell_type": "code",
   "execution_count": 16,
   "id": "4a256122-42a3-4506-b5de-8e7395465a61",
   "metadata": {},
   "outputs": [
    {
     "data": {
      "text/plain": [
       "y\n",
       "no     0.887337\n",
       "yes    0.112663\n",
       "Name: proportion, dtype: float64"
      ]
     },
     "execution_count": 16,
     "metadata": {},
     "output_type": "execute_result"
    }
   ],
   "source": [
    "df.y.value_counts(normalize=True)"
   ]
  },
  {
   "cell_type": "markdown",
   "id": "3fed0424-01d3-427e-b7e1-13ed884f0c2d",
   "metadata": {},
   "source": [
    "This shows class imbalance ( 11 % YES, 89% NO) "
   ]
  },
  {
   "cell_type": "markdown",
   "id": "447f8eaf-c0e5-406b-bd6b-bff3adbe806a",
   "metadata": {
    "jp-MarkdownHeadingCollapsed": true
   },
   "source": [
    "## Numerical columns"
   ]
  },
  {
   "cell_type": "code",
   "execution_count": 19,
   "id": "dfa3af7f-bbc8-4162-b9f9-639c581458f6",
   "metadata": {},
   "outputs": [
    {
     "data": {
      "text/plain": [
       "['age',\n",
       " 'duration',\n",
       " 'campaign',\n",
       " 'pdays',\n",
       " 'previous',\n",
       " 'emp.var.rate',\n",
       " 'cons.price.idx',\n",
       " 'cons.conf.idx',\n",
       " 'euribor3m',\n",
       " 'nr.employed']"
      ]
     },
     "execution_count": 19,
     "metadata": {},
     "output_type": "execute_result"
    }
   ],
   "source": [
    "numerical_cols = df.select_dtypes(include=['int64', 'float64']).columns.tolist()\n",
    "numerical_cols"
   ]
  },
  {
   "cell_type": "code",
   "execution_count": 20,
   "id": "4fa5cb78-fd9d-4e13-9d96-0f7138703d80",
   "metadata": {},
   "outputs": [
    {
     "data": {
      "text/html": [
       "<div>\n",
       "<style scoped>\n",
       "    .dataframe tbody tr th:only-of-type {\n",
       "        vertical-align: middle;\n",
       "    }\n",
       "\n",
       "    .dataframe tbody tr th {\n",
       "        vertical-align: top;\n",
       "    }\n",
       "\n",
       "    .dataframe thead th {\n",
       "        text-align: right;\n",
       "    }\n",
       "</style>\n",
       "<table border=\"1\" class=\"dataframe\">\n",
       "  <thead>\n",
       "    <tr style=\"text-align: right;\">\n",
       "      <th></th>\n",
       "      <th>count</th>\n",
       "      <th>mean</th>\n",
       "      <th>std</th>\n",
       "      <th>min</th>\n",
       "      <th>25%</th>\n",
       "      <th>50%</th>\n",
       "      <th>75%</th>\n",
       "      <th>max</th>\n",
       "      <th>range</th>\n",
       "      <th>skewnes_hint</th>\n",
       "    </tr>\n",
       "  </thead>\n",
       "  <tbody>\n",
       "    <tr>\n",
       "      <th>age</th>\n",
       "      <td>41176.0</td>\n",
       "      <td>40.023800</td>\n",
       "      <td>10.420680</td>\n",
       "      <td>17.000</td>\n",
       "      <td>32.000</td>\n",
       "      <td>38.000</td>\n",
       "      <td>47.000</td>\n",
       "      <td>98.000</td>\n",
       "      <td>81.000</td>\n",
       "      <td>2.023800</td>\n",
       "    </tr>\n",
       "    <tr>\n",
       "      <th>duration</th>\n",
       "      <td>41176.0</td>\n",
       "      <td>258.315815</td>\n",
       "      <td>259.305321</td>\n",
       "      <td>0.000</td>\n",
       "      <td>102.000</td>\n",
       "      <td>180.000</td>\n",
       "      <td>319.000</td>\n",
       "      <td>4918.000</td>\n",
       "      <td>4918.000</td>\n",
       "      <td>78.315815</td>\n",
       "    </tr>\n",
       "    <tr>\n",
       "      <th>campaign</th>\n",
       "      <td>41176.0</td>\n",
       "      <td>2.567879</td>\n",
       "      <td>2.770318</td>\n",
       "      <td>1.000</td>\n",
       "      <td>1.000</td>\n",
       "      <td>2.000</td>\n",
       "      <td>3.000</td>\n",
       "      <td>56.000</td>\n",
       "      <td>55.000</td>\n",
       "      <td>0.567879</td>\n",
       "    </tr>\n",
       "    <tr>\n",
       "      <th>pdays</th>\n",
       "      <td>41176.0</td>\n",
       "      <td>962.464810</td>\n",
       "      <td>186.937102</td>\n",
       "      <td>0.000</td>\n",
       "      <td>999.000</td>\n",
       "      <td>999.000</td>\n",
       "      <td>999.000</td>\n",
       "      <td>999.000</td>\n",
       "      <td>999.000</td>\n",
       "      <td>-36.535190</td>\n",
       "    </tr>\n",
       "    <tr>\n",
       "      <th>previous</th>\n",
       "      <td>41176.0</td>\n",
       "      <td>0.173013</td>\n",
       "      <td>0.494964</td>\n",
       "      <td>0.000</td>\n",
       "      <td>0.000</td>\n",
       "      <td>0.000</td>\n",
       "      <td>0.000</td>\n",
       "      <td>7.000</td>\n",
       "      <td>7.000</td>\n",
       "      <td>0.173013</td>\n",
       "    </tr>\n",
       "    <tr>\n",
       "      <th>emp.var.rate</th>\n",
       "      <td>41176.0</td>\n",
       "      <td>0.081922</td>\n",
       "      <td>1.570883</td>\n",
       "      <td>-3.400</td>\n",
       "      <td>-1.800</td>\n",
       "      <td>1.100</td>\n",
       "      <td>1.400</td>\n",
       "      <td>1.400</td>\n",
       "      <td>4.800</td>\n",
       "      <td>-1.018078</td>\n",
       "    </tr>\n",
       "    <tr>\n",
       "      <th>cons.price.idx</th>\n",
       "      <td>41176.0</td>\n",
       "      <td>93.575720</td>\n",
       "      <td>0.578839</td>\n",
       "      <td>92.201</td>\n",
       "      <td>93.075</td>\n",
       "      <td>93.749</td>\n",
       "      <td>93.994</td>\n",
       "      <td>94.767</td>\n",
       "      <td>2.566</td>\n",
       "      <td>-0.173280</td>\n",
       "    </tr>\n",
       "    <tr>\n",
       "      <th>cons.conf.idx</th>\n",
       "      <td>41176.0</td>\n",
       "      <td>-40.502863</td>\n",
       "      <td>4.627860</td>\n",
       "      <td>-50.800</td>\n",
       "      <td>-42.700</td>\n",
       "      <td>-41.800</td>\n",
       "      <td>-36.400</td>\n",
       "      <td>-26.900</td>\n",
       "      <td>23.900</td>\n",
       "      <td>1.297137</td>\n",
       "    </tr>\n",
       "    <tr>\n",
       "      <th>euribor3m</th>\n",
       "      <td>41176.0</td>\n",
       "      <td>3.621293</td>\n",
       "      <td>1.734437</td>\n",
       "      <td>0.634</td>\n",
       "      <td>1.344</td>\n",
       "      <td>4.857</td>\n",
       "      <td>4.961</td>\n",
       "      <td>5.045</td>\n",
       "      <td>4.411</td>\n",
       "      <td>-1.235707</td>\n",
       "    </tr>\n",
       "    <tr>\n",
       "      <th>nr.employed</th>\n",
       "      <td>41176.0</td>\n",
       "      <td>5167.034870</td>\n",
       "      <td>72.251364</td>\n",
       "      <td>4963.600</td>\n",
       "      <td>5099.100</td>\n",
       "      <td>5191.000</td>\n",
       "      <td>5228.100</td>\n",
       "      <td>5228.100</td>\n",
       "      <td>264.500</td>\n",
       "      <td>-23.965130</td>\n",
       "    </tr>\n",
       "  </tbody>\n",
       "</table>\n",
       "</div>"
      ],
      "text/plain": [
       "                  count         mean         std       min       25%  \\\n",
       "age             41176.0    40.023800   10.420680    17.000    32.000   \n",
       "duration        41176.0   258.315815  259.305321     0.000   102.000   \n",
       "campaign        41176.0     2.567879    2.770318     1.000     1.000   \n",
       "pdays           41176.0   962.464810  186.937102     0.000   999.000   \n",
       "previous        41176.0     0.173013    0.494964     0.000     0.000   \n",
       "emp.var.rate    41176.0     0.081922    1.570883    -3.400    -1.800   \n",
       "cons.price.idx  41176.0    93.575720    0.578839    92.201    93.075   \n",
       "cons.conf.idx   41176.0   -40.502863    4.627860   -50.800   -42.700   \n",
       "euribor3m       41176.0     3.621293    1.734437     0.634     1.344   \n",
       "nr.employed     41176.0  5167.034870   72.251364  4963.600  5099.100   \n",
       "\n",
       "                     50%       75%       max     range  skewnes_hint  \n",
       "age               38.000    47.000    98.000    81.000      2.023800  \n",
       "duration         180.000   319.000  4918.000  4918.000     78.315815  \n",
       "campaign           2.000     3.000    56.000    55.000      0.567879  \n",
       "pdays            999.000   999.000   999.000   999.000    -36.535190  \n",
       "previous           0.000     0.000     7.000     7.000      0.173013  \n",
       "emp.var.rate       1.100     1.400     1.400     4.800     -1.018078  \n",
       "cons.price.idx    93.749    93.994    94.767     2.566     -0.173280  \n",
       "cons.conf.idx    -41.800   -36.400   -26.900    23.900      1.297137  \n",
       "euribor3m          4.857     4.961     5.045     4.411     -1.235707  \n",
       "nr.employed     5191.000  5228.100  5228.100   264.500    -23.965130  "
      ]
     },
     "execution_count": 20,
     "metadata": {},
     "output_type": "execute_result"
    }
   ],
   "source": [
    "describe_df = df.describe().T\n",
    "describe_df['range'] = describe_df['max'] - describe_df['min']\n",
    "describe_df['skewnes_hint'] = describe_df['mean'] - describe_df['50%']\n",
    "describe_df"
   ]
  },
  {
   "cell_type": "markdown",
   "id": "640176ce-ed05-4fec-8e3f-091d86981da3",
   "metadata": {
    "jp-MarkdownHeadingCollapsed": true
   },
   "source": [
    "### Age column"
   ]
  },
  {
   "cell_type": "markdown",
   "id": "b21cdcdf-d74a-475c-bf00-ccd2255983eb",
   "metadata": {},
   "source": [
    "Range = 81 is big. Mean and median are close.\n",
    "Max = 98 is too old, but it can be. \n",
    "Min = 17, it's okay, bank can have young client."
   ]
  },
  {
   "cell_type": "markdown",
   "id": "51c0f3b9-954e-4394-a62e-d8829df52bcf",
   "metadata": {},
   "source": [
    "Let's look at histogram and boxpolot"
   ]
  },
  {
   "cell_type": "code",
   "execution_count": 24,
   "id": "91156766-607d-4bf7-8c8a-2bf588021d03",
   "metadata": {},
   "outputs": [
    {
     "data": {
      "image/png": "[encoded data removed]",
      "text/plain": [
       "<Figure size 640x480 with 1 Axes>"
      ]
     },
     "metadata": {},
     "output_type": "display_data"
    }
   ],
   "source": [
    "df.age.hist(bins=25)\n",
    "plt.show()"
   ]
  },
  {
   "cell_type": "markdown",
   "id": "39d152e0-151d-481a-8856-2980fade9e05",
   "metadata": {},
   "source": [
    "Right skewness - most values are left. I will decide later if I want to transform it."
   ]
  },
  {
   "cell_type": "code",
   "execution_count": 26,
   "id": "a49c19a0-3913-471f-aa42-4db10dfa9454",
   "metadata": {},
   "outputs": [
    {
     "data": {
      "image/png": "[encoded data removed]",
      "text/plain": [
       "<Figure size 640x480 with 1 Axes>"
      ]
     },
     "metadata": {},
     "output_type": "display_data"
    }
   ],
   "source": [
    "df.age.plot(kind='box')\n",
    "plt.show()"
   ]
  },
  {
   "cell_type": "markdown",
   "id": "818b611c-69b6-400f-b9e9-0b995fbd470a",
   "metadata": {},
   "source": [
    "There are a lot outliers, but I'm gonna leave them"
   ]
  },
  {
   "cell_type": "markdown",
   "id": "6507ba50-e661-41bf-8c60-eb2992dd6594",
   "metadata": {
    "jp-MarkdownHeadingCollapsed": true
   },
   "source": [
    "### Duration column - last contact duration, in seconds"
   ]
  },
  {
   "cell_type": "markdown",
   "id": "8e690edb-f416-49e6-978c-c00dff9b49e6",
   "metadata": {},
   "source": [
    "This attribute highly affects the output target (e.g., if duration=0 then y=\"no\"). Even if there is no zero, the duration is still too highly correlated with the target – longer conversation → more likely yes. It is not a \"natural\" connection but a consequence of campaign logic (eg. the agent talks longer if the client is interested).\n",
    "Model using duration can learn the target directly, leading to unrealistically high accuracy on the training set—but poor generalization. I will drop this column later."
   ]
  },
  {
   "cell_type": "code",
   "execution_count": 30,
   "id": "6002333d-665c-4b76-befc-d04ab8441974",
   "metadata": {},
   "outputs": [
    {
     "data": {
      "image/png": "[encoded data removed]",
      "text/plain": [
       "<Figure size 640x480 with 1 Axes>"
      ]
     },
     "metadata": {},
     "output_type": "display_data"
    }
   ],
   "source": [
    "df.duration.hist(bins=50)\n",
    "plt.show()"
   ]
  },
  {
   "cell_type": "code",
   "execution_count": 31,
   "id": "831ad07c-a040-41ab-8012-d30a617bbcd3",
   "metadata": {},
   "outputs": [
    {
     "data": {
      "image/png": "[encoded data removed]",
      "text/plain": [
       "<Figure size 640x480 with 1 Axes>"
      ]
     },
     "metadata": {},
     "output_type": "display_data"
    }
   ],
   "source": [
    "df.duration.plot(kind='box')\n",
    "plt.show()"
   ]
  },
  {
   "cell_type": "code",
   "execution_count": 32,
   "id": "0bfa7a3a-9e8e-4ccf-9e61-9584aeefcd49",
   "metadata": {},
   "outputs": [
    {
     "data": {
      "text/html": [
       "<div>\n",
       "<style scoped>\n",
       "    .dataframe tbody tr th:only-of-type {\n",
       "        vertical-align: middle;\n",
       "    }\n",
       "\n",
       "    .dataframe tbody tr th {\n",
       "        vertical-align: top;\n",
       "    }\n",
       "\n",
       "    .dataframe thead th {\n",
       "        text-align: right;\n",
       "    }\n",
       "</style>\n",
       "<table border=\"1\" class=\"dataframe\">\n",
       "  <thead>\n",
       "    <tr style=\"text-align: right;\">\n",
       "      <th></th>\n",
       "      <th>age</th>\n",
       "      <th>job</th>\n",
       "      <th>marital</th>\n",
       "      <th>education</th>\n",
       "      <th>default</th>\n",
       "      <th>housing</th>\n",
       "      <th>loan</th>\n",
       "      <th>contact</th>\n",
       "      <th>month</th>\n",
       "      <th>day_of_week</th>\n",
       "      <th>duration</th>\n",
       "      <th>campaign</th>\n",
       "      <th>pdays</th>\n",
       "      <th>previous</th>\n",
       "      <th>poutcome</th>\n",
       "      <th>emp.var.rate</th>\n",
       "      <th>cons.price.idx</th>\n",
       "      <th>cons.conf.idx</th>\n",
       "      <th>euribor3m</th>\n",
       "      <th>nr.employed</th>\n",
       "      <th>y</th>\n",
       "    </tr>\n",
       "  </thead>\n",
       "  <tbody>\n",
       "    <tr>\n",
       "      <th>6251</th>\n",
       "      <td>39</td>\n",
       "      <td>admin.</td>\n",
       "      <td>married</td>\n",
       "      <td>high.school</td>\n",
       "      <td>no</td>\n",
       "      <td>yes</td>\n",
       "      <td>no</td>\n",
       "      <td>telephone</td>\n",
       "      <td>may</td>\n",
       "      <td>tue</td>\n",
       "      <td>0</td>\n",
       "      <td>4</td>\n",
       "      <td>999</td>\n",
       "      <td>0</td>\n",
       "      <td>nonexistent</td>\n",
       "      <td>1.1</td>\n",
       "      <td>93.994</td>\n",
       "      <td>-36.4</td>\n",
       "      <td>4.857</td>\n",
       "      <td>5191.0</td>\n",
       "      <td>no</td>\n",
       "    </tr>\n",
       "    <tr>\n",
       "      <th>23031</th>\n",
       "      <td>59</td>\n",
       "      <td>management</td>\n",
       "      <td>married</td>\n",
       "      <td>university.degree</td>\n",
       "      <td>no</td>\n",
       "      <td>yes</td>\n",
       "      <td>no</td>\n",
       "      <td>cellular</td>\n",
       "      <td>aug</td>\n",
       "      <td>tue</td>\n",
       "      <td>0</td>\n",
       "      <td>10</td>\n",
       "      <td>999</td>\n",
       "      <td>0</td>\n",
       "      <td>nonexistent</td>\n",
       "      <td>1.4</td>\n",
       "      <td>93.444</td>\n",
       "      <td>-36.1</td>\n",
       "      <td>4.965</td>\n",
       "      <td>5228.1</td>\n",
       "      <td>no</td>\n",
       "    </tr>\n",
       "    <tr>\n",
       "      <th>28063</th>\n",
       "      <td>53</td>\n",
       "      <td>blue-collar</td>\n",
       "      <td>divorced</td>\n",
       "      <td>high.school</td>\n",
       "      <td>no</td>\n",
       "      <td>yes</td>\n",
       "      <td>no</td>\n",
       "      <td>cellular</td>\n",
       "      <td>apr</td>\n",
       "      <td>fri</td>\n",
       "      <td>0</td>\n",
       "      <td>3</td>\n",
       "      <td>999</td>\n",
       "      <td>0</td>\n",
       "      <td>nonexistent</td>\n",
       "      <td>-1.8</td>\n",
       "      <td>93.075</td>\n",
       "      <td>-47.1</td>\n",
       "      <td>1.479</td>\n",
       "      <td>5099.1</td>\n",
       "      <td>no</td>\n",
       "    </tr>\n",
       "    <tr>\n",
       "      <th>33015</th>\n",
       "      <td>31</td>\n",
       "      <td>blue-collar</td>\n",
       "      <td>married</td>\n",
       "      <td>basic.9y</td>\n",
       "      <td>no</td>\n",
       "      <td>no</td>\n",
       "      <td>no</td>\n",
       "      <td>cellular</td>\n",
       "      <td>may</td>\n",
       "      <td>mon</td>\n",
       "      <td>0</td>\n",
       "      <td>2</td>\n",
       "      <td>999</td>\n",
       "      <td>0</td>\n",
       "      <td>nonexistent</td>\n",
       "      <td>-1.8</td>\n",
       "      <td>92.893</td>\n",
       "      <td>-46.2</td>\n",
       "      <td>1.299</td>\n",
       "      <td>5099.1</td>\n",
       "      <td>no</td>\n",
       "    </tr>\n",
       "  </tbody>\n",
       "</table>\n",
       "</div>"
      ],
      "text/plain": [
       "       age          job   marital          education default housing loan  \\\n",
       "6251    39       admin.   married        high.school      no     yes   no   \n",
       "23031   59   management   married  university.degree      no     yes   no   \n",
       "28063   53  blue-collar  divorced        high.school      no     yes   no   \n",
       "33015   31  blue-collar   married           basic.9y      no      no   no   \n",
       "\n",
       "         contact month day_of_week  duration  campaign  pdays  previous  \\\n",
       "6251   telephone   may         tue         0         4    999         0   \n",
       "23031   cellular   aug         tue         0        10    999         0   \n",
       "28063   cellular   apr         fri         0         3    999         0   \n",
       "33015   cellular   may         mon         0         2    999         0   \n",
       "\n",
       "          poutcome  emp.var.rate  cons.price.idx  cons.conf.idx  euribor3m  \\\n",
       "6251   nonexistent           1.1          93.994          -36.4      4.857   \n",
       "23031  nonexistent           1.4          93.444          -36.1      4.965   \n",
       "28063  nonexistent          -1.8          93.075          -47.1      1.479   \n",
       "33015  nonexistent          -1.8          92.893          -46.2      1.299   \n",
       "\n",
       "       nr.employed   y  \n",
       "6251        5191.0  no  \n",
       "23031       5228.1  no  \n",
       "28063       5099.1  no  \n",
       "33015       5099.1  no  "
      ]
     },
     "execution_count": 32,
     "metadata": {},
     "output_type": "execute_result"
    }
   ],
   "source": [
    "df[df.duration == 0]"
   ]
  },
  {
   "cell_type": "code",
   "execution_count": 33,
   "id": "2e923788-99dd-4310-a5e3-9e906d8abd15",
   "metadata": {},
   "outputs": [
    {
     "data": {
      "text/html": [
       "<div>\n",
       "<style scoped>\n",
       "    .dataframe tbody tr th:only-of-type {\n",
       "        vertical-align: middle;\n",
       "    }\n",
       "\n",
       "    .dataframe tbody tr th {\n",
       "        vertical-align: top;\n",
       "    }\n",
       "\n",
       "    .dataframe thead th {\n",
       "        text-align: right;\n",
       "    }\n",
       "</style>\n",
       "<table border=\"1\" class=\"dataframe\">\n",
       "  <thead>\n",
       "    <tr style=\"text-align: right;\">\n",
       "      <th></th>\n",
       "      <th>count</th>\n",
       "      <th>mean</th>\n",
       "      <th>std</th>\n",
       "      <th>min</th>\n",
       "      <th>25%</th>\n",
       "      <th>50%</th>\n",
       "      <th>75%</th>\n",
       "      <th>max</th>\n",
       "    </tr>\n",
       "    <tr>\n",
       "      <th>y</th>\n",
       "      <th></th>\n",
       "      <th></th>\n",
       "      <th></th>\n",
       "      <th></th>\n",
       "      <th></th>\n",
       "      <th></th>\n",
       "      <th></th>\n",
       "      <th></th>\n",
       "    </tr>\n",
       "  </thead>\n",
       "  <tbody>\n",
       "    <tr>\n",
       "      <th>no</th>\n",
       "      <td>36537.0</td>\n",
       "      <td>220.868079</td>\n",
       "      <td>207.116178</td>\n",
       "      <td>0.0</td>\n",
       "      <td>95.0</td>\n",
       "      <td>164.0</td>\n",
       "      <td>279.0</td>\n",
       "      <td>4918.0</td>\n",
       "    </tr>\n",
       "    <tr>\n",
       "      <th>yes</th>\n",
       "      <td>4639.0</td>\n",
       "      <td>553.256090</td>\n",
       "      <td>401.190736</td>\n",
       "      <td>37.0</td>\n",
       "      <td>253.5</td>\n",
       "      <td>449.0</td>\n",
       "      <td>741.5</td>\n",
       "      <td>4199.0</td>\n",
       "    </tr>\n",
       "  </tbody>\n",
       "</table>\n",
       "</div>"
      ],
      "text/plain": [
       "       count        mean         std   min    25%    50%    75%     max\n",
       "y                                                                      \n",
       "no   36537.0  220.868079  207.116178   0.0   95.0  164.0  279.0  4918.0\n",
       "yes   4639.0  553.256090  401.190736  37.0  253.5  449.0  741.5  4199.0"
      ]
     },
     "execution_count": 33,
     "metadata": {},
     "output_type": "execute_result"
    }
   ],
   "source": [
    "df.groupby('y').duration.describe()"
   ]
  },
  {
   "cell_type": "markdown",
   "id": "5018c90a-acec-4ff2-aa31-f76e5c1e38e1",
   "metadata": {},
   "source": [
    "Duration of calls when client says YES last twice as long as when client say NO. Median is almost three times larger for y=YES (449s) than y=NO (163.5).\n",
    "Let's see distributons."
   ]
  },
  {
   "cell_type": "code",
   "execution_count": 35,
   "id": "e24fe522-7ffc-4570-99bf-003f0f5ab3c1",
   "metadata": {},
   "outputs": [
    {
     "data": {
      "image/png": "[encoded data removed]",
      "text/plain": [
       "<Figure size 640x480 with 1 Axes>"
      ]
     },
     "metadata": {},
     "output_type": "display_data"
    }
   ],
   "source": [
    "# Histogram for target equals to NO\n",
    "df[df.y == 'no'].duration.hist(alpha=0.5, bins=20, label='No')\n",
    "# Histogram for target equals to YES\n",
    "df[df.y == 'yes'].duration.hist(alpha=0.5, bins=20, label='Yes')\n",
    "\n",
    "plt.xlabel('Duration')\n",
    "plt.ylabel('Frequency')\n",
    "plt.legend()\n",
    "plt.title('Distribution of Duration by Target Class')\n",
    "plt.show()"
   ]
  },
  {
   "cell_type": "code",
   "execution_count": 36,
   "id": "50b00f5d-aa30-4b55-a284-c43520468fe9",
   "metadata": {},
   "outputs": [],
   "source": [
    "cols_to_drop.append('duration')"
   ]
  },
  {
   "cell_type": "markdown",
   "id": "8fd29c66-64d8-43bb-81a1-390650844f5c",
   "metadata": {
    "jp-MarkdownHeadingCollapsed": true
   },
   "source": [
    "### Campaign - number of contacts performed during this campaign and for this client"
   ]
  },
  {
   "cell_type": "code",
   "execution_count": 38,
   "id": "6fb6da85-bb2e-44cf-8ad3-dc8f32a7e5ea",
   "metadata": {},
   "outputs": [
    {
     "data": {
      "image/png": "[encoded data removed]",
      "text/plain": [
       "<Figure size 640x480 with 1 Axes>"
      ]
     },
     "metadata": {},
     "output_type": "display_data"
    }
   ],
   "source": [
    "df.campaign.hist(bins=50)\n",
    "plt.show()"
   ]
  },
  {
   "cell_type": "code",
   "execution_count": 39,
   "id": "3bb859a4-5d9a-4aa5-b1b7-523bb5499f19",
   "metadata": {},
   "outputs": [
    {
     "data": {
      "image/png": "[encoded data removed]",
      "text/plain": [
       "<Figure size 640x480 with 1 Axes>"
      ]
     },
     "metadata": {},
     "output_type": "display_data"
    }
   ],
   "source": [
    "# Histogram for target equals to NO\n",
    "df[df.y == 'no'].campaign.hist(alpha=0.5, bins=20, label='No')\n",
    "# Histogram for target equals to YES\n",
    "df[df.y == 'yes'].campaign.hist(alpha=0.5, bins=20, label='Yes')\n",
    "\n",
    "plt.xlabel('Campaign')\n",
    "plt.ylabel('Frequency')\n",
    "plt.legend()\n",
    "plt.title('Distribution of Campaign by Target Class')\n",
    "plt.show()"
   ]
  },
  {
   "cell_type": "markdown",
   "id": "c2ddfa2b-8e5a-43d4-9b74-eff97fb328c2",
   "metadata": {},
   "source": [
    "Distributons are both right skewed. I can transform it later"
   ]
  },
  {
   "cell_type": "code",
   "execution_count": 41,
   "id": "5e3b6df1-b70d-40fe-b8ae-9d538d70fdde",
   "metadata": {},
   "outputs": [
    {
     "data": {
      "text/html": [
       "<div>\n",
       "<style scoped>\n",
       "    .dataframe tbody tr th:only-of-type {\n",
       "        vertical-align: middle;\n",
       "    }\n",
       "\n",
       "    .dataframe tbody tr th {\n",
       "        vertical-align: top;\n",
       "    }\n",
       "\n",
       "    .dataframe thead th {\n",
       "        text-align: right;\n",
       "    }\n",
       "</style>\n",
       "<table border=\"1\" class=\"dataframe\">\n",
       "  <thead>\n",
       "    <tr style=\"text-align: right;\">\n",
       "      <th></th>\n",
       "      <th>count</th>\n",
       "      <th>mean</th>\n",
       "      <th>std</th>\n",
       "      <th>min</th>\n",
       "      <th>25%</th>\n",
       "      <th>50%</th>\n",
       "      <th>75%</th>\n",
       "      <th>max</th>\n",
       "    </tr>\n",
       "    <tr>\n",
       "      <th>y</th>\n",
       "      <th></th>\n",
       "      <th></th>\n",
       "      <th></th>\n",
       "      <th></th>\n",
       "      <th></th>\n",
       "      <th></th>\n",
       "      <th></th>\n",
       "      <th></th>\n",
       "    </tr>\n",
       "  </thead>\n",
       "  <tbody>\n",
       "    <tr>\n",
       "      <th>no</th>\n",
       "      <td>36537.0</td>\n",
       "      <td>2.633385</td>\n",
       "      <td>2.873768</td>\n",
       "      <td>1.0</td>\n",
       "      <td>1.0</td>\n",
       "      <td>2.0</td>\n",
       "      <td>3.0</td>\n",
       "      <td>56.0</td>\n",
       "    </tr>\n",
       "    <tr>\n",
       "      <th>yes</th>\n",
       "      <td>4639.0</td>\n",
       "      <td>2.051951</td>\n",
       "      <td>1.666353</td>\n",
       "      <td>1.0</td>\n",
       "      <td>1.0</td>\n",
       "      <td>2.0</td>\n",
       "      <td>2.0</td>\n",
       "      <td>23.0</td>\n",
       "    </tr>\n",
       "  </tbody>\n",
       "</table>\n",
       "</div>"
      ],
      "text/plain": [
       "       count      mean       std  min  25%  50%  75%   max\n",
       "y                                                         \n",
       "no   36537.0  2.633385  2.873768  1.0  1.0  2.0  3.0  56.0\n",
       "yes   4639.0  2.051951  1.666353  1.0  1.0  2.0  2.0  23.0"
      ]
     },
     "execution_count": 41,
     "metadata": {},
     "output_type": "execute_result"
    }
   ],
   "source": [
    "df.groupby('y').campaign.describe()"
   ]
  },
  {
   "cell_type": "code",
   "execution_count": 42,
   "id": "92fa14f3-7d62-4464-8751-9459219a6be7",
   "metadata": {},
   "outputs": [
    {
     "data": {
      "image/png": "[encoded data removed]",
      "text/plain": [
       "<Figure size 640x480 with 1 Axes>"
      ]
     },
     "metadata": {},
     "output_type": "display_data"
    }
   ],
   "source": [
    "sns.boxplot(x='y', y='campaign', data=df)\n",
    "plt.title('Campaign calls by target class')\n",
    "plt.show()"
   ]
  },
  {
   "cell_type": "markdown",
   "id": "88e7bc15-c7c5-4afc-a5f8-2300520bfaeb",
   "metadata": {},
   "source": [
    "It seems that more calls do not automatically mean a higher chance of \"yes\", it is even less on average for \"yes\". It is likely that those who say \"no\" are contacted more often or longer. Which make sense. Clients that said YES they would be contancted later, and ones that said NO will be contancted again since they said NO, and bank wants YES."
   ]
  },
  {
   "cell_type": "code",
   "execution_count": 44,
   "id": "84daec07-665d-4cdc-a7ce-0d3c587839b1",
   "metadata": {},
   "outputs": [
    {
     "data": {
      "text/plain": [
       "campaign\n",
       "1     17634\n",
       "2     10568\n",
       "3      5340\n",
       "4      2650\n",
       "5      1599\n",
       "6       979\n",
       "7       629\n",
       "8       400\n",
       "9       283\n",
       "10      225\n",
       "11      177\n",
       "12      125\n",
       "13       92\n",
       "14       69\n",
       "17       58\n",
       "16       51\n",
       "15       51\n",
       "18       33\n",
       "20       30\n",
       "19       26\n",
       "21       24\n",
       "22       17\n",
       "23       16\n",
       "24       15\n",
       "27       11\n",
       "29       10\n",
       "28        8\n",
       "26        8\n",
       "25        8\n",
       "31        7\n",
       "30        7\n",
       "35        5\n",
       "32        4\n",
       "33        4\n",
       "34        3\n",
       "42        2\n",
       "40        2\n",
       "43        2\n",
       "56        1\n",
       "39        1\n",
       "41        1\n",
       "37        1\n",
       "Name: count, dtype: int64"
      ]
     },
     "execution_count": 44,
     "metadata": {},
     "output_type": "execute_result"
    }
   ],
   "source": [
    "df.campaign.value_counts()"
   ]
  },
  {
   "cell_type": "markdown",
   "id": "ee85cfea-a0e0-46fa-8735-ae4235d9c057",
   "metadata": {},
   "source": [
    "Most values are in range (1-5)"
   ]
  },
  {
   "cell_type": "markdown",
   "id": "217e5544-ce36-418b-b749-8e5229e37871",
   "metadata": {},
   "source": [
    "I am not gonna use this column, since there is some kind of leakage here, between campaign column and target."
   ]
  },
  {
   "cell_type": "code",
   "execution_count": 47,
   "id": "9a001b56-1ff9-4e60-a4ab-091a3cff40d3",
   "metadata": {},
   "outputs": [],
   "source": [
    "cols_to_drop.append('campaign')"
   ]
  },
  {
   "cell_type": "markdown",
   "id": "6d969f8c-d253-448f-a091-470501982bc7",
   "metadata": {
    "jp-MarkdownHeadingCollapsed": true
   },
   "source": [
    "### pdays - number of days that passed by after the client was last contacted from a previous campaign"
   ]
  },
  {
   "cell_type": "markdown",
   "id": "f87cb418-8b67-4cf8-9ba4-397e16f8eb51",
   "metadata": {},
   "source": [
    "999 means client was not previously contacted"
   ]
  },
  {
   "cell_type": "code",
   "execution_count": 50,
   "id": "986cc6a0-1c45-4653-bc87-8955d771684f",
   "metadata": {},
   "outputs": [
    {
     "data": {
      "text/plain": [
       "pdays\n",
       "0         15\n",
       "1         26\n",
       "2         61\n",
       "3        439\n",
       "4        118\n",
       "5         46\n",
       "6        412\n",
       "7         60\n",
       "8         18\n",
       "9         64\n",
       "10        52\n",
       "11        28\n",
       "12        58\n",
       "13        36\n",
       "14        20\n",
       "15        24\n",
       "16        11\n",
       "17         8\n",
       "18         7\n",
       "19         3\n",
       "20         1\n",
       "21         2\n",
       "22         3\n",
       "25         1\n",
       "26         1\n",
       "27         1\n",
       "999    39661\n",
       "Name: count, dtype: int64"
      ]
     },
     "execution_count": 50,
     "metadata": {},
     "output_type": "execute_result"
    }
   ],
   "source": [
    "df.pdays.value_counts().sort_index()"
   ]
  },
  {
   "cell_type": "code",
   "execution_count": 51,
   "id": "94817730-1932-4ff7-bb01-ddff45b217b1",
   "metadata": {},
   "outputs": [
    {
     "data": {
      "image/png": "[encoded data removed]",
      "text/plain": [
       "<Figure size 640x480 with 1 Axes>"
      ]
     },
     "metadata": {},
     "output_type": "display_data"
    }
   ],
   "source": [
    "# Histogram for target equals to NO\n",
    "df[df.y == 'no'].pdays.hist(alpha=0.5, bins=20, label='No')\n",
    "# Histogram for target equals to YES\n",
    "df[df.y == 'yes'].pdays.hist(alpha=0.5, bins=20, label='Yes')\n",
    "\n",
    "plt.xlabel('Pdays')\n",
    "plt.ylabel('Frequency')\n",
    "plt.legend()\n",
    "plt.title('Distribution of Pdays by Target Class')\n",
    "plt.show()"
   ]
  },
  {
   "cell_type": "code",
   "execution_count": 52,
   "id": "210df989-246e-4b20-a0da-5df6104f9cc2",
   "metadata": {},
   "outputs": [
    {
     "data": {
      "text/html": [
       "<div>\n",
       "<style scoped>\n",
       "    .dataframe tbody tr th:only-of-type {\n",
       "        vertical-align: middle;\n",
       "    }\n",
       "\n",
       "    .dataframe tbody tr th {\n",
       "        vertical-align: top;\n",
       "    }\n",
       "\n",
       "    .dataframe thead th {\n",
       "        text-align: right;\n",
       "    }\n",
       "</style>\n",
       "<table border=\"1\" class=\"dataframe\">\n",
       "  <thead>\n",
       "    <tr style=\"text-align: right;\">\n",
       "      <th></th>\n",
       "      <th>count</th>\n",
       "      <th>mean</th>\n",
       "      <th>std</th>\n",
       "      <th>min</th>\n",
       "      <th>25%</th>\n",
       "      <th>50%</th>\n",
       "      <th>75%</th>\n",
       "      <th>max</th>\n",
       "    </tr>\n",
       "    <tr>\n",
       "      <th>y</th>\n",
       "      <th></th>\n",
       "      <th></th>\n",
       "      <th></th>\n",
       "      <th></th>\n",
       "      <th></th>\n",
       "      <th></th>\n",
       "      <th></th>\n",
       "      <th></th>\n",
       "    </tr>\n",
       "  </thead>\n",
       "  <tbody>\n",
       "    <tr>\n",
       "      <th>no</th>\n",
       "      <td>36537.0</td>\n",
       "      <td>984.109396</td>\n",
       "      <td>120.674753</td>\n",
       "      <td>0.0</td>\n",
       "      <td>999.0</td>\n",
       "      <td>999.0</td>\n",
       "      <td>999.0</td>\n",
       "      <td>999.0</td>\n",
       "    </tr>\n",
       "    <tr>\n",
       "      <th>yes</th>\n",
       "      <td>4639.0</td>\n",
       "      <td>791.990946</td>\n",
       "      <td>403.439220</td>\n",
       "      <td>0.0</td>\n",
       "      <td>999.0</td>\n",
       "      <td>999.0</td>\n",
       "      <td>999.0</td>\n",
       "      <td>999.0</td>\n",
       "    </tr>\n",
       "  </tbody>\n",
       "</table>\n",
       "</div>"
      ],
      "text/plain": [
       "       count        mean         std  min    25%    50%    75%    max\n",
       "y                                                                    \n",
       "no   36537.0  984.109396  120.674753  0.0  999.0  999.0  999.0  999.0\n",
       "yes   4639.0  791.990946  403.439220  0.0  999.0  999.0  999.0  999.0"
      ]
     },
     "execution_count": 52,
     "metadata": {},
     "output_type": "execute_result"
    }
   ],
   "source": [
    "df.groupby('y').pdays.describe()"
   ]
  },
  {
   "cell_type": "code",
   "execution_count": 53,
   "id": "6129d2d0-a87f-49f4-a905-92d89ee40476",
   "metadata": {},
   "outputs": [
    {
     "data": {
      "text/html": [
       "<div>\n",
       "<style scoped>\n",
       "    .dataframe tbody tr th:only-of-type {\n",
       "        vertical-align: middle;\n",
       "    }\n",
       "\n",
       "    .dataframe tbody tr th {\n",
       "        vertical-align: top;\n",
       "    }\n",
       "\n",
       "    .dataframe thead th {\n",
       "        text-align: right;\n",
       "    }\n",
       "</style>\n",
       "<table border=\"1\" class=\"dataframe\">\n",
       "  <thead>\n",
       "    <tr style=\"text-align: right;\">\n",
       "      <th>pdays_999</th>\n",
       "      <th>False</th>\n",
       "      <th>True</th>\n",
       "    </tr>\n",
       "    <tr>\n",
       "      <th>y</th>\n",
       "      <th></th>\n",
       "      <th></th>\n",
       "    </tr>\n",
       "  </thead>\n",
       "  <tbody>\n",
       "    <tr>\n",
       "      <th>no</th>\n",
       "      <td>548</td>\n",
       "      <td>35989</td>\n",
       "    </tr>\n",
       "    <tr>\n",
       "      <th>yes</th>\n",
       "      <td>967</td>\n",
       "      <td>3672</td>\n",
       "    </tr>\n",
       "  </tbody>\n",
       "</table>\n",
       "</div>"
      ],
      "text/plain": [
       "pdays_999  False  True \n",
       "y                      \n",
       "no           548  35989\n",
       "yes          967   3672"
      ]
     },
     "execution_count": 53,
     "metadata": {},
     "output_type": "execute_result"
    }
   ],
   "source": [
    "df['pdays_999'] = df['pdays'] == 999\n",
    "df.groupby(['y', 'pdays_999']).size().unstack()"
   ]
  },
  {
   "cell_type": "markdown",
   "id": "e0307a06-a30c-4b2b-bc94-9d484522a326",
   "metadata": {},
   "source": [
    "Only 1.5% of those who said \"no\" were contacted before (548 / 36548).\n",
    "\n",
    "And even 20.8% of those who said \"yes\" were contacted before (967 / 4640).\n",
    "\n",
    "This implies that customers who have been contacted before are more likely to say \"yes\", which is valuable information.\r\n"
   ]
  },
  {
   "cell_type": "markdown",
   "id": "b2e1f881-f70c-40dd-b493-2005c3f4e988",
   "metadata": {},
   "source": [
    "I'm going to make new binary column: 0 for pdays value equals to 999 and 1 for pdays value doesn't equal to 999"
   ]
  },
  {
   "cell_type": "code",
   "execution_count": 56,
   "id": "fffd0cef-f5d4-4c31-9b43-e8404d2016af",
   "metadata": {},
   "outputs": [],
   "source": [
    "df['pdays_was_contacted'] = (df['pdays'] != 999).astype(int)"
   ]
  },
  {
   "cell_type": "markdown",
   "id": "106762de-40af-4ebd-a967-146fbaeca259",
   "metadata": {},
   "source": [
    "And drop pdays column"
   ]
  },
  {
   "cell_type": "code",
   "execution_count": 58,
   "id": "f627d296-d9fd-42d1-b545-5da7c9f1c5e9",
   "metadata": {},
   "outputs": [],
   "source": [
    "cols_to_drop.append('pdays')"
   ]
  },
  {
   "cell_type": "markdown",
   "id": "cbd2d078-4ace-4495-a684-7646b2d6b4cb",
   "metadata": {
    "jp-MarkdownHeadingCollapsed": true
   },
   "source": [
    "### Previous column - number of contacts performed before this campaign and for this client"
   ]
  },
  {
   "cell_type": "markdown",
   "id": "7bd4501c-6d32-4838-9ad4-9a49f66516ea",
   "metadata": {},
   "source": [
    "This column is information from previous campaign"
   ]
  },
  {
   "cell_type": "code",
   "execution_count": 61,
   "id": "4a2909a5-8612-4136-bb60-1fa317b7937b",
   "metadata": {},
   "outputs": [
    {
     "data": {
      "image/png": "[encoded data removed]",
      "text/plain": [
       "<Figure size 640x480 with 1 Axes>"
      ]
     },
     "metadata": {},
     "output_type": "display_data"
    }
   ],
   "source": [
    "# Histogram for target equals to NO\n",
    "df[df.y == 'no'].previous.hist(alpha=0.5, bins=20, label='No')\n",
    "# Histogram for target equals to YES\n",
    "df[df.y == 'yes'].previous.hist(alpha=0.5, bins=20, label='Yes')\n",
    "\n",
    "plt.xlabel('Previous')\n",
    "plt.ylabel('Frequency')\n",
    "plt.legend()\n",
    "plt.title('Distribution of Previous by Target Class')\n",
    "plt.show()"
   ]
  },
  {
   "cell_type": "code",
   "execution_count": 62,
   "id": "4ae924a1-a6c6-4fac-9eb2-b27233d88c44",
   "metadata": {},
   "outputs": [
    {
     "data": {
      "text/plain": [
       "previous\n",
       "0    35551\n",
       "1     4561\n",
       "2      754\n",
       "3      216\n",
       "4       70\n",
       "5       18\n",
       "6        5\n",
       "7        1\n",
       "Name: count, dtype: int64"
      ]
     },
     "execution_count": 62,
     "metadata": {},
     "output_type": "execute_result"
    }
   ],
   "source": [
    "df.previous.value_counts().sort_index()"
   ]
  },
  {
   "cell_type": "code",
   "execution_count": 63,
   "id": "e9b42114-ff1d-466e-8418-18c6ddbfe9a1",
   "metadata": {},
   "outputs": [
    {
     "data": {
      "text/plain": [
       "0.86"
      ]
     },
     "execution_count": 63,
     "metadata": {},
     "output_type": "execute_result"
    }
   ],
   "source": [
    "round((df.previous.value_counts().sort_index()[0]) / df.shape[0],2)"
   ]
  },
  {
   "cell_type": "markdown",
   "id": "a1fddaa0-9ad4-4989-8b4f-e98931023c09",
   "metadata": {},
   "source": [
    "86% observations have 0 value for previous column, meaning that 86% clients have not been contacted before.\n",
    "\n",
    "So, I'm gonna make new binary column: 0 fro previous value 0, and 1 for previous value not 0"
   ]
  },
  {
   "cell_type": "code",
   "execution_count": 65,
   "id": "c790f2aa-f574-4bea-9fc4-c9bf192becbd",
   "metadata": {},
   "outputs": [],
   "source": [
    "df['was_previously_contacted'] = (df['previous'] > 0).astype(int)"
   ]
  },
  {
   "cell_type": "markdown",
   "id": "46715f01-cf4a-467a-89b3-779a8c35aed1",
   "metadata": {},
   "source": [
    "And drop previous column"
   ]
  },
  {
   "cell_type": "code",
   "execution_count": 67,
   "id": "379382ee-57be-4310-af5a-a026efe8b227",
   "metadata": {},
   "outputs": [],
   "source": [
    "cols_to_drop.append('previous')"
   ]
  },
  {
   "cell_type": "markdown",
   "id": "209aaf20-cad3-4442-87d1-c96206ef933c",
   "metadata": {},
   "source": [
    "### emp.var.rate - employment variation rate - quarterly indicator"
   ]
  },
  {
   "cell_type": "code",
   "execution_count": 69,
   "id": "f2fd6914-4d6f-46c0-baf5-aaf72d8eb6d7",
   "metadata": {},
   "outputs": [
    {
     "data": {
      "text/plain": [
       "emp.var.rate\n",
       " 1.4    16228\n",
       "-1.8     9182\n",
       " 1.1     7762\n",
       "-0.1     3682\n",
       "-2.9     1662\n",
       "-3.4     1070\n",
       "-1.7      773\n",
       "-1.1      635\n",
       "-3.0      172\n",
       "-0.2       10\n",
       "Name: count, dtype: int64"
      ]
     },
     "execution_count": 69,
     "metadata": {},
     "output_type": "execute_result"
    }
   ],
   "source": [
    "df['emp.var.rate'].value_counts()"
   ]
  },
  {
   "cell_type": "code",
   "execution_count": 70,
   "id": "503eb386-f9dc-4f6d-b32c-62fd3df9a9d5",
   "metadata": {},
   "outputs": [
    {
     "data": {
      "image/png": "[encoded data removed]",
      "text/plain": [
       "<Figure size 640x480 with 1 Axes>"
      ]
     },
     "metadata": {},
     "output_type": "display_data"
    }
   ],
   "source": [
    "# Histogram for target equals to NO\n",
    "df[df.y == 'no']['emp.var.rate'].hist(alpha=0.5, bins=40, label='No')\n",
    "# Histogram for target equals to YES\n",
    "df[df.y == 'yes']['emp.var.rate'].hist(alpha=0.5, bins=40, label='Yes')\n",
    "\n",
    "plt.xlabel('emp.var.rate')\n",
    "plt.ylabel('Frequency')\n",
    "plt.legend()\n",
    "plt.title('Distribution of Employment variation rate by Target Class')\n",
    "plt.show()"
   ]
  },
  {
   "cell_type": "code",
   "execution_count": 71,
   "id": "a01b543d-ba5c-4e13-b494-7916c7a10878",
   "metadata": {},
   "outputs": [
    {
     "data": {
      "text/plain": [
       "y    emp.var.rate\n",
       "no    1.4            0.420451\n",
       "     -1.8            0.211320\n",
       "      1.1            0.205873\n",
       "     -0.1            0.094425\n",
       "     -2.9            0.029258\n",
       "     -3.4            0.016860\n",
       "     -1.7            0.010127\n",
       "     -1.1            0.009141\n",
       "     -3.0            0.002299\n",
       "     -0.2            0.000246\n",
       "yes  -1.8            0.314939\n",
       "      1.4            0.186678\n",
       "     -2.9            0.127829\n",
       "     -3.4            0.097866\n",
       "     -1.7            0.086872\n",
       "     -1.1            0.064885\n",
       "      1.1            0.051735\n",
       "     -0.1            0.050011\n",
       "     -3.0            0.018970\n",
       "     -0.2            0.000216\n",
       "Name: proportion, dtype: float64"
      ]
     },
     "execution_count": 71,
     "metadata": {},
     "output_type": "execute_result"
    }
   ],
   "source": [
    "df.groupby('y')['emp.var.rate'].value_counts(normalize=True)"
   ]
  },
  {
   "cell_type": "code",
   "execution_count": 72,
   "id": "b2a38cfc-b4ae-4a54-aeb0-8a11d2c436d5",
   "metadata": {},
   "outputs": [
    {
     "data": {
      "text/html": [
       "<style type=\"text/css\">\n",
       "</style>\n",
       "<table id=\"T_9893b\">\n",
       "  <thead>\n",
       "    <tr>\n",
       "      <th class=\"index_name level0\" >y</th>\n",
       "      <th id=\"T_9893b_level0_col0\" class=\"col_heading level0 col0\" >no_pct</th>\n",
       "      <th id=\"T_9893b_level0_col1\" class=\"col_heading level0 col1\" >yes_pct</th>\n",
       "    </tr>\n",
       "    <tr>\n",
       "      <th class=\"index_name level0\" >emp.var.rate</th>\n",
       "      <th class=\"blank col0\" >&nbsp;</th>\n",
       "      <th class=\"blank col1\" >&nbsp;</th>\n",
       "    </tr>\n",
       "  </thead>\n",
       "  <tbody>\n",
       "    <tr>\n",
       "      <th id=\"T_9893b_level0_row0\" class=\"row_heading level0 row0\" >1.400000</th>\n",
       "      <td id=\"T_9893b_row0_col0\" class=\"data row0 col0\" >42.05%</td>\n",
       "      <td id=\"T_9893b_row0_col1\" class=\"data row0 col1\" >18.67%</td>\n",
       "    </tr>\n",
       "    <tr>\n",
       "      <th id=\"T_9893b_level0_row1\" class=\"row_heading level0 row1\" >1.100000</th>\n",
       "      <td id=\"T_9893b_row1_col0\" class=\"data row1 col0\" >20.59%</td>\n",
       "      <td id=\"T_9893b_row1_col1\" class=\"data row1 col1\" >5.17%</td>\n",
       "    </tr>\n",
       "    <tr>\n",
       "      <th id=\"T_9893b_level0_row2\" class=\"row_heading level0 row2\" >-0.100000</th>\n",
       "      <td id=\"T_9893b_row2_col0\" class=\"data row2 col0\" >9.44%</td>\n",
       "      <td id=\"T_9893b_row2_col1\" class=\"data row2 col1\" >5.00%</td>\n",
       "    </tr>\n",
       "    <tr>\n",
       "      <th id=\"T_9893b_level0_row3\" class=\"row_heading level0 row3\" >-0.200000</th>\n",
       "      <td id=\"T_9893b_row3_col0\" class=\"data row3 col0\" >0.02%</td>\n",
       "      <td id=\"T_9893b_row3_col1\" class=\"data row3 col1\" >0.02%</td>\n",
       "    </tr>\n",
       "    <tr>\n",
       "      <th id=\"T_9893b_level0_row4\" class=\"row_heading level0 row4\" >-1.100000</th>\n",
       "      <td id=\"T_9893b_row4_col0\" class=\"data row4 col0\" >0.91%</td>\n",
       "      <td id=\"T_9893b_row4_col1\" class=\"data row4 col1\" >6.49%</td>\n",
       "    </tr>\n",
       "    <tr>\n",
       "      <th id=\"T_9893b_level0_row5\" class=\"row_heading level0 row5\" >-1.700000</th>\n",
       "      <td id=\"T_9893b_row5_col0\" class=\"data row5 col0\" >1.01%</td>\n",
       "      <td id=\"T_9893b_row5_col1\" class=\"data row5 col1\" >8.69%</td>\n",
       "    </tr>\n",
       "    <tr>\n",
       "      <th id=\"T_9893b_level0_row6\" class=\"row_heading level0 row6\" >-1.800000</th>\n",
       "      <td id=\"T_9893b_row6_col0\" class=\"data row6 col0\" >21.13%</td>\n",
       "      <td id=\"T_9893b_row6_col1\" class=\"data row6 col1\" >31.49%</td>\n",
       "    </tr>\n",
       "    <tr>\n",
       "      <th id=\"T_9893b_level0_row7\" class=\"row_heading level0 row7\" >-2.900000</th>\n",
       "      <td id=\"T_9893b_row7_col0\" class=\"data row7 col0\" >2.93%</td>\n",
       "      <td id=\"T_9893b_row7_col1\" class=\"data row7 col1\" >12.78%</td>\n",
       "    </tr>\n",
       "    <tr>\n",
       "      <th id=\"T_9893b_level0_row8\" class=\"row_heading level0 row8\" >-3.000000</th>\n",
       "      <td id=\"T_9893b_row8_col0\" class=\"data row8 col0\" >0.23%</td>\n",
       "      <td id=\"T_9893b_row8_col1\" class=\"data row8 col1\" >1.90%</td>\n",
       "    </tr>\n",
       "    <tr>\n",
       "      <th id=\"T_9893b_level0_row9\" class=\"row_heading level0 row9\" >-3.400000</th>\n",
       "      <td id=\"T_9893b_row9_col0\" class=\"data row9 col0\" >1.69%</td>\n",
       "      <td id=\"T_9893b_row9_col1\" class=\"data row9 col1\" >9.79%</td>\n",
       "    </tr>\n",
       "  </tbody>\n",
       "</table>\n"
      ],
      "text/plain": [
       "<pandas.io.formats.style.Styler at 0x2904077acd0>"
      ]
     },
     "metadata": {},
     "output_type": "display_data"
    }
   ],
   "source": [
    "rate_df = df.groupby(['y','emp.var.rate']).size().unstack(level=0)\n",
    "\n",
    "rate_df['no_pct'] = rate_df['no']/rate_df['no'].sum()\n",
    "rate_df['yes_pct'] = rate_df['yes']/rate_df['yes'].sum()\n",
    "\n",
    "rate_df = rate_df[['no_pct', 'yes_pct']]\n",
    "rate_df = rate_df.sort_index(ascending=False)\n",
    "display(rate_df.style.format({'no_pct': \"{:.2%}\", 'yes_pct': \"{:.2%}\"}))"
   ]
  },
  {
   "cell_type": "code",
   "execution_count": 73,
   "id": "1515882e-9a42-4f7e-ae80-ef8e6411c466",
   "metadata": {},
   "outputs": [
    {
     "data": {
      "image/png": "[encoded data removed]",
      "text/plain": [
       "<Figure size 640x480 with 1 Axes>"
      ]
     },
     "metadata": {},
     "output_type": "display_data"
    }
   ],
   "source": [
    "sns.boxplot(x='y', y='emp.var.rate', data=df)\n",
    "plt.show()"
   ]
  },
  {
   "cell_type": "markdown",
   "id": "4a08a4e4-c98e-4bd2-9e7c-156c40236899",
   "metadata": {},
   "source": [
    "There is strong diffrence between distributions of classes, so we'll keep this column"
   ]
  },
  {
   "cell_type": "markdown",
   "id": "3e90aaa8-4b98-45c9-95c5-80f577f0141a",
   "metadata": {},
   "source": [
    "### cons.price.idx - consumer price index - monthly indicator"
   ]
  },
  {
   "cell_type": "code",
   "execution_count": 76,
   "id": "91988073-2ba5-4112-a668-06c3eccafc97",
   "metadata": {},
   "outputs": [
    {
     "data": {
      "text/html": [
       "<div>\n",
       "<style scoped>\n",
       "    .dataframe tbody tr th:only-of-type {\n",
       "        vertical-align: middle;\n",
       "    }\n",
       "\n",
       "    .dataframe tbody tr th {\n",
       "        vertical-align: top;\n",
       "    }\n",
       "\n",
       "    .dataframe thead th {\n",
       "        text-align: right;\n",
       "    }\n",
       "</style>\n",
       "<table border=\"1\" class=\"dataframe\">\n",
       "  <thead>\n",
       "    <tr style=\"text-align: right;\">\n",
       "      <th></th>\n",
       "      <th>count</th>\n",
       "      <th>mean</th>\n",
       "      <th>std</th>\n",
       "      <th>min</th>\n",
       "      <th>25%</th>\n",
       "      <th>50%</th>\n",
       "      <th>75%</th>\n",
       "      <th>max</th>\n",
       "    </tr>\n",
       "    <tr>\n",
       "      <th>y</th>\n",
       "      <th></th>\n",
       "      <th></th>\n",
       "      <th></th>\n",
       "      <th></th>\n",
       "      <th></th>\n",
       "      <th></th>\n",
       "      <th></th>\n",
       "      <th></th>\n",
       "    </tr>\n",
       "  </thead>\n",
       "  <tbody>\n",
       "    <tr>\n",
       "      <th>no</th>\n",
       "      <td>36537.0</td>\n",
       "      <td>93.603798</td>\n",
       "      <td>0.559006</td>\n",
       "      <td>92.201</td>\n",
       "      <td>93.075</td>\n",
       "      <td>93.918</td>\n",
       "      <td>93.994</td>\n",
       "      <td>94.767</td>\n",
       "    </tr>\n",
       "    <tr>\n",
       "      <th>yes</th>\n",
       "      <td>4639.0</td>\n",
       "      <td>93.354577</td>\n",
       "      <td>0.676592</td>\n",
       "      <td>92.201</td>\n",
       "      <td>92.893</td>\n",
       "      <td>93.200</td>\n",
       "      <td>93.918</td>\n",
       "      <td>94.767</td>\n",
       "    </tr>\n",
       "  </tbody>\n",
       "</table>\n",
       "</div>"
      ],
      "text/plain": [
       "       count       mean       std     min     25%     50%     75%     max\n",
       "y                                                                        \n",
       "no   36537.0  93.603798  0.559006  92.201  93.075  93.918  93.994  94.767\n",
       "yes   4639.0  93.354577  0.676592  92.201  92.893  93.200  93.918  94.767"
      ]
     },
     "execution_count": 76,
     "metadata": {},
     "output_type": "execute_result"
    }
   ],
   "source": [
    "df.groupby('y')['cons.price.idx'].describe()"
   ]
  },
  {
   "cell_type": "markdown",
   "id": "926728f7-2cb6-4c37-aed3-524c3e4c5dc4",
   "metadata": {},
   "source": [
    "Standar deviation is small, so values are close to each other. "
   ]
  },
  {
   "cell_type": "code",
   "execution_count": 78,
   "id": "b33b650b-f693-48b7-ae37-6dcab834e62a",
   "metadata": {},
   "outputs": [
    {
     "data": {
      "image/png": "[encoded data removed]",
      "text/plain": [
       "<Figure size 640x480 with 1 Axes>"
      ]
     },
     "metadata": {},
     "output_type": "display_data"
    }
   ],
   "source": [
    "# Histogram for target equals to NO\n",
    "df[df.y == 'no']['cons.price.idx'].hist(alpha=0.5, bins=40, label='No')\n",
    "# Histogram for target equals to YES\n",
    "df[df.y == 'yes']['cons.price.idx'].hist(alpha=0.5, bins=40, label='Yes')\n",
    "\n",
    "plt.xlabel('cons.price.idx')\n",
    "plt.ylabel('Frequency')\n",
    "plt.legend()\n",
    "plt.title('Distribution of Consumer price index by Target Class')\n",
    "plt.show()"
   ]
  },
  {
   "cell_type": "code",
   "execution_count": 79,
   "id": "eb4beac7-1469-43e5-ab6c-9f5966b397de",
   "metadata": {},
   "outputs": [
    {
     "data": {
      "image/png": "[encoded data removed]",
      "text/plain": [
       "<Figure size 640x480 with 1 Axes>"
      ]
     },
     "metadata": {},
     "output_type": "display_data"
    }
   ],
   "source": [
    "sns.boxplot(x='y', y='emp.var.rate', data=df)\n",
    "plt.show()"
   ]
  },
  {
   "cell_type": "markdown",
   "id": "506bd138-9895-491d-83f8-292f9a485cb8",
   "metadata": {
    "jp-MarkdownHeadingCollapsed": true
   },
   "source": [
    "###  cons.conf.idx - consumer confidence index - monthly indicator "
   ]
  },
  {
   "cell_type": "code",
   "execution_count": 81,
   "id": "ee127eb6-f094-404e-b7f0-344607ffa7a0",
   "metadata": {},
   "outputs": [
    {
     "data": {
      "text/html": [
       "<div>\n",
       "<style scoped>\n",
       "    .dataframe tbody tr th:only-of-type {\n",
       "        vertical-align: middle;\n",
       "    }\n",
       "\n",
       "    .dataframe tbody tr th {\n",
       "        vertical-align: top;\n",
       "    }\n",
       "\n",
       "    .dataframe thead th {\n",
       "        text-align: right;\n",
       "    }\n",
       "</style>\n",
       "<table border=\"1\" class=\"dataframe\">\n",
       "  <thead>\n",
       "    <tr style=\"text-align: right;\">\n",
       "      <th></th>\n",
       "      <th>count</th>\n",
       "      <th>mean</th>\n",
       "      <th>std</th>\n",
       "      <th>min</th>\n",
       "      <th>25%</th>\n",
       "      <th>50%</th>\n",
       "      <th>75%</th>\n",
       "      <th>max</th>\n",
       "    </tr>\n",
       "    <tr>\n",
       "      <th>y</th>\n",
       "      <th></th>\n",
       "      <th></th>\n",
       "      <th></th>\n",
       "      <th></th>\n",
       "      <th></th>\n",
       "      <th></th>\n",
       "      <th></th>\n",
       "      <th></th>\n",
       "    </tr>\n",
       "  </thead>\n",
       "  <tbody>\n",
       "    <tr>\n",
       "      <th>no</th>\n",
       "      <td>36537.0</td>\n",
       "      <td>-40.593232</td>\n",
       "      <td>4.390759</td>\n",
       "      <td>-50.8</td>\n",
       "      <td>-42.7</td>\n",
       "      <td>-41.8</td>\n",
       "      <td>-36.4</td>\n",
       "      <td>-26.9</td>\n",
       "    </tr>\n",
       "    <tr>\n",
       "      <th>yes</th>\n",
       "      <td>4639.0</td>\n",
       "      <td>-39.791119</td>\n",
       "      <td>6.139657</td>\n",
       "      <td>-50.8</td>\n",
       "      <td>-46.2</td>\n",
       "      <td>-40.4</td>\n",
       "      <td>-36.1</td>\n",
       "      <td>-26.9</td>\n",
       "    </tr>\n",
       "  </tbody>\n",
       "</table>\n",
       "</div>"
      ],
      "text/plain": [
       "       count       mean       std   min   25%   50%   75%   max\n",
       "y                                                              \n",
       "no   36537.0 -40.593232  4.390759 -50.8 -42.7 -41.8 -36.4 -26.9\n",
       "yes   4639.0 -39.791119  6.139657 -50.8 -46.2 -40.4 -36.1 -26.9"
      ]
     },
     "execution_count": 81,
     "metadata": {},
     "output_type": "execute_result"
    }
   ],
   "source": [
    "df.groupby('y')['cons.conf.idx'].describe()"
   ]
  },
  {
   "cell_type": "code",
   "execution_count": 82,
   "id": "fe1c92d8-680a-4d5c-95c2-16661a63f033",
   "metadata": {},
   "outputs": [
    {
     "data": {
      "image/png": "[encoded data removed]",
      "text/plain": [
       "<Figure size 640x480 with 1 Axes>"
      ]
     },
     "metadata": {},
     "output_type": "display_data"
    }
   ],
   "source": [
    "# Histogram for target equals to NO\n",
    "df[df.y == 'no']['cons.conf.idx'].hist(alpha=0.5, bins=40, label='No')\n",
    "# Histogram for target equals to YES\n",
    "df[df.y == 'yes']['cons.conf.idx'].hist(alpha=0.5, bins=40, label='Yes')\n",
    "\n",
    "plt.xlabel('cons.conf.idx')\n",
    "plt.ylabel('Frequency')\n",
    "plt.legend()\n",
    "plt.title('Distribution of Consumer confidence index by Target Class')\n",
    "plt.show()"
   ]
  },
  {
   "cell_type": "markdown",
   "id": "515b620e-07a8-458e-832a-93d43f3cec3e",
   "metadata": {},
   "source": [
    "People who accepted the offer (yes) had, on average, more confidence in the economy (ie, less negative values)."
   ]
  },
  {
   "cell_type": "markdown",
   "id": "83b23677-2085-42bd-8bae-0b7f260fe16a",
   "metadata": {
    "jp-MarkdownHeadingCollapsed": true
   },
   "source": [
    "### euribor3m - euribor 3 month rate - daily indicator"
   ]
  },
  {
   "cell_type": "code",
   "execution_count": 85,
   "id": "8b94c930-01f6-47e7-a368-17e7e0b227fd",
   "metadata": {},
   "outputs": [
    {
     "data": {
      "text/html": [
       "<div>\n",
       "<style scoped>\n",
       "    .dataframe tbody tr th:only-of-type {\n",
       "        vertical-align: middle;\n",
       "    }\n",
       "\n",
       "    .dataframe tbody tr th {\n",
       "        vertical-align: top;\n",
       "    }\n",
       "\n",
       "    .dataframe thead th {\n",
       "        text-align: right;\n",
       "    }\n",
       "</style>\n",
       "<table border=\"1\" class=\"dataframe\">\n",
       "  <thead>\n",
       "    <tr style=\"text-align: right;\">\n",
       "      <th></th>\n",
       "      <th>count</th>\n",
       "      <th>mean</th>\n",
       "      <th>std</th>\n",
       "      <th>min</th>\n",
       "      <th>25%</th>\n",
       "      <th>50%</th>\n",
       "      <th>75%</th>\n",
       "      <th>max</th>\n",
       "    </tr>\n",
       "    <tr>\n",
       "      <th>y</th>\n",
       "      <th></th>\n",
       "      <th></th>\n",
       "      <th></th>\n",
       "      <th></th>\n",
       "      <th></th>\n",
       "      <th></th>\n",
       "      <th></th>\n",
       "      <th></th>\n",
       "    </tr>\n",
       "  </thead>\n",
       "  <tbody>\n",
       "    <tr>\n",
       "      <th>no</th>\n",
       "      <td>36537.0</td>\n",
       "      <td>3.811482</td>\n",
       "      <td>1.638179</td>\n",
       "      <td>0.634</td>\n",
       "      <td>1.405</td>\n",
       "      <td>4.857</td>\n",
       "      <td>4.962</td>\n",
       "      <td>5.045</td>\n",
       "    </tr>\n",
       "    <tr>\n",
       "      <th>yes</th>\n",
       "      <td>4639.0</td>\n",
       "      <td>2.123362</td>\n",
       "      <td>1.742717</td>\n",
       "      <td>0.634</td>\n",
       "      <td>0.849</td>\n",
       "      <td>1.266</td>\n",
       "      <td>4.406</td>\n",
       "      <td>5.045</td>\n",
       "    </tr>\n",
       "  </tbody>\n",
       "</table>\n",
       "</div>"
      ],
      "text/plain": [
       "       count      mean       std    min    25%    50%    75%    max\n",
       "y                                                                  \n",
       "no   36537.0  3.811482  1.638179  0.634  1.405  4.857  4.962  5.045\n",
       "yes   4639.0  2.123362  1.742717  0.634  0.849  1.266  4.406  5.045"
      ]
     },
     "execution_count": 85,
     "metadata": {},
     "output_type": "execute_result"
    }
   ],
   "source": [
    "df.groupby('y')['euribor3m'].describe()"
   ]
  },
  {
   "cell_type": "markdown",
   "id": "a3890db2-3338-498b-ab8c-2f1186b28458",
   "metadata": {},
   "source": [
    "Clients who said \"yes\" have significantly lower euribor3m values ​​on average than those who said \"no\"."
   ]
  },
  {
   "cell_type": "code",
   "execution_count": 87,
   "id": "4c38dd5e-5c63-4a8e-87b0-c52e094c04a1",
   "metadata": {},
   "outputs": [
    {
     "data": {
      "image/png": "[encoded data removed]",
      "text/plain": [
       "<Figure size 640x480 with 1 Axes>"
      ]
     },
     "metadata": {},
     "output_type": "display_data"
    }
   ],
   "source": [
    "# Histogram for target equals to NO\n",
    "df[df.y == 'no']['euribor3m'].hist(alpha=0.5, bins=40, label='No')\n",
    "# Histogram for target equals to YES\n",
    "df[df.y == 'yes']['euribor3m'].hist(alpha=0.5, bins=40, label='Yes')\n",
    "\n",
    "plt.xlabel('euribor3m')\n",
    "plt.ylabel('Frequency')\n",
    "plt.legend()\n",
    "plt.title('Distribution of Euribor 3 month rate by Target Class')\n",
    "plt.show()"
   ]
  },
  {
   "cell_type": "markdown",
   "id": "7e5c4bb7-f57d-4cc4-8314-2d919fc2b157",
   "metadata": {
    "jp-MarkdownHeadingCollapsed": true
   },
   "source": [
    "### nr.employed - number of employees - quarterly indicator"
   ]
  },
  {
   "cell_type": "code",
   "execution_count": 89,
   "id": "b0a77c6b-d644-4401-940d-791f8bf30286",
   "metadata": {},
   "outputs": [
    {
     "data": {
      "text/html": [
       "<div>\n",
       "<style scoped>\n",
       "    .dataframe tbody tr th:only-of-type {\n",
       "        vertical-align: middle;\n",
       "    }\n",
       "\n",
       "    .dataframe tbody tr th {\n",
       "        vertical-align: top;\n",
       "    }\n",
       "\n",
       "    .dataframe thead th {\n",
       "        text-align: right;\n",
       "    }\n",
       "</style>\n",
       "<table border=\"1\" class=\"dataframe\">\n",
       "  <thead>\n",
       "    <tr style=\"text-align: right;\">\n",
       "      <th></th>\n",
       "      <th>count</th>\n",
       "      <th>mean</th>\n",
       "      <th>std</th>\n",
       "      <th>min</th>\n",
       "      <th>25%</th>\n",
       "      <th>50%</th>\n",
       "      <th>75%</th>\n",
       "      <th>max</th>\n",
       "    </tr>\n",
       "    <tr>\n",
       "      <th>y</th>\n",
       "      <th></th>\n",
       "      <th></th>\n",
       "      <th></th>\n",
       "      <th></th>\n",
       "      <th></th>\n",
       "      <th></th>\n",
       "      <th></th>\n",
       "      <th></th>\n",
       "    </tr>\n",
       "  </thead>\n",
       "  <tbody>\n",
       "    <tr>\n",
       "      <th>no</th>\n",
       "      <td>36537.0</td>\n",
       "      <td>5176.165690</td>\n",
       "      <td>64.570288</td>\n",
       "      <td>4963.6</td>\n",
       "      <td>5099.1</td>\n",
       "      <td>5195.8</td>\n",
       "      <td>5228.1</td>\n",
       "      <td>5228.1</td>\n",
       "    </tr>\n",
       "    <tr>\n",
       "      <th>yes</th>\n",
       "      <td>4639.0</td>\n",
       "      <td>5095.120069</td>\n",
       "      <td>87.581640</td>\n",
       "      <td>4963.6</td>\n",
       "      <td>5017.5</td>\n",
       "      <td>5099.1</td>\n",
       "      <td>5191.0</td>\n",
       "      <td>5228.1</td>\n",
       "    </tr>\n",
       "  </tbody>\n",
       "</table>\n",
       "</div>"
      ],
      "text/plain": [
       "       count         mean        std     min     25%     50%     75%     max\n",
       "y                                                                           \n",
       "no   36537.0  5176.165690  64.570288  4963.6  5099.1  5195.8  5228.1  5228.1\n",
       "yes   4639.0  5095.120069  87.581640  4963.6  5017.5  5099.1  5191.0  5228.1"
      ]
     },
     "execution_count": 89,
     "metadata": {},
     "output_type": "execute_result"
    }
   ],
   "source": [
    "df.groupby('y')['nr.employed'].describe()"
   ]
  },
  {
   "cell_type": "code",
   "execution_count": 90,
   "id": "7ca1b8c0-aa40-4931-875d-c2bb81800c91",
   "metadata": {},
   "outputs": [
    {
     "data": {
      "image/png": "[encoded data removed]",
      "text/plain": [
       "<Figure size 640x480 with 1 Axes>"
      ]
     },
     "metadata": {},
     "output_type": "display_data"
    }
   ],
   "source": [
    "# Histogram for target equals to NO\n",
    "df[df.y == 'no']['nr.employed'].hist(alpha=0.5, bins=40, label='No')\n",
    "# Histogram for target equals to YES\n",
    "df[df.y == 'yes']['nr.employed'].hist(alpha=0.5, bins=40, label='Yes')\n",
    "\n",
    "plt.xlabel('nr.employed')\n",
    "plt.ylabel('Frequency')\n",
    "plt.legend()\n",
    "plt.title('Distribution of Number of employees by Target Class')\n",
    "plt.show()"
   ]
  },
  {
   "cell_type": "markdown",
   "id": "f76251a0-b3f2-4e6f-9578-58f12d841bc3",
   "metadata": {
    "jp-MarkdownHeadingCollapsed": true
   },
   "source": [
    "## Categorical columns"
   ]
  },
  {
   "cell_type": "code",
   "execution_count": 92,
   "id": "aa29c300-c306-46f3-b0c1-c0f40c0b3dbc",
   "metadata": {},
   "outputs": [
    {
     "data": {
      "text/plain": [
       "['job',\n",
       " 'marital',\n",
       " 'education',\n",
       " 'default',\n",
       " 'housing',\n",
       " 'loan',\n",
       " 'contact',\n",
       " 'month',\n",
       " 'day_of_week',\n",
       " 'poutcome',\n",
       " 'y']"
      ]
     },
     "execution_count": 92,
     "metadata": {},
     "output_type": "execute_result"
    }
   ],
   "source": [
    "cat_cols = df.select_dtypes(include=['object']).columns.tolist()\n",
    "cat_cols"
   ]
  },
  {
   "cell_type": "markdown",
   "id": "b90edcfe-a098-4fd0-bd89-6376887461a3",
   "metadata": {
    "jp-MarkdownHeadingCollapsed": true
   },
   "source": [
    "### job - type of job "
   ]
  },
  {
   "cell_type": "markdown",
   "id": "1e13c99c-aad8-4a9c-b37c-d051b9b5cafc",
   "metadata": {},
   "source": [
    "categorical: \"admin.\", \"blue-collar\", \"entrepreneur\", \"housemaid\", \"management\", \"retired\", \"self-employed\", \"services\", \"student\", \"technician\", \"unemployed\", \"unknown\")"
   ]
  },
  {
   "cell_type": "code",
   "execution_count": 95,
   "id": "306a0211-b3e9-4ce0-a151-5bbe03d00b7b",
   "metadata": {},
   "outputs": [
    {
     "data": {
      "text/plain": [
       "job\n",
       "admin.           10419\n",
       "blue-collar       9253\n",
       "technician        6739\n",
       "services          3967\n",
       "management        2924\n",
       "retired           1718\n",
       "entrepreneur      1456\n",
       "self-employed     1421\n",
       "housemaid         1060\n",
       "unemployed        1014\n",
       "student            875\n",
       "unknown            330\n",
       "Name: count, dtype: int64"
      ]
     },
     "execution_count": 95,
     "metadata": {},
     "output_type": "execute_result"
    }
   ],
   "source": [
    "df.job.value_counts()"
   ]
  },
  {
   "cell_type": "code",
   "execution_count": 96,
   "id": "9bb5a559-3940-4185-a8d8-789eb582aace",
   "metadata": {},
   "outputs": [
    {
     "data": {
      "text/html": [
       "<div>\n",
       "<style scoped>\n",
       "    .dataframe tbody tr th:only-of-type {\n",
       "        vertical-align: middle;\n",
       "    }\n",
       "\n",
       "    .dataframe tbody tr th {\n",
       "        vertical-align: top;\n",
       "    }\n",
       "\n",
       "    .dataframe thead th {\n",
       "        text-align: right;\n",
       "    }\n",
       "</style>\n",
       "<table border=\"1\" class=\"dataframe\">\n",
       "  <thead>\n",
       "    <tr style=\"text-align: right;\">\n",
       "      <th>y</th>\n",
       "      <th>no</th>\n",
       "      <th>yes</th>\n",
       "    </tr>\n",
       "    <tr>\n",
       "      <th>job</th>\n",
       "      <th></th>\n",
       "      <th></th>\n",
       "    </tr>\n",
       "  </thead>\n",
       "  <tbody>\n",
       "    <tr>\n",
       "      <th>admin.</th>\n",
       "      <td>0.870333</td>\n",
       "      <td>0.129667</td>\n",
       "    </tr>\n",
       "    <tr>\n",
       "      <th>blue-collar</th>\n",
       "      <td>0.931049</td>\n",
       "      <td>0.068951</td>\n",
       "    </tr>\n",
       "    <tr>\n",
       "      <th>entrepreneur</th>\n",
       "      <td>0.914835</td>\n",
       "      <td>0.085165</td>\n",
       "    </tr>\n",
       "    <tr>\n",
       "      <th>housemaid</th>\n",
       "      <td>0.900000</td>\n",
       "      <td>0.100000</td>\n",
       "    </tr>\n",
       "    <tr>\n",
       "      <th>management</th>\n",
       "      <td>0.887825</td>\n",
       "      <td>0.112175</td>\n",
       "    </tr>\n",
       "    <tr>\n",
       "      <th>retired</th>\n",
       "      <td>0.747381</td>\n",
       "      <td>0.252619</td>\n",
       "    </tr>\n",
       "    <tr>\n",
       "      <th>self-employed</th>\n",
       "      <td>0.895144</td>\n",
       "      <td>0.104856</td>\n",
       "    </tr>\n",
       "    <tr>\n",
       "      <th>services</th>\n",
       "      <td>0.918578</td>\n",
       "      <td>0.081422</td>\n",
       "    </tr>\n",
       "    <tr>\n",
       "      <th>student</th>\n",
       "      <td>0.685714</td>\n",
       "      <td>0.314286</td>\n",
       "    </tr>\n",
       "    <tr>\n",
       "      <th>technician</th>\n",
       "      <td>0.891675</td>\n",
       "      <td>0.108325</td>\n",
       "    </tr>\n",
       "    <tr>\n",
       "      <th>unemployed</th>\n",
       "      <td>0.857988</td>\n",
       "      <td>0.142012</td>\n",
       "    </tr>\n",
       "    <tr>\n",
       "      <th>unknown</th>\n",
       "      <td>0.887879</td>\n",
       "      <td>0.112121</td>\n",
       "    </tr>\n",
       "  </tbody>\n",
       "</table>\n",
       "</div>"
      ],
      "text/plain": [
       "y                    no       yes\n",
       "job                              \n",
       "admin.         0.870333  0.129667\n",
       "blue-collar    0.931049  0.068951\n",
       "entrepreneur   0.914835  0.085165\n",
       "housemaid      0.900000  0.100000\n",
       "management     0.887825  0.112175\n",
       "retired        0.747381  0.252619\n",
       "self-employed  0.895144  0.104856\n",
       "services       0.918578  0.081422\n",
       "student        0.685714  0.314286\n",
       "technician     0.891675  0.108325\n",
       "unemployed     0.857988  0.142012\n",
       "unknown        0.887879  0.112121"
      ]
     },
     "execution_count": 96,
     "metadata": {},
     "output_type": "execute_result"
    }
   ],
   "source": [
    "pd.crosstab(df['job'], df['y'], normalize='index')"
   ]
  },
  {
   "cell_type": "markdown",
   "id": "bb103a3b-010b-4d58-a79d-3c852a9fe169",
   "metadata": {},
   "source": [
    "We can see that most likely clints that will say YES is the ones that has these jobs:\n",
    "- students (31%)\n",
    "- retired (25%)\n",
    "- unempoyed (14%) "
   ]
  },
  {
   "cell_type": "markdown",
   "id": "321b0312-4eba-4096-b918-3ff10d406f3b",
   "metadata": {},
   "source": [
    "And least likely, has these jobs:\n",
    "- blue-collar(6,6%)\n",
    "- entrepreneur (8,5%)"
   ]
  },
  {
   "cell_type": "markdown",
   "id": "00b5bc4b-4bb3-48ad-8afe-f3177cf962a9",
   "metadata": {
    "jp-MarkdownHeadingCollapsed": true
   },
   "source": [
    "### marital -  marital status"
   ]
  },
  {
   "cell_type": "markdown",
   "id": "6651a20c-b54d-4152-b7bd-539092de05c6",
   "metadata": {},
   "source": [
    "categorical: \"divorced\", \"married\", \"single\", \"unknown\" ; note: \"divorced\" means divorced or widowed"
   ]
  },
  {
   "cell_type": "code",
   "execution_count": 101,
   "id": "9730c436-c6d5-48d8-a902-824e15f2153d",
   "metadata": {},
   "outputs": [
    {
     "data": {
      "text/plain": [
       "marital\n",
       "married     24921\n",
       "single      11564\n",
       "divorced     4611\n",
       "unknown        80\n",
       "Name: count, dtype: int64"
      ]
     },
     "execution_count": 101,
     "metadata": {},
     "output_type": "execute_result"
    }
   ],
   "source": [
    "df.marital.value_counts()"
   ]
  },
  {
   "cell_type": "code",
   "execution_count": 102,
   "id": "9a93a923-4282-4d38-851a-023959ea7b71",
   "metadata": {},
   "outputs": [
    {
     "data": {
      "text/html": [
       "<div>\n",
       "<style scoped>\n",
       "    .dataframe tbody tr th:only-of-type {\n",
       "        vertical-align: middle;\n",
       "    }\n",
       "\n",
       "    .dataframe tbody tr th {\n",
       "        vertical-align: top;\n",
       "    }\n",
       "\n",
       "    .dataframe thead th {\n",
       "        text-align: right;\n",
       "    }\n",
       "</style>\n",
       "<table border=\"1\" class=\"dataframe\">\n",
       "  <thead>\n",
       "    <tr style=\"text-align: right;\">\n",
       "      <th>y</th>\n",
       "      <th>no</th>\n",
       "      <th>yes</th>\n",
       "    </tr>\n",
       "    <tr>\n",
       "      <th>marital</th>\n",
       "      <th></th>\n",
       "      <th></th>\n",
       "    </tr>\n",
       "  </thead>\n",
       "  <tbody>\n",
       "    <tr>\n",
       "      <th>divorced</th>\n",
       "      <td>0.896769</td>\n",
       "      <td>0.103231</td>\n",
       "    </tr>\n",
       "    <tr>\n",
       "      <th>married</th>\n",
       "      <td>0.898439</td>\n",
       "      <td>0.101561</td>\n",
       "    </tr>\n",
       "    <tr>\n",
       "      <th>single</th>\n",
       "      <td>0.859910</td>\n",
       "      <td>0.140090</td>\n",
       "    </tr>\n",
       "    <tr>\n",
       "      <th>unknown</th>\n",
       "      <td>0.850000</td>\n",
       "      <td>0.150000</td>\n",
       "    </tr>\n",
       "  </tbody>\n",
       "</table>\n",
       "</div>"
      ],
      "text/plain": [
       "y               no       yes\n",
       "marital                     \n",
       "divorced  0.896769  0.103231\n",
       "married   0.898439  0.101561\n",
       "single    0.859910  0.140090\n",
       "unknown   0.850000  0.150000"
      ]
     },
     "execution_count": 102,
     "metadata": {},
     "output_type": "execute_result"
    }
   ],
   "source": [
    "pd.crosstab(df['marital'], df['y'], normalize='index')"
   ]
  },
  {
   "cell_type": "markdown",
   "id": "f63ec082-c276-4ec1-9078-bb137c6c100c",
   "metadata": {},
   "source": [
    "We see that single people will more likely say YES, than married and divorced. Unknown is not that interpretable. "
   ]
  },
  {
   "cell_type": "markdown",
   "id": "9e6d0bbc-54ce-4ab4-bd24-4c6b0eb0d271",
   "metadata": {
    "jp-MarkdownHeadingCollapsed": true
   },
   "source": [
    "### education "
   ]
  },
  {
   "cell_type": "markdown",
   "id": "268a93af-5dbd-4a37-b6ed-6c22fb5551bf",
   "metadata": {},
   "source": [
    "categorical: \"basic.4y\", \"basic.6y\", \"basic.9y\", \"high.school\", \"illiterate\", \"professional.course\", \"university.degree\", \"unknown\""
   ]
  },
  {
   "cell_type": "code",
   "execution_count": 106,
   "id": "6a8c61b8-8bea-4552-b444-123496436811",
   "metadata": {},
   "outputs": [
    {
     "data": {
      "text/plain": [
       "education\n",
       "university.degree      12164\n",
       "high.school             9512\n",
       "basic.9y                6045\n",
       "professional.course     5240\n",
       "basic.4y                4176\n",
       "basic.6y                2291\n",
       "unknown                 1730\n",
       "illiterate                18\n",
       "Name: count, dtype: int64"
      ]
     },
     "execution_count": 106,
     "metadata": {},
     "output_type": "execute_result"
    }
   ],
   "source": [
    "df.education.value_counts()"
   ]
  },
  {
   "cell_type": "code",
   "execution_count": 107,
   "id": "6646d571-16fa-430b-be8e-2963ee3d673d",
   "metadata": {},
   "outputs": [
    {
     "data": {
      "text/html": [
       "<div>\n",
       "<style scoped>\n",
       "    .dataframe tbody tr th:only-of-type {\n",
       "        vertical-align: middle;\n",
       "    }\n",
       "\n",
       "    .dataframe tbody tr th {\n",
       "        vertical-align: top;\n",
       "    }\n",
       "\n",
       "    .dataframe thead th {\n",
       "        text-align: right;\n",
       "    }\n",
       "</style>\n",
       "<table border=\"1\" class=\"dataframe\">\n",
       "  <thead>\n",
       "    <tr style=\"text-align: right;\">\n",
       "      <th>education</th>\n",
       "      <th>basic.4y</th>\n",
       "      <th>basic.6y</th>\n",
       "      <th>basic.9y</th>\n",
       "      <th>high.school</th>\n",
       "      <th>illiterate</th>\n",
       "      <th>professional.course</th>\n",
       "      <th>university.degree</th>\n",
       "      <th>unknown</th>\n",
       "    </tr>\n",
       "    <tr>\n",
       "      <th>y</th>\n",
       "      <th></th>\n",
       "      <th></th>\n",
       "      <th></th>\n",
       "      <th></th>\n",
       "      <th></th>\n",
       "      <th></th>\n",
       "      <th></th>\n",
       "      <th></th>\n",
       "    </tr>\n",
       "  </thead>\n",
       "  <tbody>\n",
       "    <tr>\n",
       "      <th>no</th>\n",
       "      <td>0.102581</td>\n",
       "      <td>0.057558</td>\n",
       "      <td>0.152503</td>\n",
       "      <td>0.232121</td>\n",
       "      <td>0.000383</td>\n",
       "      <td>0.127131</td>\n",
       "      <td>0.287243</td>\n",
       "      <td>0.040480</td>\n",
       "    </tr>\n",
       "    <tr>\n",
       "      <th>yes</th>\n",
       "      <td>0.092261</td>\n",
       "      <td>0.040526</td>\n",
       "      <td>0.101962</td>\n",
       "      <td>0.222246</td>\n",
       "      <td>0.000862</td>\n",
       "      <td>0.128260</td>\n",
       "      <td>0.359776</td>\n",
       "      <td>0.054106</td>\n",
       "    </tr>\n",
       "  </tbody>\n",
       "</table>\n",
       "</div>"
      ],
      "text/plain": [
       "education  basic.4y  basic.6y  basic.9y  high.school  illiterate  \\\n",
       "y                                                                  \n",
       "no         0.102581  0.057558  0.152503     0.232121    0.000383   \n",
       "yes        0.092261  0.040526  0.101962     0.222246    0.000862   \n",
       "\n",
       "education  professional.course  university.degree   unknown  \n",
       "y                                                            \n",
       "no                    0.127131           0.287243  0.040480  \n",
       "yes                   0.128260           0.359776  0.054106  "
      ]
     },
     "execution_count": 107,
     "metadata": {},
     "output_type": "execute_result"
    }
   ],
   "source": [
    "df.groupby('y')['education'].value_counts(normalize=True).unstack()"
   ]
  },
  {
   "cell_type": "markdown",
   "id": "0d1e026c-a49a-4d6e-aad0-3f53c06ac4f0",
   "metadata": {
    "jp-MarkdownHeadingCollapsed": true
   },
   "source": [
    "### default - has credit in default?"
   ]
  },
  {
   "cell_type": "markdown",
   "id": "eece7aed-c4e0-4e02-b9f2-b9f26a70686a",
   "metadata": {},
   "source": [
    "categorical: \"no\", \"yes\", \"unknown\""
   ]
  },
  {
   "cell_type": "code",
   "execution_count": 110,
   "id": "bfffd340-a64b-4d16-9ce0-f89e998ce0db",
   "metadata": {},
   "outputs": [
    {
     "data": {
      "text/plain": [
       "default\n",
       "no         32577\n",
       "unknown     8596\n",
       "yes            3\n",
       "Name: count, dtype: int64"
      ]
     },
     "execution_count": 110,
     "metadata": {},
     "output_type": "execute_result"
    }
   ],
   "source": [
    "df.default.value_counts()"
   ]
  },
  {
   "cell_type": "markdown",
   "id": "eb9b1a3a-e539-42b5-b84f-808d5a4e8d37",
   "metadata": {},
   "source": [
    "Class 'no' is dominant class here, class 'yes' is too rare and class 'unknown' makes 20% of the data,  which introduces uncertainty."
   ]
  },
  {
   "cell_type": "code",
   "execution_count": 112,
   "id": "0c69c6e4-0ca6-4c8c-a98c-d2f468549277",
   "metadata": {},
   "outputs": [
    {
     "data": {
      "text/html": [
       "<div>\n",
       "<style scoped>\n",
       "    .dataframe tbody tr th:only-of-type {\n",
       "        vertical-align: middle;\n",
       "    }\n",
       "\n",
       "    .dataframe tbody tr th {\n",
       "        vertical-align: top;\n",
       "    }\n",
       "\n",
       "    .dataframe thead th {\n",
       "        text-align: right;\n",
       "    }\n",
       "</style>\n",
       "<table border=\"1\" class=\"dataframe\">\n",
       "  <thead>\n",
       "    <tr style=\"text-align: right;\">\n",
       "      <th>y</th>\n",
       "      <th>no</th>\n",
       "      <th>yes</th>\n",
       "    </tr>\n",
       "    <tr>\n",
       "      <th>default</th>\n",
       "      <th></th>\n",
       "      <th></th>\n",
       "    </tr>\n",
       "  </thead>\n",
       "  <tbody>\n",
       "    <tr>\n",
       "      <th>no</th>\n",
       "      <td>0.871197</td>\n",
       "      <td>0.128803</td>\n",
       "    </tr>\n",
       "    <tr>\n",
       "      <th>unknown</th>\n",
       "      <td>0.948464</td>\n",
       "      <td>0.051536</td>\n",
       "    </tr>\n",
       "    <tr>\n",
       "      <th>yes</th>\n",
       "      <td>1.000000</td>\n",
       "      <td>0.000000</td>\n",
       "    </tr>\n",
       "  </tbody>\n",
       "</table>\n",
       "</div>"
      ],
      "text/plain": [
       "y              no       yes\n",
       "default                    \n",
       "no       0.871197  0.128803\n",
       "unknown  0.948464  0.051536\n",
       "yes      1.000000  0.000000"
      ]
     },
     "execution_count": 112,
     "metadata": {},
     "output_type": "execute_result"
    }
   ],
   "source": [
    "pd.crosstab(df['default'], df['y'], normalize='index')"
   ]
  },
  {
   "cell_type": "markdown",
   "id": "fdf7094c-2c3d-47d1-ae8c-e04c091fde66",
   "metadata": {},
   "source": [
    "There is no usefull information here, so I will drop this column"
   ]
  },
  {
   "cell_type": "code",
   "execution_count": 114,
   "id": "a7bf3875-f4b2-4143-b36b-166c7b4bc78d",
   "metadata": {},
   "outputs": [],
   "source": [
    "cols_to_drop.append('default')"
   ]
  },
  {
   "cell_type": "markdown",
   "id": "415e28c3-ddaf-481f-9ff6-4b9623131c65",
   "metadata": {
    "jp-MarkdownHeadingCollapsed": true
   },
   "source": [
    "### housing - has housing loan?"
   ]
  },
  {
   "cell_type": "markdown",
   "id": "a7191b10-23ab-4916-b36e-ddfe5a8baa17",
   "metadata": {},
   "source": [
    "categorical: \"no\", \"yes\", \"unknown\""
   ]
  },
  {
   "cell_type": "code",
   "execution_count": 117,
   "id": "acf5948d-6f8a-43cb-ab40-6223df89b200",
   "metadata": {},
   "outputs": [
    {
     "data": {
      "text/plain": [
       "housing\n",
       "yes        21571\n",
       "no         18615\n",
       "unknown      990\n",
       "Name: count, dtype: int64"
      ]
     },
     "execution_count": 117,
     "metadata": {},
     "output_type": "execute_result"
    }
   ],
   "source": [
    "df.housing.value_counts()"
   ]
  },
  {
   "cell_type": "code",
   "execution_count": 118,
   "id": "c3bcf61d-cea8-4f79-a1ff-89e5abda3661",
   "metadata": {},
   "outputs": [
    {
     "data": {
      "text/html": [
       "<div>\n",
       "<style scoped>\n",
       "    .dataframe tbody tr th:only-of-type {\n",
       "        vertical-align: middle;\n",
       "    }\n",
       "\n",
       "    .dataframe tbody tr th {\n",
       "        vertical-align: top;\n",
       "    }\n",
       "\n",
       "    .dataframe thead th {\n",
       "        text-align: right;\n",
       "    }\n",
       "</style>\n",
       "<table border=\"1\" class=\"dataframe\">\n",
       "  <thead>\n",
       "    <tr style=\"text-align: right;\">\n",
       "      <th>y</th>\n",
       "      <th>no</th>\n",
       "      <th>yes</th>\n",
       "    </tr>\n",
       "    <tr>\n",
       "      <th>housing</th>\n",
       "      <th></th>\n",
       "      <th></th>\n",
       "    </tr>\n",
       "  </thead>\n",
       "  <tbody>\n",
       "    <tr>\n",
       "      <th>no</th>\n",
       "      <td>0.891217</td>\n",
       "      <td>0.108783</td>\n",
       "    </tr>\n",
       "    <tr>\n",
       "      <th>unknown</th>\n",
       "      <td>0.891919</td>\n",
       "      <td>0.108081</td>\n",
       "    </tr>\n",
       "    <tr>\n",
       "      <th>yes</th>\n",
       "      <td>0.883779</td>\n",
       "      <td>0.116221</td>\n",
       "    </tr>\n",
       "  </tbody>\n",
       "</table>\n",
       "</div>"
      ],
      "text/plain": [
       "y              no       yes\n",
       "housing                    \n",
       "no       0.891217  0.108783\n",
       "unknown  0.891919  0.108081\n",
       "yes      0.883779  0.116221"
      ]
     },
     "execution_count": 118,
     "metadata": {},
     "output_type": "execute_result"
    }
   ],
   "source": [
    "pd.crosstab(df['housing'], df['y'], normalize='index')"
   ]
  },
  {
   "cell_type": "markdown",
   "id": "0c2134ad-bdf8-4310-a167-3f125ff6c0c2",
   "metadata": {},
   "source": [
    "I will keep this column and enocoded later"
   ]
  },
  {
   "cell_type": "markdown",
   "id": "5b837562-158f-4939-8638-3ef410ef4165",
   "metadata": {
    "jp-MarkdownHeadingCollapsed": true
   },
   "source": [
    "### loan - has personal loan?"
   ]
  },
  {
   "cell_type": "markdown",
   "id": "84e0217b-5cfd-429c-93b2-d9792f957c16",
   "metadata": {},
   "source": [
    "categorical: \"no\", \"yes\", \"unknown\""
   ]
  },
  {
   "cell_type": "code",
   "execution_count": 122,
   "id": "0829427f-84cf-411d-8c6c-780025995b66",
   "metadata": {},
   "outputs": [
    {
     "data": {
      "text/plain": [
       "loan\n",
       "no         33938\n",
       "yes         6248\n",
       "unknown      990\n",
       "Name: count, dtype: int64"
      ]
     },
     "execution_count": 122,
     "metadata": {},
     "output_type": "execute_result"
    }
   ],
   "source": [
    "df.loan.value_counts()"
   ]
  },
  {
   "cell_type": "code",
   "execution_count": 123,
   "id": "6edeba84-861f-49df-9d7a-f3fb2e59562d",
   "metadata": {},
   "outputs": [
    {
     "data": {
      "text/html": [
       "<div>\n",
       "<style scoped>\n",
       "    .dataframe tbody tr th:only-of-type {\n",
       "        vertical-align: middle;\n",
       "    }\n",
       "\n",
       "    .dataframe tbody tr th {\n",
       "        vertical-align: top;\n",
       "    }\n",
       "\n",
       "    .dataframe thead th {\n",
       "        text-align: right;\n",
       "    }\n",
       "</style>\n",
       "<table border=\"1\" class=\"dataframe\">\n",
       "  <thead>\n",
       "    <tr style=\"text-align: right;\">\n",
       "      <th>y</th>\n",
       "      <th>no</th>\n",
       "      <th>yes</th>\n",
       "    </tr>\n",
       "    <tr>\n",
       "      <th>loan</th>\n",
       "      <th></th>\n",
       "      <th></th>\n",
       "    </tr>\n",
       "  </thead>\n",
       "  <tbody>\n",
       "    <tr>\n",
       "      <th>no</th>\n",
       "      <td>0.886587</td>\n",
       "      <td>0.113413</td>\n",
       "    </tr>\n",
       "    <tr>\n",
       "      <th>unknown</th>\n",
       "      <td>0.891919</td>\n",
       "      <td>0.108081</td>\n",
       "    </tr>\n",
       "    <tr>\n",
       "      <th>yes</th>\n",
       "      <td>0.890685</td>\n",
       "      <td>0.109315</td>\n",
       "    </tr>\n",
       "  </tbody>\n",
       "</table>\n",
       "</div>"
      ],
      "text/plain": [
       "y              no       yes\n",
       "loan                       \n",
       "no       0.886587  0.113413\n",
       "unknown  0.891919  0.108081\n",
       "yes      0.890685  0.109315"
      ]
     },
     "execution_count": 123,
     "metadata": {},
     "output_type": "execute_result"
    }
   ],
   "source": [
    "pd.crosstab(df['loan'], df['y'], normalize='index')"
   ]
  },
  {
   "cell_type": "markdown",
   "id": "5395cc7f-0dbb-4d46-9be7-c3d2c156a4bd",
   "metadata": {},
   "source": [
    "There is not much difference with respect to loan status, which means that this column may not have a strong predictive potential for our objective y."
   ]
  },
  {
   "cell_type": "markdown",
   "id": "dbe834c4-42df-4c0e-9ca8-5948438f766a",
   "metadata": {
    "jp-MarkdownHeadingCollapsed": true
   },
   "source": [
    "### contact - contact communication type"
   ]
  },
  {
   "cell_type": "markdown",
   "id": "cee51799-69a3-4f24-84e4-82b0446be768",
   "metadata": {},
   "source": [
    "categorical: \"cellular\", \"telephone\""
   ]
  },
  {
   "cell_type": "code",
   "execution_count": 127,
   "id": "80c29f88-7c18-4ec0-bfa8-3fdc19f527ce",
   "metadata": {},
   "outputs": [
    {
     "data": {
      "text/plain": [
       "contact\n",
       "cellular     26135\n",
       "telephone    15041\n",
       "Name: count, dtype: int64"
      ]
     },
     "execution_count": 127,
     "metadata": {},
     "output_type": "execute_result"
    }
   ],
   "source": [
    "df.contact.value_counts()"
   ]
  },
  {
   "cell_type": "code",
   "execution_count": 128,
   "id": "54869efe-b32e-4f56-8832-e8aea71d7968",
   "metadata": {},
   "outputs": [
    {
     "data": {
      "text/html": [
       "<div>\n",
       "<style scoped>\n",
       "    .dataframe tbody tr th:only-of-type {\n",
       "        vertical-align: middle;\n",
       "    }\n",
       "\n",
       "    .dataframe tbody tr th {\n",
       "        vertical-align: top;\n",
       "    }\n",
       "\n",
       "    .dataframe thead th {\n",
       "        text-align: right;\n",
       "    }\n",
       "</style>\n",
       "<table border=\"1\" class=\"dataframe\">\n",
       "  <thead>\n",
       "    <tr style=\"text-align: right;\">\n",
       "      <th>y</th>\n",
       "      <th>no</th>\n",
       "      <th>yes</th>\n",
       "    </tr>\n",
       "    <tr>\n",
       "      <th>contact</th>\n",
       "      <th></th>\n",
       "      <th></th>\n",
       "    </tr>\n",
       "  </thead>\n",
       "  <tbody>\n",
       "    <tr>\n",
       "      <th>cellular</th>\n",
       "      <td>0.852611</td>\n",
       "      <td>0.147389</td>\n",
       "    </tr>\n",
       "    <tr>\n",
       "      <th>telephone</th>\n",
       "      <td>0.947676</td>\n",
       "      <td>0.052324</td>\n",
       "    </tr>\n",
       "  </tbody>\n",
       "</table>\n",
       "</div>"
      ],
      "text/plain": [
       "y                no       yes\n",
       "contact                      \n",
       "cellular   0.852611  0.147389\n",
       "telephone  0.947676  0.052324"
      ]
     },
     "execution_count": 128,
     "metadata": {},
     "output_type": "execute_result"
    }
   ],
   "source": [
    "pd.crosstab(df['contact'], df['y'], normalize='index')"
   ]
  },
  {
   "cell_type": "markdown",
   "id": "ac0e966e-059b-4951-8790-b82475c326ce",
   "metadata": {},
   "source": [
    "Contact via cellular is more effective for getting a positive response."
   ]
  },
  {
   "cell_type": "markdown",
   "id": "f10855b3-2fb8-4827-9ffb-663494a10b7e",
   "metadata": {},
   "source": [
    "I will use enocider later for this column."
   ]
  },
  {
   "cell_type": "markdown",
   "id": "f1e2de14-84de-4cc3-af17-e426569b6e8a",
   "metadata": {
    "jp-MarkdownHeadingCollapsed": true
   },
   "source": [
    "### month - last contact month of year"
   ]
  },
  {
   "cell_type": "markdown",
   "id": "e013d48c-30b2-4623-b066-a5de238f2838",
   "metadata": {},
   "source": [
    "categorical: \"jan\", \"feb\", \"mar\", ..., \"nov\", \"dec\""
   ]
  },
  {
   "cell_type": "code",
   "execution_count": 133,
   "id": "c5d18f9e-b789-44b3-bd6e-034165284983",
   "metadata": {},
   "outputs": [
    {
     "data": {
      "text/plain": [
       "month\n",
       "may    13767\n",
       "jul     7169\n",
       "aug     6176\n",
       "jun     5318\n",
       "nov     4100\n",
       "apr     2631\n",
       "oct      717\n",
       "sep      570\n",
       "mar      546\n",
       "dec      182\n",
       "Name: count, dtype: int64"
      ]
     },
     "execution_count": 133,
     "metadata": {},
     "output_type": "execute_result"
    }
   ],
   "source": [
    "df.month.value_counts()"
   ]
  },
  {
   "cell_type": "code",
   "execution_count": 134,
   "id": "39f105e1-c449-4e7f-a793-3f43dfd89be9",
   "metadata": {},
   "outputs": [
    {
     "data": {
      "text/html": [
       "<div>\n",
       "<style scoped>\n",
       "    .dataframe tbody tr th:only-of-type {\n",
       "        vertical-align: middle;\n",
       "    }\n",
       "\n",
       "    .dataframe tbody tr th {\n",
       "        vertical-align: top;\n",
       "    }\n",
       "\n",
       "    .dataframe thead th {\n",
       "        text-align: right;\n",
       "    }\n",
       "</style>\n",
       "<table border=\"1\" class=\"dataframe\">\n",
       "  <thead>\n",
       "    <tr style=\"text-align: right;\">\n",
       "      <th>y</th>\n",
       "      <th>no</th>\n",
       "      <th>yes</th>\n",
       "    </tr>\n",
       "    <tr>\n",
       "      <th>month</th>\n",
       "      <th></th>\n",
       "      <th></th>\n",
       "    </tr>\n",
       "  </thead>\n",
       "  <tbody>\n",
       "    <tr>\n",
       "      <th>apr</th>\n",
       "      <td>0.795135</td>\n",
       "      <td>0.204865</td>\n",
       "    </tr>\n",
       "    <tr>\n",
       "      <th>aug</th>\n",
       "      <td>0.893944</td>\n",
       "      <td>0.106056</td>\n",
       "    </tr>\n",
       "    <tr>\n",
       "      <th>dec</th>\n",
       "      <td>0.510989</td>\n",
       "      <td>0.489011</td>\n",
       "    </tr>\n",
       "    <tr>\n",
       "      <th>jul</th>\n",
       "      <td>0.909611</td>\n",
       "      <td>0.090389</td>\n",
       "    </tr>\n",
       "    <tr>\n",
       "      <th>jun</th>\n",
       "      <td>0.894885</td>\n",
       "      <td>0.105115</td>\n",
       "    </tr>\n",
       "    <tr>\n",
       "      <th>mar</th>\n",
       "      <td>0.494505</td>\n",
       "      <td>0.505495</td>\n",
       "    </tr>\n",
       "    <tr>\n",
       "      <th>may</th>\n",
       "      <td>0.935643</td>\n",
       "      <td>0.064357</td>\n",
       "    </tr>\n",
       "    <tr>\n",
       "      <th>nov</th>\n",
       "      <td>0.898537</td>\n",
       "      <td>0.101463</td>\n",
       "    </tr>\n",
       "    <tr>\n",
       "      <th>oct</th>\n",
       "      <td>0.560669</td>\n",
       "      <td>0.439331</td>\n",
       "    </tr>\n",
       "    <tr>\n",
       "      <th>sep</th>\n",
       "      <td>0.550877</td>\n",
       "      <td>0.449123</td>\n",
       "    </tr>\n",
       "  </tbody>\n",
       "</table>\n",
       "</div>"
      ],
      "text/plain": [
       "y            no       yes\n",
       "month                    \n",
       "apr    0.795135  0.204865\n",
       "aug    0.893944  0.106056\n",
       "dec    0.510989  0.489011\n",
       "jul    0.909611  0.090389\n",
       "jun    0.894885  0.105115\n",
       "mar    0.494505  0.505495\n",
       "may    0.935643  0.064357\n",
       "nov    0.898537  0.101463\n",
       "oct    0.560669  0.439331\n",
       "sep    0.550877  0.449123"
      ]
     },
     "execution_count": 134,
     "metadata": {},
     "output_type": "execute_result"
    }
   ],
   "source": [
    "pd.crosstab(df['month'], df['y'], normalize='index')"
   ]
  },
  {
   "cell_type": "markdown",
   "id": "628b09de-8ed6-4c98-8a5a-3fe160d93c0d",
   "metadata": {},
   "source": [
    "The monthly impact on campaign outcome is significant and worth including this column in the model."
   ]
  },
  {
   "cell_type": "markdown",
   "id": "0a2a6871-50f1-4201-86c1-df87ac3d3054",
   "metadata": {},
   "source": [
    "I will also use endocer later for this column"
   ]
  },
  {
   "cell_type": "markdown",
   "id": "5623e2e6-d959-407d-b4fc-7a4bde085b94",
   "metadata": {
    "jp-MarkdownHeadingCollapsed": true
   },
   "source": [
    "### day_of_week -  last contact day of the week"
   ]
  },
  {
   "cell_type": "markdown",
   "id": "592cf213-ccc4-4505-9481-a9c530d2bf55",
   "metadata": {},
   "source": [
    "categorical: \"mon\", \"tue\", \"wed\", \"thu\", \"fri\""
   ]
  },
  {
   "cell_type": "code",
   "execution_count": 139,
   "id": "431a3d02-1737-4231-9f74-96a7835abde5",
   "metadata": {},
   "outputs": [
    {
     "data": {
      "text/plain": [
       "day_of_week\n",
       "thu    8618\n",
       "mon    8512\n",
       "wed    8134\n",
       "tue    8086\n",
       "fri    7826\n",
       "Name: count, dtype: int64"
      ]
     },
     "execution_count": 139,
     "metadata": {},
     "output_type": "execute_result"
    }
   ],
   "source": [
    "df.day_of_week.value_counts()"
   ]
  },
  {
   "cell_type": "code",
   "execution_count": 140,
   "id": "d0b395fe-0763-485e-8727-3a9243b520a0",
   "metadata": {},
   "outputs": [
    {
     "data": {
      "text/html": [
       "<div>\n",
       "<style scoped>\n",
       "    .dataframe tbody tr th:only-of-type {\n",
       "        vertical-align: middle;\n",
       "    }\n",
       "\n",
       "    .dataframe tbody tr th {\n",
       "        vertical-align: top;\n",
       "    }\n",
       "\n",
       "    .dataframe thead th {\n",
       "        text-align: right;\n",
       "    }\n",
       "</style>\n",
       "<table border=\"1\" class=\"dataframe\">\n",
       "  <thead>\n",
       "    <tr style=\"text-align: right;\">\n",
       "      <th>y</th>\n",
       "      <th>no</th>\n",
       "      <th>yes</th>\n",
       "    </tr>\n",
       "    <tr>\n",
       "      <th>day_of_week</th>\n",
       "      <th></th>\n",
       "      <th></th>\n",
       "    </tr>\n",
       "  </thead>\n",
       "  <tbody>\n",
       "    <tr>\n",
       "      <th>fri</th>\n",
       "      <td>0.891899</td>\n",
       "      <td>0.108101</td>\n",
       "    </tr>\n",
       "    <tr>\n",
       "      <th>mon</th>\n",
       "      <td>0.900493</td>\n",
       "      <td>0.099507</td>\n",
       "    </tr>\n",
       "    <tr>\n",
       "      <th>thu</th>\n",
       "      <td>0.878858</td>\n",
       "      <td>0.121142</td>\n",
       "    </tr>\n",
       "    <tr>\n",
       "      <th>tue</th>\n",
       "      <td>0.882142</td>\n",
       "      <td>0.117858</td>\n",
       "    </tr>\n",
       "    <tr>\n",
       "      <th>wed</th>\n",
       "      <td>0.883329</td>\n",
       "      <td>0.116671</td>\n",
       "    </tr>\n",
       "  </tbody>\n",
       "</table>\n",
       "</div>"
      ],
      "text/plain": [
       "y                  no       yes\n",
       "day_of_week                    \n",
       "fri          0.891899  0.108101\n",
       "mon          0.900493  0.099507\n",
       "thu          0.878858  0.121142\n",
       "tue          0.882142  0.117858\n",
       "wed          0.883329  0.116671"
      ]
     },
     "execution_count": 140,
     "metadata": {},
     "output_type": "execute_result"
    }
   ],
   "source": [
    "pd.crosstab(df['day_of_week'], df['y'], normalize='index')"
   ]
  },
  {
   "cell_type": "markdown",
   "id": "de8a33cc-bd2c-4303-9b11-7e15cf40d29b",
   "metadata": {},
   "source": [
    "I will use enocder later"
   ]
  },
  {
   "cell_type": "markdown",
   "id": "41b211fb-c9a6-4efe-a4ef-2e383cb77cc0",
   "metadata": {
    "jp-MarkdownHeadingCollapsed": true
   },
   "source": [
    "### poutcome - outcome of the previous marketing campaign"
   ]
  },
  {
   "cell_type": "markdown",
   "id": "316f0991-e147-48c3-8054-364117c53420",
   "metadata": {},
   "source": [
    "categorical: \"failure\", \"nonexistent\", \"success\""
   ]
  },
  {
   "cell_type": "code",
   "execution_count": 144,
   "id": "28d7c669-0f3f-4d00-a7be-1f1c6f428ba5",
   "metadata": {},
   "outputs": [
    {
     "data": {
      "text/plain": [
       "poutcome\n",
       "nonexistent    35551\n",
       "failure         4252\n",
       "success         1373\n",
       "Name: count, dtype: int64"
      ]
     },
     "execution_count": 144,
     "metadata": {},
     "output_type": "execute_result"
    }
   ],
   "source": [
    "df.poutcome.value_counts()"
   ]
  },
  {
   "cell_type": "code",
   "execution_count": 145,
   "id": "4e881acf-eb32-4256-bb8b-5e612272e5c3",
   "metadata": {},
   "outputs": [
    {
     "data": {
      "text/html": [
       "<div>\n",
       "<style scoped>\n",
       "    .dataframe tbody tr th:only-of-type {\n",
       "        vertical-align: middle;\n",
       "    }\n",
       "\n",
       "    .dataframe tbody tr th {\n",
       "        vertical-align: top;\n",
       "    }\n",
       "\n",
       "    .dataframe thead th {\n",
       "        text-align: right;\n",
       "    }\n",
       "</style>\n",
       "<table border=\"1\" class=\"dataframe\">\n",
       "  <thead>\n",
       "    <tr style=\"text-align: right;\">\n",
       "      <th>y</th>\n",
       "      <th>no</th>\n",
       "      <th>yes</th>\n",
       "    </tr>\n",
       "    <tr>\n",
       "      <th>poutcome</th>\n",
       "      <th></th>\n",
       "      <th></th>\n",
       "    </tr>\n",
       "  </thead>\n",
       "  <tbody>\n",
       "    <tr>\n",
       "      <th>failure</th>\n",
       "      <td>0.857714</td>\n",
       "      <td>0.142286</td>\n",
       "    </tr>\n",
       "    <tr>\n",
       "      <th>nonexistent</th>\n",
       "      <td>0.911676</td>\n",
       "      <td>0.088324</td>\n",
       "    </tr>\n",
       "    <tr>\n",
       "      <th>success</th>\n",
       "      <td>0.348871</td>\n",
       "      <td>0.651129</td>\n",
       "    </tr>\n",
       "  </tbody>\n",
       "</table>\n",
       "</div>"
      ],
      "text/plain": [
       "y                  no       yes\n",
       "poutcome                       \n",
       "failure      0.857714  0.142286\n",
       "nonexistent  0.911676  0.088324\n",
       "success      0.348871  0.651129"
      ]
     },
     "execution_count": 145,
     "metadata": {},
     "output_type": "execute_result"
    }
   ],
   "source": [
    "pd.crosstab(df['poutcome'], df['y'], normalize='index')"
   ]
  },
  {
   "cell_type": "markdown",
   "id": "4630f47a-6e51-4a9a-8c0c-d558b00dd5de",
   "metadata": {},
   "source": [
    "With success, the percentage that the person said yes is much higher (65%) — which is logical, because those who have already answered successfully before have a greater chance to say \"yes\" now."
   ]
  },
  {
   "cell_type": "markdown",
   "id": "3d3246b6-a340-4b1f-a8c8-c1d5cdc41fda",
   "metadata": {
    "jp-MarkdownHeadingCollapsed": true
   },
   "source": [
    "## Encoding"
   ]
  },
  {
   "cell_type": "markdown",
   "id": "47258be2-02e2-4b65-9e8d-6ae96dc6a02e",
   "metadata": {},
   "source": [
    "Ordinal: "
   ]
  },
  {
   "cell_type": "code",
   "execution_count": 149,
   "id": "dfcba023-bb3b-470b-873b-2964ed6de229",
   "metadata": {},
   "outputs": [],
   "source": [
    "education_order = [\n",
    "    'illiterate',\n",
    "    'basic.4y',\n",
    "    'basic.6y',\n",
    "    'basic.9y',\n",
    "    'high.school',\n",
    "    'professional.course',\n",
    "    'university.degree',\n",
    "    'unknown'\n",
    "]"
   ]
  },
  {
   "cell_type": "code",
   "execution_count": 150,
   "id": "ed9afbd1-9aa9-49b6-bb68-a5cbefaea64f",
   "metadata": {},
   "outputs": [],
   "source": [
    "ordinal_encoder = OrdinalEncoder(categories=[education_order], dtype=int)\n",
    "df['education_encoded'] = ordinal_encoder.fit_transform(df[['education']])"
   ]
  },
  {
   "cell_type": "code",
   "execution_count": 151,
   "id": "b4829af0-ef19-4998-97e2-fb68881ab3f0",
   "metadata": {},
   "outputs": [],
   "source": [
    "cols_to_drop.append('education')"
   ]
  },
  {
   "cell_type": "markdown",
   "id": "a8f53355-0858-4859-897f-dcca9fcb5695",
   "metadata": {},
   "source": [
    "Nominal:"
   ]
  },
  {
   "cell_type": "code",
   "execution_count": 153,
   "id": "49ac22c3-33c2-45d3-8330-590765e9c606",
   "metadata": {},
   "outputs": [],
   "source": [
    "nominal_cols = ['job', 'marital', 'housing', 'loan', 'contact', 'month', 'day_of_week', 'poutcome']"
   ]
  },
  {
   "cell_type": "code",
   "execution_count": 154,
   "id": "ae95471e-c81f-4b3c-afe3-aef3d0febee5",
   "metadata": {},
   "outputs": [],
   "source": [
    "df = pd.get_dummies(df, columns = nominal_cols, drop_first=True)"
   ]
  },
  {
   "cell_type": "code",
   "execution_count": 155,
   "id": "7266b10a-b992-46ec-9b01-0111495cd0d9",
   "metadata": {},
   "outputs": [
    {
     "data": {
      "text/html": [
       "<div>\n",
       "<style scoped>\n",
       "    .dataframe tbody tr th:only-of-type {\n",
       "        vertical-align: middle;\n",
       "    }\n",
       "\n",
       "    .dataframe tbody tr th {\n",
       "        vertical-align: top;\n",
       "    }\n",
       "\n",
       "    .dataframe thead th {\n",
       "        text-align: right;\n",
       "    }\n",
       "</style>\n",
       "<table border=\"1\" class=\"dataframe\">\n",
       "  <thead>\n",
       "    <tr style=\"text-align: right;\">\n",
       "      <th></th>\n",
       "      <th>age</th>\n",
       "      <th>education</th>\n",
       "      <th>default</th>\n",
       "      <th>duration</th>\n",
       "      <th>campaign</th>\n",
       "      <th>pdays</th>\n",
       "      <th>previous</th>\n",
       "      <th>emp.var.rate</th>\n",
       "      <th>cons.price.idx</th>\n",
       "      <th>cons.conf.idx</th>\n",
       "      <th>euribor3m</th>\n",
       "      <th>nr.employed</th>\n",
       "      <th>y</th>\n",
       "      <th>pdays_999</th>\n",
       "      <th>pdays_was_contacted</th>\n",
       "      <th>was_previously_contacted</th>\n",
       "      <th>education_encoded</th>\n",
       "      <th>job_blue-collar</th>\n",
       "      <th>job_entrepreneur</th>\n",
       "      <th>job_housemaid</th>\n",
       "      <th>job_management</th>\n",
       "      <th>job_retired</th>\n",
       "      <th>job_self-employed</th>\n",
       "      <th>job_services</th>\n",
       "      <th>job_student</th>\n",
       "      <th>job_technician</th>\n",
       "      <th>job_unemployed</th>\n",
       "      <th>job_unknown</th>\n",
       "      <th>marital_married</th>\n",
       "      <th>marital_single</th>\n",
       "      <th>marital_unknown</th>\n",
       "      <th>housing_unknown</th>\n",
       "      <th>housing_yes</th>\n",
       "      <th>loan_unknown</th>\n",
       "      <th>loan_yes</th>\n",
       "      <th>contact_telephone</th>\n",
       "      <th>month_aug</th>\n",
       "      <th>month_dec</th>\n",
       "      <th>month_jul</th>\n",
       "      <th>month_jun</th>\n",
       "      <th>month_mar</th>\n",
       "      <th>month_may</th>\n",
       "      <th>month_nov</th>\n",
       "      <th>month_oct</th>\n",
       "      <th>month_sep</th>\n",
       "      <th>day_of_week_mon</th>\n",
       "      <th>day_of_week_thu</th>\n",
       "      <th>day_of_week_tue</th>\n",
       "      <th>day_of_week_wed</th>\n",
       "      <th>poutcome_nonexistent</th>\n",
       "      <th>poutcome_success</th>\n",
       "    </tr>\n",
       "  </thead>\n",
       "  <tbody>\n",
       "    <tr>\n",
       "      <th>0</th>\n",
       "      <td>56</td>\n",
       "      <td>basic.4y</td>\n",
       "      <td>no</td>\n",
       "      <td>261</td>\n",
       "      <td>1</td>\n",
       "      <td>999</td>\n",
       "      <td>0</td>\n",
       "      <td>1.1</td>\n",
       "      <td>93.994</td>\n",
       "      <td>-36.4</td>\n",
       "      <td>4.857</td>\n",
       "      <td>5191.0</td>\n",
       "      <td>no</td>\n",
       "      <td>True</td>\n",
       "      <td>0</td>\n",
       "      <td>0</td>\n",
       "      <td>1</td>\n",
       "      <td>False</td>\n",
       "      <td>False</td>\n",
       "      <td>True</td>\n",
       "      <td>False</td>\n",
       "      <td>False</td>\n",
       "      <td>False</td>\n",
       "      <td>False</td>\n",
       "      <td>False</td>\n",
       "      <td>False</td>\n",
       "      <td>False</td>\n",
       "      <td>False</td>\n",
       "      <td>True</td>\n",
       "      <td>False</td>\n",
       "      <td>False</td>\n",
       "      <td>False</td>\n",
       "      <td>False</td>\n",
       "      <td>False</td>\n",
       "      <td>False</td>\n",
       "      <td>True</td>\n",
       "      <td>False</td>\n",
       "      <td>False</td>\n",
       "      <td>False</td>\n",
       "      <td>False</td>\n",
       "      <td>False</td>\n",
       "      <td>True</td>\n",
       "      <td>False</td>\n",
       "      <td>False</td>\n",
       "      <td>False</td>\n",
       "      <td>True</td>\n",
       "      <td>False</td>\n",
       "      <td>False</td>\n",
       "      <td>False</td>\n",
       "      <td>True</td>\n",
       "      <td>False</td>\n",
       "    </tr>\n",
       "    <tr>\n",
       "      <th>1</th>\n",
       "      <td>57</td>\n",
       "      <td>high.school</td>\n",
       "      <td>unknown</td>\n",
       "      <td>149</td>\n",
       "      <td>1</td>\n",
       "      <td>999</td>\n",
       "      <td>0</td>\n",
       "      <td>1.1</td>\n",
       "      <td>93.994</td>\n",
       "      <td>-36.4</td>\n",
       "      <td>4.857</td>\n",
       "      <td>5191.0</td>\n",
       "      <td>no</td>\n",
       "      <td>True</td>\n",
       "      <td>0</td>\n",
       "      <td>0</td>\n",
       "      <td>4</td>\n",
       "      <td>False</td>\n",
       "      <td>False</td>\n",
       "      <td>False</td>\n",
       "      <td>False</td>\n",
       "      <td>False</td>\n",
       "      <td>False</td>\n",
       "      <td>True</td>\n",
       "      <td>False</td>\n",
       "      <td>False</td>\n",
       "      <td>False</td>\n",
       "      <td>False</td>\n",
       "      <td>True</td>\n",
       "      <td>False</td>\n",
       "      <td>False</td>\n",
       "      <td>False</td>\n",
       "      <td>False</td>\n",
       "      <td>False</td>\n",
       "      <td>False</td>\n",
       "      <td>True</td>\n",
       "      <td>False</td>\n",
       "      <td>False</td>\n",
       "      <td>False</td>\n",
       "      <td>False</td>\n",
       "      <td>False</td>\n",
       "      <td>True</td>\n",
       "      <td>False</td>\n",
       "      <td>False</td>\n",
       "      <td>False</td>\n",
       "      <td>True</td>\n",
       "      <td>False</td>\n",
       "      <td>False</td>\n",
       "      <td>False</td>\n",
       "      <td>True</td>\n",
       "      <td>False</td>\n",
       "    </tr>\n",
       "    <tr>\n",
       "      <th>2</th>\n",
       "      <td>37</td>\n",
       "      <td>high.school</td>\n",
       "      <td>no</td>\n",
       "      <td>226</td>\n",
       "      <td>1</td>\n",
       "      <td>999</td>\n",
       "      <td>0</td>\n",
       "      <td>1.1</td>\n",
       "      <td>93.994</td>\n",
       "      <td>-36.4</td>\n",
       "      <td>4.857</td>\n",
       "      <td>5191.0</td>\n",
       "      <td>no</td>\n",
       "      <td>True</td>\n",
       "      <td>0</td>\n",
       "      <td>0</td>\n",
       "      <td>4</td>\n",
       "      <td>False</td>\n",
       "      <td>False</td>\n",
       "      <td>False</td>\n",
       "      <td>False</td>\n",
       "      <td>False</td>\n",
       "      <td>False</td>\n",
       "      <td>True</td>\n",
       "      <td>False</td>\n",
       "      <td>False</td>\n",
       "      <td>False</td>\n",
       "      <td>False</td>\n",
       "      <td>True</td>\n",
       "      <td>False</td>\n",
       "      <td>False</td>\n",
       "      <td>False</td>\n",
       "      <td>True</td>\n",
       "      <td>False</td>\n",
       "      <td>False</td>\n",
       "      <td>True</td>\n",
       "      <td>False</td>\n",
       "      <td>False</td>\n",
       "      <td>False</td>\n",
       "      <td>False</td>\n",
       "      <td>False</td>\n",
       "      <td>True</td>\n",
       "      <td>False</td>\n",
       "      <td>False</td>\n",
       "      <td>False</td>\n",
       "      <td>True</td>\n",
       "      <td>False</td>\n",
       "      <td>False</td>\n",
       "      <td>False</td>\n",
       "      <td>True</td>\n",
       "      <td>False</td>\n",
       "    </tr>\n",
       "    <tr>\n",
       "      <th>3</th>\n",
       "      <td>40</td>\n",
       "      <td>basic.6y</td>\n",
       "      <td>no</td>\n",
       "      <td>151</td>\n",
       "      <td>1</td>\n",
       "      <td>999</td>\n",
       "      <td>0</td>\n",
       "      <td>1.1</td>\n",
       "      <td>93.994</td>\n",
       "      <td>-36.4</td>\n",
       "      <td>4.857</td>\n",
       "      <td>5191.0</td>\n",
       "      <td>no</td>\n",
       "      <td>True</td>\n",
       "      <td>0</td>\n",
       "      <td>0</td>\n",
       "      <td>2</td>\n",
       "      <td>False</td>\n",
       "      <td>False</td>\n",
       "      <td>False</td>\n",
       "      <td>False</td>\n",
       "      <td>False</td>\n",
       "      <td>False</td>\n",
       "      <td>False</td>\n",
       "      <td>False</td>\n",
       "      <td>False</td>\n",
       "      <td>False</td>\n",
       "      <td>False</td>\n",
       "      <td>True</td>\n",
       "      <td>False</td>\n",
       "      <td>False</td>\n",
       "      <td>False</td>\n",
       "      <td>False</td>\n",
       "      <td>False</td>\n",
       "      <td>False</td>\n",
       "      <td>True</td>\n",
       "      <td>False</td>\n",
       "      <td>False</td>\n",
       "      <td>False</td>\n",
       "      <td>False</td>\n",
       "      <td>False</td>\n",
       "      <td>True</td>\n",
       "      <td>False</td>\n",
       "      <td>False</td>\n",
       "      <td>False</td>\n",
       "      <td>True</td>\n",
       "      <td>False</td>\n",
       "      <td>False</td>\n",
       "      <td>False</td>\n",
       "      <td>True</td>\n",
       "      <td>False</td>\n",
       "    </tr>\n",
       "    <tr>\n",
       "      <th>4</th>\n",
       "      <td>56</td>\n",
       "      <td>high.school</td>\n",
       "      <td>no</td>\n",
       "      <td>307</td>\n",
       "      <td>1</td>\n",
       "      <td>999</td>\n",
       "      <td>0</td>\n",
       "      <td>1.1</td>\n",
       "      <td>93.994</td>\n",
       "      <td>-36.4</td>\n",
       "      <td>4.857</td>\n",
       "      <td>5191.0</td>\n",
       "      <td>no</td>\n",
       "      <td>True</td>\n",
       "      <td>0</td>\n",
       "      <td>0</td>\n",
       "      <td>4</td>\n",
       "      <td>False</td>\n",
       "      <td>False</td>\n",
       "      <td>False</td>\n",
       "      <td>False</td>\n",
       "      <td>False</td>\n",
       "      <td>False</td>\n",
       "      <td>True</td>\n",
       "      <td>False</td>\n",
       "      <td>False</td>\n",
       "      <td>False</td>\n",
       "      <td>False</td>\n",
       "      <td>True</td>\n",
       "      <td>False</td>\n",
       "      <td>False</td>\n",
       "      <td>False</td>\n",
       "      <td>False</td>\n",
       "      <td>False</td>\n",
       "      <td>True</td>\n",
       "      <td>True</td>\n",
       "      <td>False</td>\n",
       "      <td>False</td>\n",
       "      <td>False</td>\n",
       "      <td>False</td>\n",
       "      <td>False</td>\n",
       "      <td>True</td>\n",
       "      <td>False</td>\n",
       "      <td>False</td>\n",
       "      <td>False</td>\n",
       "      <td>True</td>\n",
       "      <td>False</td>\n",
       "      <td>False</td>\n",
       "      <td>False</td>\n",
       "      <td>True</td>\n",
       "      <td>False</td>\n",
       "    </tr>\n",
       "    <tr>\n",
       "      <th>...</th>\n",
       "      <td>...</td>\n",
       "      <td>...</td>\n",
       "      <td>...</td>\n",
       "      <td>...</td>\n",
       "      <td>...</td>\n",
       "      <td>...</td>\n",
       "      <td>...</td>\n",
       "      <td>...</td>\n",
       "      <td>...</td>\n",
       "      <td>...</td>\n",
       "      <td>...</td>\n",
       "      <td>...</td>\n",
       "      <td>...</td>\n",
       "      <td>...</td>\n",
       "      <td>...</td>\n",
       "      <td>...</td>\n",
       "      <td>...</td>\n",
       "      <td>...</td>\n",
       "      <td>...</td>\n",
       "      <td>...</td>\n",
       "      <td>...</td>\n",
       "      <td>...</td>\n",
       "      <td>...</td>\n",
       "      <td>...</td>\n",
       "      <td>...</td>\n",
       "      <td>...</td>\n",
       "      <td>...</td>\n",
       "      <td>...</td>\n",
       "      <td>...</td>\n",
       "      <td>...</td>\n",
       "      <td>...</td>\n",
       "      <td>...</td>\n",
       "      <td>...</td>\n",
       "      <td>...</td>\n",
       "      <td>...</td>\n",
       "      <td>...</td>\n",
       "      <td>...</td>\n",
       "      <td>...</td>\n",
       "      <td>...</td>\n",
       "      <td>...</td>\n",
       "      <td>...</td>\n",
       "      <td>...</td>\n",
       "      <td>...</td>\n",
       "      <td>...</td>\n",
       "      <td>...</td>\n",
       "      <td>...</td>\n",
       "      <td>...</td>\n",
       "      <td>...</td>\n",
       "      <td>...</td>\n",
       "      <td>...</td>\n",
       "      <td>...</td>\n",
       "    </tr>\n",
       "    <tr>\n",
       "      <th>41183</th>\n",
       "      <td>73</td>\n",
       "      <td>professional.course</td>\n",
       "      <td>no</td>\n",
       "      <td>334</td>\n",
       "      <td>1</td>\n",
       "      <td>999</td>\n",
       "      <td>0</td>\n",
       "      <td>-1.1</td>\n",
       "      <td>94.767</td>\n",
       "      <td>-50.8</td>\n",
       "      <td>1.028</td>\n",
       "      <td>4963.6</td>\n",
       "      <td>yes</td>\n",
       "      <td>True</td>\n",
       "      <td>0</td>\n",
       "      <td>0</td>\n",
       "      <td>5</td>\n",
       "      <td>False</td>\n",
       "      <td>False</td>\n",
       "      <td>False</td>\n",
       "      <td>False</td>\n",
       "      <td>True</td>\n",
       "      <td>False</td>\n",
       "      <td>False</td>\n",
       "      <td>False</td>\n",
       "      <td>False</td>\n",
       "      <td>False</td>\n",
       "      <td>False</td>\n",
       "      <td>True</td>\n",
       "      <td>False</td>\n",
       "      <td>False</td>\n",
       "      <td>False</td>\n",
       "      <td>True</td>\n",
       "      <td>False</td>\n",
       "      <td>False</td>\n",
       "      <td>False</td>\n",
       "      <td>False</td>\n",
       "      <td>False</td>\n",
       "      <td>False</td>\n",
       "      <td>False</td>\n",
       "      <td>False</td>\n",
       "      <td>False</td>\n",
       "      <td>True</td>\n",
       "      <td>False</td>\n",
       "      <td>False</td>\n",
       "      <td>False</td>\n",
       "      <td>False</td>\n",
       "      <td>False</td>\n",
       "      <td>False</td>\n",
       "      <td>True</td>\n",
       "      <td>False</td>\n",
       "    </tr>\n",
       "    <tr>\n",
       "      <th>41184</th>\n",
       "      <td>46</td>\n",
       "      <td>professional.course</td>\n",
       "      <td>no</td>\n",
       "      <td>383</td>\n",
       "      <td>1</td>\n",
       "      <td>999</td>\n",
       "      <td>0</td>\n",
       "      <td>-1.1</td>\n",
       "      <td>94.767</td>\n",
       "      <td>-50.8</td>\n",
       "      <td>1.028</td>\n",
       "      <td>4963.6</td>\n",
       "      <td>no</td>\n",
       "      <td>True</td>\n",
       "      <td>0</td>\n",
       "      <td>0</td>\n",
       "      <td>5</td>\n",
       "      <td>True</td>\n",
       "      <td>False</td>\n",
       "      <td>False</td>\n",
       "      <td>False</td>\n",
       "      <td>False</td>\n",
       "      <td>False</td>\n",
       "      <td>False</td>\n",
       "      <td>False</td>\n",
       "      <td>False</td>\n",
       "      <td>False</td>\n",
       "      <td>False</td>\n",
       "      <td>True</td>\n",
       "      <td>False</td>\n",
       "      <td>False</td>\n",
       "      <td>False</td>\n",
       "      <td>False</td>\n",
       "      <td>False</td>\n",
       "      <td>False</td>\n",
       "      <td>False</td>\n",
       "      <td>False</td>\n",
       "      <td>False</td>\n",
       "      <td>False</td>\n",
       "      <td>False</td>\n",
       "      <td>False</td>\n",
       "      <td>False</td>\n",
       "      <td>True</td>\n",
       "      <td>False</td>\n",
       "      <td>False</td>\n",
       "      <td>False</td>\n",
       "      <td>False</td>\n",
       "      <td>False</td>\n",
       "      <td>False</td>\n",
       "      <td>True</td>\n",
       "      <td>False</td>\n",
       "    </tr>\n",
       "    <tr>\n",
       "      <th>41185</th>\n",
       "      <td>56</td>\n",
       "      <td>university.degree</td>\n",
       "      <td>no</td>\n",
       "      <td>189</td>\n",
       "      <td>2</td>\n",
       "      <td>999</td>\n",
       "      <td>0</td>\n",
       "      <td>-1.1</td>\n",
       "      <td>94.767</td>\n",
       "      <td>-50.8</td>\n",
       "      <td>1.028</td>\n",
       "      <td>4963.6</td>\n",
       "      <td>no</td>\n",
       "      <td>True</td>\n",
       "      <td>0</td>\n",
       "      <td>0</td>\n",
       "      <td>6</td>\n",
       "      <td>False</td>\n",
       "      <td>False</td>\n",
       "      <td>False</td>\n",
       "      <td>False</td>\n",
       "      <td>True</td>\n",
       "      <td>False</td>\n",
       "      <td>False</td>\n",
       "      <td>False</td>\n",
       "      <td>False</td>\n",
       "      <td>False</td>\n",
       "      <td>False</td>\n",
       "      <td>True</td>\n",
       "      <td>False</td>\n",
       "      <td>False</td>\n",
       "      <td>False</td>\n",
       "      <td>True</td>\n",
       "      <td>False</td>\n",
       "      <td>False</td>\n",
       "      <td>False</td>\n",
       "      <td>False</td>\n",
       "      <td>False</td>\n",
       "      <td>False</td>\n",
       "      <td>False</td>\n",
       "      <td>False</td>\n",
       "      <td>False</td>\n",
       "      <td>True</td>\n",
       "      <td>False</td>\n",
       "      <td>False</td>\n",
       "      <td>False</td>\n",
       "      <td>False</td>\n",
       "      <td>False</td>\n",
       "      <td>False</td>\n",
       "      <td>True</td>\n",
       "      <td>False</td>\n",
       "    </tr>\n",
       "    <tr>\n",
       "      <th>41186</th>\n",
       "      <td>44</td>\n",
       "      <td>professional.course</td>\n",
       "      <td>no</td>\n",
       "      <td>442</td>\n",
       "      <td>1</td>\n",
       "      <td>999</td>\n",
       "      <td>0</td>\n",
       "      <td>-1.1</td>\n",
       "      <td>94.767</td>\n",
       "      <td>-50.8</td>\n",
       "      <td>1.028</td>\n",
       "      <td>4963.6</td>\n",
       "      <td>yes</td>\n",
       "      <td>True</td>\n",
       "      <td>0</td>\n",
       "      <td>0</td>\n",
       "      <td>5</td>\n",
       "      <td>False</td>\n",
       "      <td>False</td>\n",
       "      <td>False</td>\n",
       "      <td>False</td>\n",
       "      <td>False</td>\n",
       "      <td>False</td>\n",
       "      <td>False</td>\n",
       "      <td>False</td>\n",
       "      <td>True</td>\n",
       "      <td>False</td>\n",
       "      <td>False</td>\n",
       "      <td>True</td>\n",
       "      <td>False</td>\n",
       "      <td>False</td>\n",
       "      <td>False</td>\n",
       "      <td>False</td>\n",
       "      <td>False</td>\n",
       "      <td>False</td>\n",
       "      <td>False</td>\n",
       "      <td>False</td>\n",
       "      <td>False</td>\n",
       "      <td>False</td>\n",
       "      <td>False</td>\n",
       "      <td>False</td>\n",
       "      <td>False</td>\n",
       "      <td>True</td>\n",
       "      <td>False</td>\n",
       "      <td>False</td>\n",
       "      <td>False</td>\n",
       "      <td>False</td>\n",
       "      <td>False</td>\n",
       "      <td>False</td>\n",
       "      <td>True</td>\n",
       "      <td>False</td>\n",
       "    </tr>\n",
       "    <tr>\n",
       "      <th>41187</th>\n",
       "      <td>74</td>\n",
       "      <td>professional.course</td>\n",
       "      <td>no</td>\n",
       "      <td>239</td>\n",
       "      <td>3</td>\n",
       "      <td>999</td>\n",
       "      <td>1</td>\n",
       "      <td>-1.1</td>\n",
       "      <td>94.767</td>\n",
       "      <td>-50.8</td>\n",
       "      <td>1.028</td>\n",
       "      <td>4963.6</td>\n",
       "      <td>no</td>\n",
       "      <td>True</td>\n",
       "      <td>0</td>\n",
       "      <td>1</td>\n",
       "      <td>5</td>\n",
       "      <td>False</td>\n",
       "      <td>False</td>\n",
       "      <td>False</td>\n",
       "      <td>False</td>\n",
       "      <td>True</td>\n",
       "      <td>False</td>\n",
       "      <td>False</td>\n",
       "      <td>False</td>\n",
       "      <td>False</td>\n",
       "      <td>False</td>\n",
       "      <td>False</td>\n",
       "      <td>True</td>\n",
       "      <td>False</td>\n",
       "      <td>False</td>\n",
       "      <td>False</td>\n",
       "      <td>True</td>\n",
       "      <td>False</td>\n",
       "      <td>False</td>\n",
       "      <td>False</td>\n",
       "      <td>False</td>\n",
       "      <td>False</td>\n",
       "      <td>False</td>\n",
       "      <td>False</td>\n",
       "      <td>False</td>\n",
       "      <td>False</td>\n",
       "      <td>True</td>\n",
       "      <td>False</td>\n",
       "      <td>False</td>\n",
       "      <td>False</td>\n",
       "      <td>False</td>\n",
       "      <td>False</td>\n",
       "      <td>False</td>\n",
       "      <td>False</td>\n",
       "      <td>False</td>\n",
       "    </tr>\n",
       "  </tbody>\n",
       "</table>\n",
       "<p>41176 rows × 51 columns</p>\n",
       "</div>"
      ],
      "text/plain": [
       "       age            education  default  duration  campaign  pdays  previous  \\\n",
       "0       56             basic.4y       no       261         1    999         0   \n",
       "1       57          high.school  unknown       149         1    999         0   \n",
       "2       37          high.school       no       226         1    999         0   \n",
       "3       40             basic.6y       no       151         1    999         0   \n",
       "4       56          high.school       no       307         1    999         0   \n",
       "...    ...                  ...      ...       ...       ...    ...       ...   \n",
       "41183   73  professional.course       no       334         1    999         0   \n",
       "41184   46  professional.course       no       383         1    999         0   \n",
       "41185   56    university.degree       no       189         2    999         0   \n",
       "41186   44  professional.course       no       442         1    999         0   \n",
       "41187   74  professional.course       no       239         3    999         1   \n",
       "\n",
       "       emp.var.rate  cons.price.idx  cons.conf.idx  euribor3m  nr.employed  \\\n",
       "0               1.1          93.994          -36.4      4.857       5191.0   \n",
       "1               1.1          93.994          -36.4      4.857       5191.0   \n",
       "2               1.1          93.994          -36.4      4.857       5191.0   \n",
       "3               1.1          93.994          -36.4      4.857       5191.0   \n",
       "4               1.1          93.994          -36.4      4.857       5191.0   \n",
       "...             ...             ...            ...        ...          ...   \n",
       "41183          -1.1          94.767          -50.8      1.028       4963.6   \n",
       "41184          -1.1          94.767          -50.8      1.028       4963.6   \n",
       "41185          -1.1          94.767          -50.8      1.028       4963.6   \n",
       "41186          -1.1          94.767          -50.8      1.028       4963.6   \n",
       "41187          -1.1          94.767          -50.8      1.028       4963.6   \n",
       "\n",
       "         y  pdays_999  pdays_was_contacted  was_previously_contacted  \\\n",
       "0       no       True                    0                         0   \n",
       "1       no       True                    0                         0   \n",
       "2       no       True                    0                         0   \n",
       "3       no       True                    0                         0   \n",
       "4       no       True                    0                         0   \n",
       "...    ...        ...                  ...                       ...   \n",
       "41183  yes       True                    0                         0   \n",
       "41184   no       True                    0                         0   \n",
       "41185   no       True                    0                         0   \n",
       "41186  yes       True                    0                         0   \n",
       "41187   no       True                    0                         1   \n",
       "\n",
       "       education_encoded  job_blue-collar  job_entrepreneur  job_housemaid  \\\n",
       "0                      1            False             False           True   \n",
       "1                      4            False             False          False   \n",
       "2                      4            False             False          False   \n",
       "3                      2            False             False          False   \n",
       "4                      4            False             False          False   \n",
       "...                  ...              ...               ...            ...   \n",
       "41183                  5            False             False          False   \n",
       "41184                  5             True             False          False   \n",
       "41185                  6            False             False          False   \n",
       "41186                  5            False             False          False   \n",
       "41187                  5            False             False          False   \n",
       "\n",
       "       job_management  job_retired  job_self-employed  job_services  \\\n",
       "0               False        False              False         False   \n",
       "1               False        False              False          True   \n",
       "2               False        False              False          True   \n",
       "3               False        False              False         False   \n",
       "4               False        False              False          True   \n",
       "...               ...          ...                ...           ...   \n",
       "41183           False         True              False         False   \n",
       "41184           False        False              False         False   \n",
       "41185           False         True              False         False   \n",
       "41186           False        False              False         False   \n",
       "41187           False         True              False         False   \n",
       "\n",
       "       job_student  job_technician  job_unemployed  job_unknown  \\\n",
       "0            False           False           False        False   \n",
       "1            False           False           False        False   \n",
       "2            False           False           False        False   \n",
       "3            False           False           False        False   \n",
       "4            False           False           False        False   \n",
       "...            ...             ...             ...          ...   \n",
       "41183        False           False           False        False   \n",
       "41184        False           False           False        False   \n",
       "41185        False           False           False        False   \n",
       "41186        False            True           False        False   \n",
       "41187        False           False           False        False   \n",
       "\n",
       "       marital_married  marital_single  marital_unknown  housing_unknown  \\\n",
       "0                 True           False            False            False   \n",
       "1                 True           False            False            False   \n",
       "2                 True           False            False            False   \n",
       "3                 True           False            False            False   \n",
       "4                 True           False            False            False   \n",
       "...                ...             ...              ...              ...   \n",
       "41183             True           False            False            False   \n",
       "41184             True           False            False            False   \n",
       "41185             True           False            False            False   \n",
       "41186             True           False            False            False   \n",
       "41187             True           False            False            False   \n",
       "\n",
       "       housing_yes  loan_unknown  loan_yes  contact_telephone  month_aug  \\\n",
       "0            False         False     False               True      False   \n",
       "1            False         False     False               True      False   \n",
       "2             True         False     False               True      False   \n",
       "3            False         False     False               True      False   \n",
       "4            False         False      True               True      False   \n",
       "...            ...           ...       ...                ...        ...   \n",
       "41183         True         False     False              False      False   \n",
       "41184        False         False     False              False      False   \n",
       "41185         True         False     False              False      False   \n",
       "41186        False         False     False              False      False   \n",
       "41187         True         False     False              False      False   \n",
       "\n",
       "       month_dec  month_jul  month_jun  month_mar  month_may  month_nov  \\\n",
       "0          False      False      False      False       True      False   \n",
       "1          False      False      False      False       True      False   \n",
       "2          False      False      False      False       True      False   \n",
       "3          False      False      False      False       True      False   \n",
       "4          False      False      False      False       True      False   \n",
       "...          ...        ...        ...        ...        ...        ...   \n",
       "41183      False      False      False      False      False       True   \n",
       "41184      False      False      False      False      False       True   \n",
       "41185      False      False      False      False      False       True   \n",
       "41186      False      False      False      False      False       True   \n",
       "41187      False      False      False      False      False       True   \n",
       "\n",
       "       month_oct  month_sep  day_of_week_mon  day_of_week_thu  \\\n",
       "0          False      False             True            False   \n",
       "1          False      False             True            False   \n",
       "2          False      False             True            False   \n",
       "3          False      False             True            False   \n",
       "4          False      False             True            False   \n",
       "...          ...        ...              ...              ...   \n",
       "41183      False      False            False            False   \n",
       "41184      False      False            False            False   \n",
       "41185      False      False            False            False   \n",
       "41186      False      False            False            False   \n",
       "41187      False      False            False            False   \n",
       "\n",
       "       day_of_week_tue  day_of_week_wed  poutcome_nonexistent  \\\n",
       "0                False            False                  True   \n",
       "1                False            False                  True   \n",
       "2                False            False                  True   \n",
       "3                False            False                  True   \n",
       "4                False            False                  True   \n",
       "...                ...              ...                   ...   \n",
       "41183            False            False                  True   \n",
       "41184            False            False                  True   \n",
       "41185            False            False                  True   \n",
       "41186            False            False                  True   \n",
       "41187            False            False                 False   \n",
       "\n",
       "       poutcome_success  \n",
       "0                 False  \n",
       "1                 False  \n",
       "2                 False  \n",
       "3                 False  \n",
       "4                 False  \n",
       "...                 ...  \n",
       "41183             False  \n",
       "41184             False  \n",
       "41185             False  \n",
       "41186             False  \n",
       "41187             False  \n",
       "\n",
       "[41176 rows x 51 columns]"
      ]
     },
     "execution_count": 155,
     "metadata": {},
     "output_type": "execute_result"
    }
   ],
   "source": [
    "df"
   ]
  },
  {
   "cell_type": "markdown",
   "id": "48cbb55b-eda7-40fd-ba7a-d0cd19ebb176",
   "metadata": {},
   "source": [
    "Target:"
   ]
  },
  {
   "cell_type": "code",
   "execution_count": 157,
   "id": "53432ae8-0a75-4c9a-b7f4-396e369c2285",
   "metadata": {},
   "outputs": [],
   "source": [
    "le = LabelEncoder()\n",
    "df.y = le.fit_transform(df.y)"
   ]
  },
  {
   "cell_type": "code",
   "execution_count": 158,
   "id": "af678b34-6042-4bb1-a81a-842dce4db436",
   "metadata": {},
   "outputs": [
    {
     "data": {
      "text/plain": [
       "0        0\n",
       "1        0\n",
       "2        0\n",
       "3        0\n",
       "4        0\n",
       "        ..\n",
       "41183    1\n",
       "41184    0\n",
       "41185    0\n",
       "41186    1\n",
       "41187    0\n",
       "Name: y, Length: 41176, dtype: int32"
      ]
     },
     "execution_count": 158,
     "metadata": {},
     "output_type": "execute_result"
    }
   ],
   "source": [
    "df.y"
   ]
  },
  {
   "cell_type": "markdown",
   "id": "86ac6577-6cca-4a29-b345-184416a542b2",
   "metadata": {},
   "source": [
    "## Droping columns"
   ]
  },
  {
   "cell_type": "code",
   "execution_count": 160,
   "id": "66c1d8e1-dcaf-4086-8dbf-030fe33c0dbf",
   "metadata": {},
   "outputs": [],
   "source": [
    "df.drop(columns = cols_to_drop, axis=1, inplace=True)"
   ]
  },
  {
   "cell_type": "markdown",
   "id": "19df5d7c-56ed-4030-b04d-21b9387db0d6",
   "metadata": {
    "jp-MarkdownHeadingCollapsed": true
   },
   "source": [
    "## Outliers"
   ]
  },
  {
   "cell_type": "code",
   "execution_count": 162,
   "id": "cd627596-cbb0-4114-bd76-e1dccee2bb1e",
   "metadata": {},
   "outputs": [],
   "source": [
    "for col in ['duration','campaign','pdays','previous']:\n",
    "    numerical_cols.remove(col)\n"
   ]
  },
  {
   "cell_type": "code",
   "execution_count": 163,
   "id": "9ae663e5-d9f2-4cce-81ee-226c14473675",
   "metadata": {},
   "outputs": [
    {
     "data": {
      "text/plain": [
       "['age',\n",
       " 'emp.var.rate',\n",
       " 'cons.price.idx',\n",
       " 'cons.conf.idx',\n",
       " 'euribor3m',\n",
       " 'nr.employed']"
      ]
     },
     "execution_count": 163,
     "metadata": {},
     "output_type": "execute_result"
    }
   ],
   "source": [
    "numerical_cols"
   ]
  },
  {
   "cell_type": "code",
   "execution_count": 164,
   "id": "688f4fe7-17aa-4729-ad54-2185302b765d",
   "metadata": {},
   "outputs": [
    {
     "name": "stdout",
     "output_type": "stream",
     "text": [
      "age - broj outliera: 468 (1.14%)\n",
      "emp.var.rate - broj outliera: 0 (0.00%)\n",
      "cons.price.idx - broj outliera: 0 (0.00%)\n",
      "cons.conf.idx - broj outliera: 446 (1.08%)\n",
      "euribor3m - broj outliera: 0 (0.00%)\n",
      "nr.employed - broj outliera: 0 (0.00%)\n"
     ]
    }
   ],
   "source": [
    "for col in numerical_cols:\n",
    "    Q1 = df[col].quantile(0.25)\n",
    "    Q3 = df[col].quantile(0.75)\n",
    "    IQR = Q3 - Q1\n",
    "    lower = Q1 - 1.5 * IQR\n",
    "    upper = Q3 + 1.5 * IQR\n",
    "    outliers = df[(df[col] < lower) | (df[col] > upper)]\n",
    "    print(f\"{col} - broj outliera: {len(outliers)} ({100*len(outliers)/len(df):.2f}%)\")"
   ]
  },
  {
   "cell_type": "markdown",
   "id": "aac53b28-470f-4868-8a4d-d7d3d40c4f94",
   "metadata": {},
   "source": [
    "## Correlation"
   ]
  },
  {
   "cell_type": "code",
   "execution_count": 166,
   "id": "45bca08e-7c68-490e-a911-375692d9762b",
   "metadata": {},
   "outputs": [
    {
     "data": {
      "text/plain": [
       "['age',\n",
       " 'emp.var.rate',\n",
       " 'cons.price.idx',\n",
       " 'cons.conf.idx',\n",
       " 'euribor3m',\n",
       " 'nr.employed',\n",
       " 'y']"
      ]
     },
     "execution_count": 166,
     "metadata": {},
     "output_type": "execute_result"
    }
   ],
   "source": [
    "corr_cols = numerical_cols\n",
    "corr_cols.append('y')\n",
    "corr_cols"
   ]
  },
  {
   "cell_type": "code",
   "execution_count": 167,
   "id": "d9ec267b-61e0-480b-9e41-ccc6a1a06fa1",
   "metadata": {},
   "outputs": [
    {
     "data": {
      "image/png": "[encoded data removed]",
      "text/plain": [
       "<Figure size 640x480 with 2 Axes>"
      ]
     },
     "metadata": {},
     "output_type": "display_data"
    }
   ],
   "source": [
    "sns.heatmap(df[corr_cols].corr(), annot=True, fmt='.2f', annot_kws={'size':8})\n",
    "plt.title('Correlation matrix')\n",
    "plt.show()"
   ]
  },
  {
   "cell_type": "markdown",
   "id": "f8d88d3f-7cee-4f10-af3b-0756eb302685",
   "metadata": {},
   "source": [
    "There are some features that are highly correlated"
   ]
  },
  {
   "cell_type": "markdown",
   "id": "a3a352b5-70f9-4e9c-9164-ae62a066f87c",
   "metadata": {},
   "source": [
    "There are:\n",
    "> emp.var.rate i euribor3m → 0.972\n",
    "\n",
    "> emp.var.rate i nr.employed → 0.907\n",
    "\n",
    "> euribor3m i nr.employed → 0.945\n",
    "\n",
    "Since nr.employed has the biggest correlation with target (-0.35), I will leave it, and drop emp.var.rate and euribor3m"
   ]
  },
  {
   "cell_type": "code",
   "execution_count": 170,
   "id": "8afb8b42-0f77-4d90-b140-f54f64822010",
   "metadata": {},
   "outputs": [],
   "source": [
    "df.drop(columns=['emp.var.rate', 'euribor3m'], axis=1, inplace=True)"
   ]
  },
  {
   "cell_type": "markdown",
   "id": "519c172a-ae2a-47c8-8a3a-2a66006c77e5",
   "metadata": {},
   "source": [
    "## Train / test "
   ]
  },
  {
   "cell_type": "markdown",
   "id": "16ed1f51-ae60-422e-a10c-876153b6d373",
   "metadata": {},
   "source": [
    "Feature matrix"
   ]
  },
  {
   "cell_type": "code",
   "execution_count": 173,
   "id": "13dc3d40-4a64-444d-b6ac-ecf41fe9a6d5",
   "metadata": {},
   "outputs": [],
   "source": [
    "X = df.drop(columns=['y'], axis=1)"
   ]
  },
  {
   "cell_type": "markdown",
   "id": "c53ef25b-5ea2-4f85-90de-57dd6f8b34c7",
   "metadata": {},
   "source": [
    "Target column"
   ]
  },
  {
   "cell_type": "code",
   "execution_count": 175,
   "id": "70de7751-dd1f-4dbf-9322-51cc362f4484",
   "metadata": {},
   "outputs": [],
   "source": [
    "y = df.y"
   ]
  },
  {
   "cell_type": "code",
   "execution_count": 176,
   "id": "5e83e21f-9a22-4fe8-bcf9-873d24b3a40e",
   "metadata": {},
   "outputs": [],
   "source": [
    "seed = 42\n",
    "test_size = 0.2"
   ]
  },
  {
   "cell_type": "code",
   "execution_count": 177,
   "id": "a5579298-1dbf-4eb0-a812-c204485285ba",
   "metadata": {},
   "outputs": [],
   "source": [
    "X_train, X_test, y_train, y_test = train_test_split(X, y, test_size = test_size, random_state = seed, stratify=y)"
   ]
  },
  {
   "cell_type": "markdown",
   "id": "43156f8d-1d72-4a63-a800-f7bfc9d6c8cb",
   "metadata": {},
   "source": [
    "# ML algorithms"
   ]
  },
  {
   "cell_type": "markdown",
   "id": "f908fb29-198f-4bcb-8ce8-a45245938a91",
   "metadata": {},
   "source": [
    "I'm goging to use GridSearchCV on ML models, using same scoring ROC-AUC. And I'm going to save best model from each algorithm"
   ]
  },
  {
   "cell_type": "code",
   "execution_count": 353,
   "id": "58f4807a-0715-459b-8620-256e0fc1be2f",
   "metadata": {},
   "outputs": [],
   "source": [
    "results_list = []\n",
    "best_models_dict = {}"
   ]
  },
  {
   "cell_type": "markdown",
   "id": "de777290-1a28-4754-a5fd-66353d6bdfea",
   "metadata": {},
   "source": [
    "## K nearest neighbors KNN"
   ]
  },
  {
   "cell_type": "code",
   "execution_count": 182,
   "id": "e49fb06b-fe7a-41d5-9eea-6e4a1ac16296",
   "metadata": {},
   "outputs": [],
   "source": [
    "pipeline = ImbPipeline([  \n",
    "    ('scaler', StandardScaler()),\n",
    "    ('smote', SMOTE(random_state=seed)),\n",
    "    ('knn', KNeighborsClassifier(n_neighbors=5))\n",
    "])"
   ]
  },
  {
   "cell_type": "code",
   "execution_count": 183,
   "id": "38c0880a-aebd-426c-b048-c8b53aac4134",
   "metadata": {},
   "outputs": [],
   "source": [
    "param_grid = {\n",
    "    'knn__n_neighbors': list(range(1, 21)),  # values for k\n",
    "    'knn__weights': ['uniform', 'distance'], # uniform or distance weighting\n",
    "    'knn__metric': ['euclidean', 'manhattan'] # metrics \n",
    "}"
   ]
  },
  {
   "cell_type": "markdown",
   "id": "8625fb36-8257-41f2-8a12-e48ac04f4052",
   "metadata": {},
   "source": [
    "I'm going to use this same cv_strategy for all models in GridSearchCV"
   ]
  },
  {
   "cell_type": "code",
   "execution_count": 185,
   "id": "be56dea7-c841-4d63-9831-e5dc1eec0c09",
   "metadata": {},
   "outputs": [],
   "source": [
    "cv_strategy = StratifiedKFold(n_splits=5, shuffle=True, random_state=42)"
   ]
  },
  {
   "cell_type": "code",
   "execution_count": 186,
   "id": "6835114b-4f36-421e-ac9e-26bbc1d285c3",
   "metadata": {},
   "outputs": [],
   "source": [
    "grid_search_knn = GridSearchCV(pipeline, param_grid, cv=cv_strategy, scoring='roc_auc', n_jobs=-1)"
   ]
  },
  {
   "cell_type": "code",
   "execution_count": 187,
   "id": "94fbda46-eed7-4075-9381-8d4ab486d5ef",
   "metadata": {},
   "outputs": [
    {
     "data": {
      "text/html": [
       "<style>#sk-container-id-1 {color: black;}#sk-container-id-1 pre{padding: 0;}#sk-container-id-1 div.sk-toggleable {background-color: white;}#sk-container-id-1 label.sk-toggleable__label {cursor: pointer;display: block;width: 100%;margin-bottom: 0;padding: 0.3em;box-sizing: border-box;text-align: center;}#sk-container-id-1 label.sk-toggleable__label-arrow:before {content: \"▸\";float: left;margin-right: 0.25em;color: #696969;}#sk-container-id-1 label.sk-toggleable__label-arrow:hover:before {color: black;}#sk-container-id-1 div.sk-estimator:hover label.sk-toggleable__label-arrow:before {color: black;}#sk-container-id-1 div.sk-toggleable__content {max-height: 0;max-width: 0;overflow: hidden;text-align: left;background-color: #f0f8ff;}#sk-container-id-1 div.sk-toggleable__content pre {margin: 0.2em;color: black;border-radius: 0.25em;background-color: #f0f8ff;}#sk-container-id-1 input.sk-toggleable__control:checked~div.sk-toggleable__content {max-height: 200px;max-width: 100%;overflow: auto;}#sk-container-id-1 input.sk-toggleable__control:checked~label.sk-toggleable__label-arrow:before {content: \"▾\";}#sk-container-id-1 div.sk-estimator input.sk-toggleable__control:checked~label.sk-toggleable__label {background-color: #d4ebff;}#sk-container-id-1 div.sk-label input.sk-toggleable__control:checked~label.sk-toggleable__label {background-color: #d4ebff;}#sk-container-id-1 input.sk-hidden--visually {border: 0;clip: rect(1px 1px 1px 1px);clip: rect(1px, 1px, 1px, 1px);height: 1px;margin: -1px;overflow: hidden;padding: 0;position: absolute;width: 1px;}#sk-container-id-1 div.sk-estimator {font-family: monospace;background-color: #f0f8ff;border: 1px dotted black;border-radius: 0.25em;box-sizing: border-box;margin-bottom: 0.5em;}#sk-container-id-1 div.sk-estimator:hover {background-color: #d4ebff;}#sk-container-id-1 div.sk-parallel-item::after {content: \"\";width: 100%;border-bottom: 1px solid gray;flex-grow: 1;}#sk-container-id-1 div.sk-label:hover label.sk-toggleable__label {background-color: #d4ebff;}#sk-container-id-1 div.sk-serial::before {content: \"\";position: absolute;border-left: 1px solid gray;box-sizing: border-box;top: 0;bottom: 0;left: 50%;z-index: 0;}#sk-container-id-1 div.sk-serial {display: flex;flex-direction: column;align-items: center;background-color: white;padding-right: 0.2em;padding-left: 0.2em;position: relative;}#sk-container-id-1 div.sk-item {position: relative;z-index: 1;}#sk-container-id-1 div.sk-parallel {display: flex;align-items: stretch;justify-content: center;background-color: white;position: relative;}#sk-container-id-1 div.sk-item::before, #sk-container-id-1 div.sk-parallel-item::before {content: \"\";position: absolute;border-left: 1px solid gray;box-sizing: border-box;top: 0;bottom: 0;left: 50%;z-index: -1;}#sk-container-id-1 div.sk-parallel-item {display: flex;flex-direction: column;z-index: 1;position: relative;background-color: white;}#sk-container-id-1 div.sk-parallel-item:first-child::after {align-self: flex-end;width: 50%;}#sk-container-id-1 div.sk-parallel-item:last-child::after {align-self: flex-start;width: 50%;}#sk-container-id-1 div.sk-parallel-item:only-child::after {width: 0;}#sk-container-id-1 div.sk-dashed-wrapped {border: 1px dashed gray;margin: 0 0.4em 0.5em 0.4em;box-sizing: border-box;padding-bottom: 0.4em;background-color: white;}#sk-container-id-1 div.sk-label label {font-family: monospace;font-weight: bold;display: inline-block;line-height: 1.2em;}#sk-container-id-1 div.sk-label-container {text-align: center;}#sk-container-id-1 div.sk-container {/* jupyter's `normalize.less` sets `[hidden] { display: none; }` but bootstrap.min.css set `[hidden] { display: none !important; }` so we also need the `!important` here to be able to override the default hidden behavior on the sphinx rendered scikit-learn.org. See: https://github.com/scikit-learn/scikit-learn/issues/21755 */display: inline-block !important;position: relative;}#sk-container-id-1 div.sk-text-repr-fallback {display: none;}</style><div id=\"sk-container-id-1\" class=\"sk-top-container\"><div class=\"sk-text-repr-fallback\"><pre>GridSearchCV(cv=StratifiedKFold(n_splits=5, random_state=42, shuffle=True),\n",
       "             estimator=Pipeline(steps=[(&#x27;scaler&#x27;, StandardScaler()),\n",
       "                                       (&#x27;smote&#x27;, SMOTE(random_state=42)),\n",
       "                                       (&#x27;knn&#x27;, KNeighborsClassifier())]),\n",
       "             n_jobs=-1,\n",
       "             param_grid={&#x27;knn__metric&#x27;: [&#x27;euclidean&#x27;, &#x27;manhattan&#x27;],\n",
       "                         &#x27;knn__n_neighbors&#x27;: [1, 2, 3, 4, 5, 6, 7, 8, 9, 10, 11,\n",
       "                                              12, 13, 14, 15, 16, 17, 18, 19,\n",
       "                                              20],\n",
       "                         &#x27;knn__weights&#x27;: [&#x27;uniform&#x27;, &#x27;distance&#x27;]},\n",
       "             scoring=&#x27;roc_auc&#x27;)</pre><b>In a Jupyter environment, please rerun this cell to show the HTML representation or trust the notebook. <br />On GitHub, the HTML representation is unable to render, please try loading this page with nbviewer.org.</b></div><div class=\"sk-container\" hidden><div class=\"sk-item sk-dashed-wrapped\"><div class=\"sk-label-container\"><div class=\"sk-label sk-toggleable\"><input class=\"sk-toggleable__control sk-hidden--visually\" id=\"sk-estimator-id-1\" type=\"checkbox\" ><label for=\"sk-estimator-id-1\" class=\"sk-toggleable__label sk-toggleable__label-arrow\">GridSearchCV</label><div class=\"sk-toggleable__content\"><pre>GridSearchCV(cv=StratifiedKFold(n_splits=5, random_state=42, shuffle=True),\n",
       "             estimator=Pipeline(steps=[(&#x27;scaler&#x27;, StandardScaler()),\n",
       "                                       (&#x27;smote&#x27;, SMOTE(random_state=42)),\n",
       "                                       (&#x27;knn&#x27;, KNeighborsClassifier())]),\n",
       "             n_jobs=-1,\n",
       "             param_grid={&#x27;knn__metric&#x27;: [&#x27;euclidean&#x27;, &#x27;manhattan&#x27;],\n",
       "                         &#x27;knn__n_neighbors&#x27;: [1, 2, 3, 4, 5, 6, 7, 8, 9, 10, 11,\n",
       "                                              12, 13, 14, 15, 16, 17, 18, 19,\n",
       "                                              20],\n",
       "                         &#x27;knn__weights&#x27;: [&#x27;uniform&#x27;, &#x27;distance&#x27;]},\n",
       "             scoring=&#x27;roc_auc&#x27;)</pre></div></div></div><div class=\"sk-parallel\"><div class=\"sk-parallel-item\"><div class=\"sk-item\"><div class=\"sk-label-container\"><div class=\"sk-label sk-toggleable\"><input class=\"sk-toggleable__control sk-hidden--visually\" id=\"sk-estimator-id-2\" type=\"checkbox\" ><label for=\"sk-estimator-id-2\" class=\"sk-toggleable__label sk-toggleable__label-arrow\">estimator: Pipeline</label><div class=\"sk-toggleable__content\"><pre>Pipeline(steps=[(&#x27;scaler&#x27;, StandardScaler()), (&#x27;smote&#x27;, SMOTE(random_state=42)),\n",
       "                (&#x27;knn&#x27;, KNeighborsClassifier())])</pre></div></div></div><div class=\"sk-serial\"><div class=\"sk-item\"><div class=\"sk-serial\"><div class=\"sk-item\"><div class=\"sk-estimator sk-toggleable\"><input class=\"sk-toggleable__control sk-hidden--visually\" id=\"sk-estimator-id-3\" type=\"checkbox\" ><label for=\"sk-estimator-id-3\" class=\"sk-toggleable__label sk-toggleable__label-arrow\">StandardScaler</label><div class=\"sk-toggleable__content\"><pre>StandardScaler()</pre></div></div></div><div class=\"sk-item\"><div class=\"sk-estimator sk-toggleable\"><input class=\"sk-toggleable__control sk-hidden--visually\" id=\"sk-estimator-id-4\" type=\"checkbox\" ><label for=\"sk-estimator-id-4\" class=\"sk-toggleable__label sk-toggleable__label-arrow\">SMOTE</label><div class=\"sk-toggleable__content\"><pre>SMOTE(random_state=42)</pre></div></div></div><div class=\"sk-item\"><div class=\"sk-estimator sk-toggleable\"><input class=\"sk-toggleable__control sk-hidden--visually\" id=\"sk-estimator-id-5\" type=\"checkbox\" ><label for=\"sk-estimator-id-5\" class=\"sk-toggleable__label sk-toggleable__label-arrow\">KNeighborsClassifier</label><div class=\"sk-toggleable__content\"><pre>KNeighborsClassifier()</pre></div></div></div></div></div></div></div></div></div></div></div></div>"
      ],
      "text/plain": [
       "GridSearchCV(cv=StratifiedKFold(n_splits=5, random_state=42, shuffle=True),\n",
       "             estimator=Pipeline(steps=[('scaler', StandardScaler()),\n",
       "                                       ('smote', SMOTE(random_state=42)),\n",
       "                                       ('knn', KNeighborsClassifier())]),\n",
       "             n_jobs=-1,\n",
       "             param_grid={'knn__metric': ['euclidean', 'manhattan'],\n",
       "                         'knn__n_neighbors': [1, 2, 3, 4, 5, 6, 7, 8, 9, 10, 11,\n",
       "                                              12, 13, 14, 15, 16, 17, 18, 19,\n",
       "                                              20],\n",
       "                         'knn__weights': ['uniform', 'distance']},\n",
       "             scoring='roc_auc')"
      ]
     },
     "execution_count": 187,
     "metadata": {},
     "output_type": "execute_result"
    }
   ],
   "source": [
    "grid_search_knn.fit(X_train, y_train)"
   ]
  },
  {
   "cell_type": "code",
   "execution_count": 188,
   "id": "36463b4c-90a6-4eaa-9e9b-a5c150897b03",
   "metadata": {},
   "outputs": [
    {
     "name": "stdout",
     "output_type": "stream",
     "text": [
      "Best parameters: {'knn__metric': 'manhattan', 'knn__n_neighbors': 20, 'knn__weights': 'uniform'}\n",
      "Best CV ROC AUC score: 0.7461738000518849\n"
     ]
    }
   ],
   "source": [
    "print(\"Best parameters:\", grid_search_knn.best_params_)\n",
    "print(\"Best CV ROC AUC score:\", grid_search_knn.best_score_)"
   ]
  },
  {
   "cell_type": "code",
   "execution_count": 189,
   "id": "111a6c02-a7d9-4fec-aa5e-94f111f5e366",
   "metadata": {},
   "outputs": [],
   "source": [
    "best_knn_model = grid_search_knn.best_estimator_"
   ]
  },
  {
   "cell_type": "code",
   "execution_count": 357,
   "id": "41f283e0-3c2e-4ad4-bf99-17510bd07ed5",
   "metadata": {},
   "outputs": [],
   "source": [
    "best_models_dict['KNN'] = best_knn_model"
   ]
  },
  {
   "cell_type": "code",
   "execution_count": 359,
   "id": "98604b04-2c8d-460b-a471-0fb36d676c23",
   "metadata": {},
   "outputs": [],
   "source": [
    "results_list.append({\n",
    "    'Model': 'KNN',\n",
    "    'Best Estimator': grid_search_knn.best_estimator_,\n",
    "    'Best Params': grid_search_knn.best_params_,\n",
    "    'Best CV ROC AUC': grid_search_knn.best_score_\n",
    "})"
   ]
  },
  {
   "cell_type": "markdown",
   "id": "7512b266-5e23-4eec-84ff-2ffa16ec480e",
   "metadata": {},
   "source": [
    "## Logistic Regression LR"
   ]
  },
  {
   "cell_type": "code",
   "execution_count": 193,
   "id": "330a9613-6d5b-4fa3-a9c2-64eb69a96b9a",
   "metadata": {},
   "outputs": [],
   "source": [
    "lr_pipeline = ImbPipeline([\n",
    "    ('scaler', StandardScaler()),\n",
    "    ('smote', SMOTE(random_state=seed)),\n",
    "    ('lr', LogisticRegression(max_iter=1000, random_state=42))\n",
    "])"
   ]
  },
  {
   "cell_type": "code",
   "execution_count": 194,
   "id": "96c1fc92-63c9-48d3-97a5-1f205994afdb",
   "metadata": {},
   "outputs": [],
   "source": [
    "param_grid_lr = {\n",
    "    'lr__C': [0.01, 0.1, 1, 10, 100],  # regularization\n",
    "    'lr__penalty': ['l2'],             # only l2 for LogisticRegression with solver='lbfgs'\n",
    "    'lr__solver': ['lbfgs', 'saga']    # big data + l2\n",
    "}"
   ]
  },
  {
   "cell_type": "code",
   "execution_count": 195,
   "id": "596f44fd-da72-4f87-ba60-1d7b80ad124f",
   "metadata": {},
   "outputs": [],
   "source": [
    "grid_search_lr = GridSearchCV(lr_pipeline, param_grid_lr, cv=cv_strategy, scoring='roc_auc', n_jobs=-1)"
   ]
  },
  {
   "cell_type": "code",
   "execution_count": 196,
   "id": "26247b6b-3a62-4de3-8537-c58ca5ac9352",
   "metadata": {},
   "outputs": [
    {
     "data": {
      "text/html": [
       "<style>#sk-container-id-2 {color: black;}#sk-container-id-2 pre{padding: 0;}#sk-container-id-2 div.sk-toggleable {background-color: white;}#sk-container-id-2 label.sk-toggleable__label {cursor: pointer;display: block;width: 100%;margin-bottom: 0;padding: 0.3em;box-sizing: border-box;text-align: center;}#sk-container-id-2 label.sk-toggleable__label-arrow:before {content: \"▸\";float: left;margin-right: 0.25em;color: #696969;}#sk-container-id-2 label.sk-toggleable__label-arrow:hover:before {color: black;}#sk-container-id-2 div.sk-estimator:hover label.sk-toggleable__label-arrow:before {color: black;}#sk-container-id-2 div.sk-toggleable__content {max-height: 0;max-width: 0;overflow: hidden;text-align: left;background-color: #f0f8ff;}#sk-container-id-2 div.sk-toggleable__content pre {margin: 0.2em;color: black;border-radius: 0.25em;background-color: #f0f8ff;}#sk-container-id-2 input.sk-toggleable__control:checked~div.sk-toggleable__content {max-height: 200px;max-width: 100%;overflow: auto;}#sk-container-id-2 input.sk-toggleable__control:checked~label.sk-toggleable__label-arrow:before {content: \"▾\";}#sk-container-id-2 div.sk-estimator input.sk-toggleable__control:checked~label.sk-toggleable__label {background-color: #d4ebff;}#sk-container-id-2 div.sk-label input.sk-toggleable__control:checked~label.sk-toggleable__label {background-color: #d4ebff;}#sk-container-id-2 input.sk-hidden--visually {border: 0;clip: rect(1px 1px 1px 1px);clip: rect(1px, 1px, 1px, 1px);height: 1px;margin: -1px;overflow: hidden;padding: 0;position: absolute;width: 1px;}#sk-container-id-2 div.sk-estimator {font-family: monospace;background-color: #f0f8ff;border: 1px dotted black;border-radius: 0.25em;box-sizing: border-box;margin-bottom: 0.5em;}#sk-container-id-2 div.sk-estimator:hover {background-color: #d4ebff;}#sk-container-id-2 div.sk-parallel-item::after {content: \"\";width: 100%;border-bottom: 1px solid gray;flex-grow: 1;}#sk-container-id-2 div.sk-label:hover label.sk-toggleable__label {background-color: #d4ebff;}#sk-container-id-2 div.sk-serial::before {content: \"\";position: absolute;border-left: 1px solid gray;box-sizing: border-box;top: 0;bottom: 0;left: 50%;z-index: 0;}#sk-container-id-2 div.sk-serial {display: flex;flex-direction: column;align-items: center;background-color: white;padding-right: 0.2em;padding-left: 0.2em;position: relative;}#sk-container-id-2 div.sk-item {position: relative;z-index: 1;}#sk-container-id-2 div.sk-parallel {display: flex;align-items: stretch;justify-content: center;background-color: white;position: relative;}#sk-container-id-2 div.sk-item::before, #sk-container-id-2 div.sk-parallel-item::before {content: \"\";position: absolute;border-left: 1px solid gray;box-sizing: border-box;top: 0;bottom: 0;left: 50%;z-index: -1;}#sk-container-id-2 div.sk-parallel-item {display: flex;flex-direction: column;z-index: 1;position: relative;background-color: white;}#sk-container-id-2 div.sk-parallel-item:first-child::after {align-self: flex-end;width: 50%;}#sk-container-id-2 div.sk-parallel-item:last-child::after {align-self: flex-start;width: 50%;}#sk-container-id-2 div.sk-parallel-item:only-child::after {width: 0;}#sk-container-id-2 div.sk-dashed-wrapped {border: 1px dashed gray;margin: 0 0.4em 0.5em 0.4em;box-sizing: border-box;padding-bottom: 0.4em;background-color: white;}#sk-container-id-2 div.sk-label label {font-family: monospace;font-weight: bold;display: inline-block;line-height: 1.2em;}#sk-container-id-2 div.sk-label-container {text-align: center;}#sk-container-id-2 div.sk-container {/* jupyter's `normalize.less` sets `[hidden] { display: none; }` but bootstrap.min.css set `[hidden] { display: none !important; }` so we also need the `!important` here to be able to override the default hidden behavior on the sphinx rendered scikit-learn.org. See: https://github.com/scikit-learn/scikit-learn/issues/21755 */display: inline-block !important;position: relative;}#sk-container-id-2 div.sk-text-repr-fallback {display: none;}</style><div id=\"sk-container-id-2\" class=\"sk-top-container\"><div class=\"sk-text-repr-fallback\"><pre>GridSearchCV(cv=StratifiedKFold(n_splits=5, random_state=42, shuffle=True),\n",
       "             estimator=Pipeline(steps=[(&#x27;scaler&#x27;, StandardScaler()),\n",
       "                                       (&#x27;smote&#x27;, SMOTE(random_state=42)),\n",
       "                                       (&#x27;lr&#x27;,\n",
       "                                        LogisticRegression(max_iter=1000,\n",
       "                                                           random_state=42))]),\n",
       "             n_jobs=-1,\n",
       "             param_grid={&#x27;lr__C&#x27;: [0.01, 0.1, 1, 10, 100],\n",
       "                         &#x27;lr__penalty&#x27;: [&#x27;l2&#x27;],\n",
       "                         &#x27;lr__solver&#x27;: [&#x27;lbfgs&#x27;, &#x27;saga&#x27;]},\n",
       "             scoring=&#x27;roc_auc&#x27;)</pre><b>In a Jupyter environment, please rerun this cell to show the HTML representation or trust the notebook. <br />On GitHub, the HTML representation is unable to render, please try loading this page with nbviewer.org.</b></div><div class=\"sk-container\" hidden><div class=\"sk-item sk-dashed-wrapped\"><div class=\"sk-label-container\"><div class=\"sk-label sk-toggleable\"><input class=\"sk-toggleable__control sk-hidden--visually\" id=\"sk-estimator-id-6\" type=\"checkbox\" ><label for=\"sk-estimator-id-6\" class=\"sk-toggleable__label sk-toggleable__label-arrow\">GridSearchCV</label><div class=\"sk-toggleable__content\"><pre>GridSearchCV(cv=StratifiedKFold(n_splits=5, random_state=42, shuffle=True),\n",
       "             estimator=Pipeline(steps=[(&#x27;scaler&#x27;, StandardScaler()),\n",
       "                                       (&#x27;smote&#x27;, SMOTE(random_state=42)),\n",
       "                                       (&#x27;lr&#x27;,\n",
       "                                        LogisticRegression(max_iter=1000,\n",
       "                                                           random_state=42))]),\n",
       "             n_jobs=-1,\n",
       "             param_grid={&#x27;lr__C&#x27;: [0.01, 0.1, 1, 10, 100],\n",
       "                         &#x27;lr__penalty&#x27;: [&#x27;l2&#x27;],\n",
       "                         &#x27;lr__solver&#x27;: [&#x27;lbfgs&#x27;, &#x27;saga&#x27;]},\n",
       "             scoring=&#x27;roc_auc&#x27;)</pre></div></div></div><div class=\"sk-parallel\"><div class=\"sk-parallel-item\"><div class=\"sk-item\"><div class=\"sk-label-container\"><div class=\"sk-label sk-toggleable\"><input class=\"sk-toggleable__control sk-hidden--visually\" id=\"sk-estimator-id-7\" type=\"checkbox\" ><label for=\"sk-estimator-id-7\" class=\"sk-toggleable__label sk-toggleable__label-arrow\">estimator: Pipeline</label><div class=\"sk-toggleable__content\"><pre>Pipeline(steps=[(&#x27;scaler&#x27;, StandardScaler()), (&#x27;smote&#x27;, SMOTE(random_state=42)),\n",
       "                (&#x27;lr&#x27;, LogisticRegression(max_iter=1000, random_state=42))])</pre></div></div></div><div class=\"sk-serial\"><div class=\"sk-item\"><div class=\"sk-serial\"><div class=\"sk-item\"><div class=\"sk-estimator sk-toggleable\"><input class=\"sk-toggleable__control sk-hidden--visually\" id=\"sk-estimator-id-8\" type=\"checkbox\" ><label for=\"sk-estimator-id-8\" class=\"sk-toggleable__label sk-toggleable__label-arrow\">StandardScaler</label><div class=\"sk-toggleable__content\"><pre>StandardScaler()</pre></div></div></div><div class=\"sk-item\"><div class=\"sk-estimator sk-toggleable\"><input class=\"sk-toggleable__control sk-hidden--visually\" id=\"sk-estimator-id-9\" type=\"checkbox\" ><label for=\"sk-estimator-id-9\" class=\"sk-toggleable__label sk-toggleable__label-arrow\">SMOTE</label><div class=\"sk-toggleable__content\"><pre>SMOTE(random_state=42)</pre></div></div></div><div class=\"sk-item\"><div class=\"sk-estimator sk-toggleable\"><input class=\"sk-toggleable__control sk-hidden--visually\" id=\"sk-estimator-id-10\" type=\"checkbox\" ><label for=\"sk-estimator-id-10\" class=\"sk-toggleable__label sk-toggleable__label-arrow\">LogisticRegression</label><div class=\"sk-toggleable__content\"><pre>LogisticRegression(max_iter=1000, random_state=42)</pre></div></div></div></div></div></div></div></div></div></div></div></div>"
      ],
      "text/plain": [
       "GridSearchCV(cv=StratifiedKFold(n_splits=5, random_state=42, shuffle=True),\n",
       "             estimator=Pipeline(steps=[('scaler', StandardScaler()),\n",
       "                                       ('smote', SMOTE(random_state=42)),\n",
       "                                       ('lr',\n",
       "                                        LogisticRegression(max_iter=1000,\n",
       "                                                           random_state=42))]),\n",
       "             n_jobs=-1,\n",
       "             param_grid={'lr__C': [0.01, 0.1, 1, 10, 100],\n",
       "                         'lr__penalty': ['l2'],\n",
       "                         'lr__solver': ['lbfgs', 'saga']},\n",
       "             scoring='roc_auc')"
      ]
     },
     "execution_count": 196,
     "metadata": {},
     "output_type": "execute_result"
    }
   ],
   "source": [
    "grid_search_lr.fit(X_train, y_train)"
   ]
  },
  {
   "cell_type": "code",
   "execution_count": 197,
   "id": "aa861e98-b994-4b78-a2c3-362cda10c516",
   "metadata": {},
   "outputs": [
    {
     "name": "stdout",
     "output_type": "stream",
     "text": [
      "Best parameters: {'lr__C': 0.01, 'lr__penalty': 'l2', 'lr__solver': 'lbfgs'}\n",
      "Best CV ROC AUC score: 0.7850373676996367\n"
     ]
    }
   ],
   "source": [
    "print(\"Best parameters:\", grid_search_lr.best_params_)\n",
    "print(\"Best CV ROC AUC score:\", grid_search_lr.best_score_)"
   ]
  },
  {
   "cell_type": "code",
   "execution_count": 198,
   "id": "43651d5a-afe0-4760-b1c9-63b56b880308",
   "metadata": {},
   "outputs": [],
   "source": [
    "best_lr_model = grid_search_lr.best_estimator_"
   ]
  },
  {
   "cell_type": "code",
   "execution_count": 361,
   "id": "453f9143-cdfb-4665-b2df-e4ddf2658c9b",
   "metadata": {},
   "outputs": [],
   "source": [
    "best_models_dict['LR'] = best_lr_model"
   ]
  },
  {
   "cell_type": "code",
   "execution_count": 363,
   "id": "c74bb89f-3aa4-40b4-ae79-a044988876da",
   "metadata": {},
   "outputs": [],
   "source": [
    "results_list.append({\n",
    "    'Model': 'LR',\n",
    "    'Best Estimator': grid_search_lr.best_estimator_,\n",
    "    'Best Params': grid_search_lr.best_params_,\n",
    "    'Best CV ROC AUC': grid_search_lr.best_score_\n",
    "})"
   ]
  },
  {
   "cell_type": "markdown",
   "id": "27b1a8ba-7948-4af9-b434-10654dfc991d",
   "metadata": {},
   "source": [
    "## Linear Discriminant Analysis LDA"
   ]
  },
  {
   "cell_type": "code",
   "execution_count": 202,
   "id": "561ccc88-0e92-4e94-80fb-67340e695783",
   "metadata": {},
   "outputs": [],
   "source": [
    "lda_pipeline = ImbPipeline(steps=[\n",
    "    ('scaler', StandardScaler()),\n",
    "    ('smote', SMOTE(random_state=seed)),\n",
    "    ('lda', LinearDiscriminantAnalysis())\n",
    "])"
   ]
  },
  {
   "cell_type": "code",
   "execution_count": 203,
   "id": "ce04c932-2e8a-4a91-85e0-fa0bec386281",
   "metadata": {},
   "outputs": [],
   "source": [
    "param_grid_lda = [\n",
    "    {\n",
    "        'lda__solver': ['svd'],\n",
    "        'lda__shrinkage': [None] #'svd' doesn't support shrinkage\n",
    "    },\n",
    "    {\n",
    "        'lda__solver': ['lsqr'],\n",
    "        'lda__shrinkage': [None, 'auto', 0.1, 0.3, 0.5, 0.7, 0.9] #without and with shrinkage\n",
    "    }\n",
    "]"
   ]
  },
  {
   "cell_type": "code",
   "execution_count": 204,
   "id": "203f4d4a-5e92-4498-805f-c1d16b023dbe",
   "metadata": {},
   "outputs": [],
   "source": [
    "grid_search_lda = GridSearchCV(lda_pipeline, param_grid_lda, cv=cv_strategy, scoring='roc_auc', n_jobs=-1)"
   ]
  },
  {
   "cell_type": "code",
   "execution_count": 205,
   "id": "cb2a49f4-d55a-4df8-ae3b-f8cefb75c765",
   "metadata": {},
   "outputs": [
    {
     "data": {
      "text/html": [
       "<style>#sk-container-id-3 {color: black;}#sk-container-id-3 pre{padding: 0;}#sk-container-id-3 div.sk-toggleable {background-color: white;}#sk-container-id-3 label.sk-toggleable__label {cursor: pointer;display: block;width: 100%;margin-bottom: 0;padding: 0.3em;box-sizing: border-box;text-align: center;}#sk-container-id-3 label.sk-toggleable__label-arrow:before {content: \"▸\";float: left;margin-right: 0.25em;color: #696969;}#sk-container-id-3 label.sk-toggleable__label-arrow:hover:before {color: black;}#sk-container-id-3 div.sk-estimator:hover label.sk-toggleable__label-arrow:before {color: black;}#sk-container-id-3 div.sk-toggleable__content {max-height: 0;max-width: 0;overflow: hidden;text-align: left;background-color: #f0f8ff;}#sk-container-id-3 div.sk-toggleable__content pre {margin: 0.2em;color: black;border-radius: 0.25em;background-color: #f0f8ff;}#sk-container-id-3 input.sk-toggleable__control:checked~div.sk-toggleable__content {max-height: 200px;max-width: 100%;overflow: auto;}#sk-container-id-3 input.sk-toggleable__control:checked~label.sk-toggleable__label-arrow:before {content: \"▾\";}#sk-container-id-3 div.sk-estimator input.sk-toggleable__control:checked~label.sk-toggleable__label {background-color: #d4ebff;}#sk-container-id-3 div.sk-label input.sk-toggleable__control:checked~label.sk-toggleable__label {background-color: #d4ebff;}#sk-container-id-3 input.sk-hidden--visually {border: 0;clip: rect(1px 1px 1px 1px);clip: rect(1px, 1px, 1px, 1px);height: 1px;margin: -1px;overflow: hidden;padding: 0;position: absolute;width: 1px;}#sk-container-id-3 div.sk-estimator {font-family: monospace;background-color: #f0f8ff;border: 1px dotted black;border-radius: 0.25em;box-sizing: border-box;margin-bottom: 0.5em;}#sk-container-id-3 div.sk-estimator:hover {background-color: #d4ebff;}#sk-container-id-3 div.sk-parallel-item::after {content: \"\";width: 100%;border-bottom: 1px solid gray;flex-grow: 1;}#sk-container-id-3 div.sk-label:hover label.sk-toggleable__label {background-color: #d4ebff;}#sk-container-id-3 div.sk-serial::before {content: \"\";position: absolute;border-left: 1px solid gray;box-sizing: border-box;top: 0;bottom: 0;left: 50%;z-index: 0;}#sk-container-id-3 div.sk-serial {display: flex;flex-direction: column;align-items: center;background-color: white;padding-right: 0.2em;padding-left: 0.2em;position: relative;}#sk-container-id-3 div.sk-item {position: relative;z-index: 1;}#sk-container-id-3 div.sk-parallel {display: flex;align-items: stretch;justify-content: center;background-color: white;position: relative;}#sk-container-id-3 div.sk-item::before, #sk-container-id-3 div.sk-parallel-item::before {content: \"\";position: absolute;border-left: 1px solid gray;box-sizing: border-box;top: 0;bottom: 0;left: 50%;z-index: -1;}#sk-container-id-3 div.sk-parallel-item {display: flex;flex-direction: column;z-index: 1;position: relative;background-color: white;}#sk-container-id-3 div.sk-parallel-item:first-child::after {align-self: flex-end;width: 50%;}#sk-container-id-3 div.sk-parallel-item:last-child::after {align-self: flex-start;width: 50%;}#sk-container-id-3 div.sk-parallel-item:only-child::after {width: 0;}#sk-container-id-3 div.sk-dashed-wrapped {border: 1px dashed gray;margin: 0 0.4em 0.5em 0.4em;box-sizing: border-box;padding-bottom: 0.4em;background-color: white;}#sk-container-id-3 div.sk-label label {font-family: monospace;font-weight: bold;display: inline-block;line-height: 1.2em;}#sk-container-id-3 div.sk-label-container {text-align: center;}#sk-container-id-3 div.sk-container {/* jupyter's `normalize.less` sets `[hidden] { display: none; }` but bootstrap.min.css set `[hidden] { display: none !important; }` so we also need the `!important` here to be able to override the default hidden behavior on the sphinx rendered scikit-learn.org. See: https://github.com/scikit-learn/scikit-learn/issues/21755 */display: inline-block !important;position: relative;}#sk-container-id-3 div.sk-text-repr-fallback {display: none;}</style><div id=\"sk-container-id-3\" class=\"sk-top-container\"><div class=\"sk-text-repr-fallback\"><pre>GridSearchCV(cv=StratifiedKFold(n_splits=5, random_state=42, shuffle=True),\n",
       "             estimator=Pipeline(steps=[(&#x27;scaler&#x27;, StandardScaler()),\n",
       "                                       (&#x27;smote&#x27;, SMOTE(random_state=42)),\n",
       "                                       (&#x27;lda&#x27;, LinearDiscriminantAnalysis())]),\n",
       "             n_jobs=-1,\n",
       "             param_grid=[{&#x27;lda__shrinkage&#x27;: [None], &#x27;lda__solver&#x27;: [&#x27;svd&#x27;]},\n",
       "                         {&#x27;lda__shrinkage&#x27;: [None, &#x27;auto&#x27;, 0.1, 0.3, 0.5, 0.7,\n",
       "                                             0.9],\n",
       "                          &#x27;lda__solver&#x27;: [&#x27;lsqr&#x27;]}],\n",
       "             scoring=&#x27;roc_auc&#x27;)</pre><b>In a Jupyter environment, please rerun this cell to show the HTML representation or trust the notebook. <br />On GitHub, the HTML representation is unable to render, please try loading this page with nbviewer.org.</b></div><div class=\"sk-container\" hidden><div class=\"sk-item sk-dashed-wrapped\"><div class=\"sk-label-container\"><div class=\"sk-label sk-toggleable\"><input class=\"sk-toggleable__control sk-hidden--visually\" id=\"sk-estimator-id-11\" type=\"checkbox\" ><label for=\"sk-estimator-id-11\" class=\"sk-toggleable__label sk-toggleable__label-arrow\">GridSearchCV</label><div class=\"sk-toggleable__content\"><pre>GridSearchCV(cv=StratifiedKFold(n_splits=5, random_state=42, shuffle=True),\n",
       "             estimator=Pipeline(steps=[(&#x27;scaler&#x27;, StandardScaler()),\n",
       "                                       (&#x27;smote&#x27;, SMOTE(random_state=42)),\n",
       "                                       (&#x27;lda&#x27;, LinearDiscriminantAnalysis())]),\n",
       "             n_jobs=-1,\n",
       "             param_grid=[{&#x27;lda__shrinkage&#x27;: [None], &#x27;lda__solver&#x27;: [&#x27;svd&#x27;]},\n",
       "                         {&#x27;lda__shrinkage&#x27;: [None, &#x27;auto&#x27;, 0.1, 0.3, 0.5, 0.7,\n",
       "                                             0.9],\n",
       "                          &#x27;lda__solver&#x27;: [&#x27;lsqr&#x27;]}],\n",
       "             scoring=&#x27;roc_auc&#x27;)</pre></div></div></div><div class=\"sk-parallel\"><div class=\"sk-parallel-item\"><div class=\"sk-item\"><div class=\"sk-label-container\"><div class=\"sk-label sk-toggleable\"><input class=\"sk-toggleable__control sk-hidden--visually\" id=\"sk-estimator-id-12\" type=\"checkbox\" ><label for=\"sk-estimator-id-12\" class=\"sk-toggleable__label sk-toggleable__label-arrow\">estimator: Pipeline</label><div class=\"sk-toggleable__content\"><pre>Pipeline(steps=[(&#x27;scaler&#x27;, StandardScaler()), (&#x27;smote&#x27;, SMOTE(random_state=42)),\n",
       "                (&#x27;lda&#x27;, LinearDiscriminantAnalysis())])</pre></div></div></div><div class=\"sk-serial\"><div class=\"sk-item\"><div class=\"sk-serial\"><div class=\"sk-item\"><div class=\"sk-estimator sk-toggleable\"><input class=\"sk-toggleable__control sk-hidden--visually\" id=\"sk-estimator-id-13\" type=\"checkbox\" ><label for=\"sk-estimator-id-13\" class=\"sk-toggleable__label sk-toggleable__label-arrow\">StandardScaler</label><div class=\"sk-toggleable__content\"><pre>StandardScaler()</pre></div></div></div><div class=\"sk-item\"><div class=\"sk-estimator sk-toggleable\"><input class=\"sk-toggleable__control sk-hidden--visually\" id=\"sk-estimator-id-14\" type=\"checkbox\" ><label for=\"sk-estimator-id-14\" class=\"sk-toggleable__label sk-toggleable__label-arrow\">SMOTE</label><div class=\"sk-toggleable__content\"><pre>SMOTE(random_state=42)</pre></div></div></div><div class=\"sk-item\"><div class=\"sk-estimator sk-toggleable\"><input class=\"sk-toggleable__control sk-hidden--visually\" id=\"sk-estimator-id-15\" type=\"checkbox\" ><label for=\"sk-estimator-id-15\" class=\"sk-toggleable__label sk-toggleable__label-arrow\">LinearDiscriminantAnalysis</label><div class=\"sk-toggleable__content\"><pre>LinearDiscriminantAnalysis()</pre></div></div></div></div></div></div></div></div></div></div></div></div>"
      ],
      "text/plain": [
       "GridSearchCV(cv=StratifiedKFold(n_splits=5, random_state=42, shuffle=True),\n",
       "             estimator=Pipeline(steps=[('scaler', StandardScaler()),\n",
       "                                       ('smote', SMOTE(random_state=42)),\n",
       "                                       ('lda', LinearDiscriminantAnalysis())]),\n",
       "             n_jobs=-1,\n",
       "             param_grid=[{'lda__shrinkage': [None], 'lda__solver': ['svd']},\n",
       "                         {'lda__shrinkage': [None, 'auto', 0.1, 0.3, 0.5, 0.7,\n",
       "                                             0.9],\n",
       "                          'lda__solver': ['lsqr']}],\n",
       "             scoring='roc_auc')"
      ]
     },
     "execution_count": 205,
     "metadata": {},
     "output_type": "execute_result"
    }
   ],
   "source": [
    "grid_search_lda.fit(X_train, y_train)"
   ]
  },
  {
   "cell_type": "code",
   "execution_count": 206,
   "id": "ab9f1b84-43b2-4e08-a296-273681a28c84",
   "metadata": {},
   "outputs": [
    {
     "name": "stdout",
     "output_type": "stream",
     "text": [
      "Best parameters: {'lda__shrinkage': 0.1, 'lda__solver': 'lsqr'}\n",
      "Best CV ROC AUC score: 0.7851104750781058\n"
     ]
    }
   ],
   "source": [
    "print(\"Best parameters:\", grid_search_lda.best_params_)\n",
    "print(\"Best CV ROC AUC score:\", grid_search_lda.best_score_)"
   ]
  },
  {
   "cell_type": "code",
   "execution_count": 207,
   "id": "4f22e197-f322-4342-9bde-4fd5d082bf3c",
   "metadata": {},
   "outputs": [],
   "source": [
    "best_lda_model = grid_search_lda.best_estimator_"
   ]
  },
  {
   "cell_type": "code",
   "execution_count": 365,
   "id": "b50bd6c4-8d13-4873-ad21-25c6ddf3d828",
   "metadata": {},
   "outputs": [],
   "source": [
    "best_models_dict['LDA'] = best_lda_model"
   ]
  },
  {
   "cell_type": "code",
   "execution_count": 367,
   "id": "f64b4c64-5d0d-4b4f-91de-c8c9053b27cf",
   "metadata": {},
   "outputs": [],
   "source": [
    "results_list.append({\n",
    "    'Model': 'LDA',\n",
    "    'Best Estimator': grid_search_lda.best_estimator_,\n",
    "    'Best Params': grid_search_lda.best_params_,\n",
    "    'Best CV ROC AUC': grid_search_lda.best_score_\n",
    "})"
   ]
  },
  {
   "cell_type": "markdown",
   "id": "b7b2cf17-6768-46f4-a79b-4c9fc44a85cb",
   "metadata": {},
   "source": [
    "## Naive Bayes NB"
   ]
  },
  {
   "cell_type": "code",
   "execution_count": 211,
   "id": "3fe089f8-899d-4ab7-bf4b-2179d1ddbf9a",
   "metadata": {},
   "outputs": [],
   "source": [
    "gnb_pipeline = ImbPipeline(steps=[\n",
    "    ('scaler', StandardScaler()),\n",
    "    ('smote', SMOTE(random_state=seed)),\n",
    "    ('clf', GaussianNB())\n",
    "])\n",
    "#without scaling because GNB does not require strictly scaled data"
   ]
  },
  {
   "cell_type": "code",
   "execution_count": 212,
   "id": "16bee9f1-583a-47ce-9b6d-9302cdf2ab10",
   "metadata": {},
   "outputs": [],
   "source": [
    "param_grid_gnb = {\n",
    "    'clf__var_smoothing': [1e-9, 1e-8, 1e-7, 1e-6] \n",
    "}"
   ]
  },
  {
   "cell_type": "code",
   "execution_count": 213,
   "id": "dc3719a9-8565-42e5-8f23-e9a5967eacdc",
   "metadata": {},
   "outputs": [],
   "source": [
    "grid_search_gnb = GridSearchCV(gnb_pipeline, param_grid_gnb, cv=cv_strategy, scoring='roc_auc', n_jobs=-1)"
   ]
  },
  {
   "cell_type": "code",
   "execution_count": 214,
   "id": "37ecc6c3-ac28-4950-9512-b2291d2da6e6",
   "metadata": {},
   "outputs": [
    {
     "data": {
      "text/html": [
       "<style>#sk-container-id-4 {color: black;}#sk-container-id-4 pre{padding: 0;}#sk-container-id-4 div.sk-toggleable {background-color: white;}#sk-container-id-4 label.sk-toggleable__label {cursor: pointer;display: block;width: 100%;margin-bottom: 0;padding: 0.3em;box-sizing: border-box;text-align: center;}#sk-container-id-4 label.sk-toggleable__label-arrow:before {content: \"▸\";float: left;margin-right: 0.25em;color: #696969;}#sk-container-id-4 label.sk-toggleable__label-arrow:hover:before {color: black;}#sk-container-id-4 div.sk-estimator:hover label.sk-toggleable__label-arrow:before {color: black;}#sk-container-id-4 div.sk-toggleable__content {max-height: 0;max-width: 0;overflow: hidden;text-align: left;background-color: #f0f8ff;}#sk-container-id-4 div.sk-toggleable__content pre {margin: 0.2em;color: black;border-radius: 0.25em;background-color: #f0f8ff;}#sk-container-id-4 input.sk-toggleable__control:checked~div.sk-toggleable__content {max-height: 200px;max-width: 100%;overflow: auto;}#sk-container-id-4 input.sk-toggleable__control:checked~label.sk-toggleable__label-arrow:before {content: \"▾\";}#sk-container-id-4 div.sk-estimator input.sk-toggleable__control:checked~label.sk-toggleable__label {background-color: #d4ebff;}#sk-container-id-4 div.sk-label input.sk-toggleable__control:checked~label.sk-toggleable__label {background-color: #d4ebff;}#sk-container-id-4 input.sk-hidden--visually {border: 0;clip: rect(1px 1px 1px 1px);clip: rect(1px, 1px, 1px, 1px);height: 1px;margin: -1px;overflow: hidden;padding: 0;position: absolute;width: 1px;}#sk-container-id-4 div.sk-estimator {font-family: monospace;background-color: #f0f8ff;border: 1px dotted black;border-radius: 0.25em;box-sizing: border-box;margin-bottom: 0.5em;}#sk-container-id-4 div.sk-estimator:hover {background-color: #d4ebff;}#sk-container-id-4 div.sk-parallel-item::after {content: \"\";width: 100%;border-bottom: 1px solid gray;flex-grow: 1;}#sk-container-id-4 div.sk-label:hover label.sk-toggleable__label {background-color: #d4ebff;}#sk-container-id-4 div.sk-serial::before {content: \"\";position: absolute;border-left: 1px solid gray;box-sizing: border-box;top: 0;bottom: 0;left: 50%;z-index: 0;}#sk-container-id-4 div.sk-serial {display: flex;flex-direction: column;align-items: center;background-color: white;padding-right: 0.2em;padding-left: 0.2em;position: relative;}#sk-container-id-4 div.sk-item {position: relative;z-index: 1;}#sk-container-id-4 div.sk-parallel {display: flex;align-items: stretch;justify-content: center;background-color: white;position: relative;}#sk-container-id-4 div.sk-item::before, #sk-container-id-4 div.sk-parallel-item::before {content: \"\";position: absolute;border-left: 1px solid gray;box-sizing: border-box;top: 0;bottom: 0;left: 50%;z-index: -1;}#sk-container-id-4 div.sk-parallel-item {display: flex;flex-direction: column;z-index: 1;position: relative;background-color: white;}#sk-container-id-4 div.sk-parallel-item:first-child::after {align-self: flex-end;width: 50%;}#sk-container-id-4 div.sk-parallel-item:last-child::after {align-self: flex-start;width: 50%;}#sk-container-id-4 div.sk-parallel-item:only-child::after {width: 0;}#sk-container-id-4 div.sk-dashed-wrapped {border: 1px dashed gray;margin: 0 0.4em 0.5em 0.4em;box-sizing: border-box;padding-bottom: 0.4em;background-color: white;}#sk-container-id-4 div.sk-label label {font-family: monospace;font-weight: bold;display: inline-block;line-height: 1.2em;}#sk-container-id-4 div.sk-label-container {text-align: center;}#sk-container-id-4 div.sk-container {/* jupyter's `normalize.less` sets `[hidden] { display: none; }` but bootstrap.min.css set `[hidden] { display: none !important; }` so we also need the `!important` here to be able to override the default hidden behavior on the sphinx rendered scikit-learn.org. See: https://github.com/scikit-learn/scikit-learn/issues/21755 */display: inline-block !important;position: relative;}#sk-container-id-4 div.sk-text-repr-fallback {display: none;}</style><div id=\"sk-container-id-4\" class=\"sk-top-container\"><div class=\"sk-text-repr-fallback\"><pre>GridSearchCV(cv=StratifiedKFold(n_splits=5, random_state=42, shuffle=True),\n",
       "             estimator=Pipeline(steps=[(&#x27;scaler&#x27;, StandardScaler()),\n",
       "                                       (&#x27;smote&#x27;, SMOTE(random_state=42)),\n",
       "                                       (&#x27;clf&#x27;, GaussianNB())]),\n",
       "             n_jobs=-1,\n",
       "             param_grid={&#x27;clf__var_smoothing&#x27;: [1e-09, 1e-08, 1e-07, 1e-06]},\n",
       "             scoring=&#x27;roc_auc&#x27;)</pre><b>In a Jupyter environment, please rerun this cell to show the HTML representation or trust the notebook. <br />On GitHub, the HTML representation is unable to render, please try loading this page with nbviewer.org.</b></div><div class=\"sk-container\" hidden><div class=\"sk-item sk-dashed-wrapped\"><div class=\"sk-label-container\"><div class=\"sk-label sk-toggleable\"><input class=\"sk-toggleable__control sk-hidden--visually\" id=\"sk-estimator-id-16\" type=\"checkbox\" ><label for=\"sk-estimator-id-16\" class=\"sk-toggleable__label sk-toggleable__label-arrow\">GridSearchCV</label><div class=\"sk-toggleable__content\"><pre>GridSearchCV(cv=StratifiedKFold(n_splits=5, random_state=42, shuffle=True),\n",
       "             estimator=Pipeline(steps=[(&#x27;scaler&#x27;, StandardScaler()),\n",
       "                                       (&#x27;smote&#x27;, SMOTE(random_state=42)),\n",
       "                                       (&#x27;clf&#x27;, GaussianNB())]),\n",
       "             n_jobs=-1,\n",
       "             param_grid={&#x27;clf__var_smoothing&#x27;: [1e-09, 1e-08, 1e-07, 1e-06]},\n",
       "             scoring=&#x27;roc_auc&#x27;)</pre></div></div></div><div class=\"sk-parallel\"><div class=\"sk-parallel-item\"><div class=\"sk-item\"><div class=\"sk-label-container\"><div class=\"sk-label sk-toggleable\"><input class=\"sk-toggleable__control sk-hidden--visually\" id=\"sk-estimator-id-17\" type=\"checkbox\" ><label for=\"sk-estimator-id-17\" class=\"sk-toggleable__label sk-toggleable__label-arrow\">estimator: Pipeline</label><div class=\"sk-toggleable__content\"><pre>Pipeline(steps=[(&#x27;scaler&#x27;, StandardScaler()), (&#x27;smote&#x27;, SMOTE(random_state=42)),\n",
       "                (&#x27;clf&#x27;, GaussianNB())])</pre></div></div></div><div class=\"sk-serial\"><div class=\"sk-item\"><div class=\"sk-serial\"><div class=\"sk-item\"><div class=\"sk-estimator sk-toggleable\"><input class=\"sk-toggleable__control sk-hidden--visually\" id=\"sk-estimator-id-18\" type=\"checkbox\" ><label for=\"sk-estimator-id-18\" class=\"sk-toggleable__label sk-toggleable__label-arrow\">StandardScaler</label><div class=\"sk-toggleable__content\"><pre>StandardScaler()</pre></div></div></div><div class=\"sk-item\"><div class=\"sk-estimator sk-toggleable\"><input class=\"sk-toggleable__control sk-hidden--visually\" id=\"sk-estimator-id-19\" type=\"checkbox\" ><label for=\"sk-estimator-id-19\" class=\"sk-toggleable__label sk-toggleable__label-arrow\">SMOTE</label><div class=\"sk-toggleable__content\"><pre>SMOTE(random_state=42)</pre></div></div></div><div class=\"sk-item\"><div class=\"sk-estimator sk-toggleable\"><input class=\"sk-toggleable__control sk-hidden--visually\" id=\"sk-estimator-id-20\" type=\"checkbox\" ><label for=\"sk-estimator-id-20\" class=\"sk-toggleable__label sk-toggleable__label-arrow\">GaussianNB</label><div class=\"sk-toggleable__content\"><pre>GaussianNB()</pre></div></div></div></div></div></div></div></div></div></div></div></div>"
      ],
      "text/plain": [
       "GridSearchCV(cv=StratifiedKFold(n_splits=5, random_state=42, shuffle=True),\n",
       "             estimator=Pipeline(steps=[('scaler', StandardScaler()),\n",
       "                                       ('smote', SMOTE(random_state=42)),\n",
       "                                       ('clf', GaussianNB())]),\n",
       "             n_jobs=-1,\n",
       "             param_grid={'clf__var_smoothing': [1e-09, 1e-08, 1e-07, 1e-06]},\n",
       "             scoring='roc_auc')"
      ]
     },
     "execution_count": 214,
     "metadata": {},
     "output_type": "execute_result"
    }
   ],
   "source": [
    "grid_search_gnb.fit(X_train, y_train)"
   ]
  },
  {
   "cell_type": "code",
   "execution_count": 215,
   "id": "3a2c9623-c7be-45a4-9293-ffc1c169746f",
   "metadata": {},
   "outputs": [
    {
     "name": "stdout",
     "output_type": "stream",
     "text": [
      "Best parameters: {'clf__var_smoothing': 1e-07}\n",
      "Best CV ROC AUC score: 0.7497272910105635\n"
     ]
    }
   ],
   "source": [
    "print(\"Best parameters:\", grid_search_gnb.best_params_)\n",
    "print(\"Best CV ROC AUC score:\", grid_search_gnb.best_score_)"
   ]
  },
  {
   "cell_type": "code",
   "execution_count": 216,
   "id": "2331acfd-feb9-43fd-b38c-2e96d25a1c82",
   "metadata": {},
   "outputs": [],
   "source": [
    "best_gnb_model = grid_search_gnb.best_estimator_"
   ]
  },
  {
   "cell_type": "code",
   "execution_count": 369,
   "id": "90b39eb4-22f7-4d7d-a349-94718f069342",
   "metadata": {},
   "outputs": [],
   "source": [
    "best_models_dict['GNB'] = best_gnb_model"
   ]
  },
  {
   "cell_type": "code",
   "execution_count": 371,
   "id": "52e2b12f-e67e-446d-9a76-3ce036011205",
   "metadata": {},
   "outputs": [],
   "source": [
    "results_list.append({\n",
    "    'Model': 'GNB',\n",
    "    'Best Estimator': grid_search_gnb.best_estimator_,\n",
    "    'Best Params': grid_search_gnb.best_params_,\n",
    "    'Best CV ROC AUC': grid_search_gnb.best_score_\n",
    "})"
   ]
  },
  {
   "cell_type": "markdown",
   "id": "cf0b3f9b-0bfd-46dc-9f90-5670227594b7",
   "metadata": {},
   "source": [
    "# BEST models"
   ]
  },
  {
   "cell_type": "code",
   "execution_count": 383,
   "id": "56cdbdb7-df0f-4325-8d08-162c73d34bb6",
   "metadata": {},
   "outputs": [
    {
     "data": {
      "text/html": [
       "<div>\n",
       "<style scoped>\n",
       "    .dataframe tbody tr th:only-of-type {\n",
       "        vertical-align: middle;\n",
       "    }\n",
       "\n",
       "    .dataframe tbody tr th {\n",
       "        vertical-align: top;\n",
       "    }\n",
       "\n",
       "    .dataframe thead th {\n",
       "        text-align: right;\n",
       "    }\n",
       "</style>\n",
       "<table border=\"1\" class=\"dataframe\">\n",
       "  <thead>\n",
       "    <tr style=\"text-align: right;\">\n",
       "      <th></th>\n",
       "      <th>Model</th>\n",
       "      <th>Best Estimator</th>\n",
       "      <th>Best Params</th>\n",
       "      <th>Best CV ROC AUC</th>\n",
       "    </tr>\n",
       "  </thead>\n",
       "  <tbody>\n",
       "    <tr>\n",
       "      <th>0</th>\n",
       "      <td>KNN</td>\n",
       "      <td>(StandardScaler(), SMOTE(random_state=42), KNe...</td>\n",
       "      <td>{'knn__metric': 'manhattan', 'knn__n_neighbors...</td>\n",
       "      <td>0.746174</td>\n",
       "    </tr>\n",
       "    <tr>\n",
       "      <th>1</th>\n",
       "      <td>LR</td>\n",
       "      <td>(StandardScaler(), SMOTE(random_state=42), Log...</td>\n",
       "      <td>{'lr__C': 0.01, 'lr__penalty': 'l2', 'lr__solv...</td>\n",
       "      <td>0.785037</td>\n",
       "    </tr>\n",
       "    <tr>\n",
       "      <th>2</th>\n",
       "      <td>LDA</td>\n",
       "      <td>(StandardScaler(), SMOTE(random_state=42), Lin...</td>\n",
       "      <td>{'lda__shrinkage': 0.1, 'lda__solver': 'lsqr'}</td>\n",
       "      <td>0.785110</td>\n",
       "    </tr>\n",
       "    <tr>\n",
       "      <th>3</th>\n",
       "      <td>GNB</td>\n",
       "      <td>(StandardScaler(), SMOTE(random_state=42), Gau...</td>\n",
       "      <td>{'clf__var_smoothing': 1e-07}</td>\n",
       "      <td>0.749727</td>\n",
       "    </tr>\n",
       "  </tbody>\n",
       "</table>\n",
       "</div>"
      ],
      "text/plain": [
       "  Model                                     Best Estimator  \\\n",
       "0   KNN  (StandardScaler(), SMOTE(random_state=42), KNe...   \n",
       "1    LR  (StandardScaler(), SMOTE(random_state=42), Log...   \n",
       "2   LDA  (StandardScaler(), SMOTE(random_state=42), Lin...   \n",
       "3   GNB  (StandardScaler(), SMOTE(random_state=42), Gau...   \n",
       "\n",
       "                                         Best Params  Best CV ROC AUC  \n",
       "0  {'knn__metric': 'manhattan', 'knn__n_neighbors...         0.746174  \n",
       "1  {'lr__C': 0.01, 'lr__penalty': 'l2', 'lr__solv...         0.785037  \n",
       "2     {'lda__shrinkage': 0.1, 'lda__solver': 'lsqr'}         0.785110  \n",
       "3                      {'clf__var_smoothing': 1e-07}         0.749727  "
      ]
     },
     "execution_count": 383,
     "metadata": {},
     "output_type": "execute_result"
    }
   ],
   "source": [
    "results_df = pd.DataFrame(results_list)\n",
    "results_df"
   ]
  },
  {
   "cell_type": "markdown",
   "id": "9f011d68-3383-4d64-8212-dd5b644389d7",
   "metadata": {},
   "source": [
    "Logistic regression and LDA have practically the same results (0.785), but I'm gonna chose logistic reggresion here"
   ]
  },
  {
   "cell_type": "code",
   "execution_count": 385,
   "id": "be5b3bf8-e574-4922-be01-3b3e47d66b44",
   "metadata": {},
   "outputs": [],
   "source": [
    "best_model = best_lr_model"
   ]
  },
  {
   "cell_type": "markdown",
   "id": "9bac6386-57fa-40fd-bdc5-7f87b056617c",
   "metadata": {},
   "source": [
    "# Adjusting the classification threshold"
   ]
  },
  {
   "cell_type": "code",
   "execution_count": 417,
   "id": "c4e55862-a574-46e2-aa58-4dd31b236101",
   "metadata": {},
   "outputs": [],
   "source": [
    "y_proba = best_model.predict_proba(X_test)[:,1] #probability for class 1"
   ]
  },
  {
   "cell_type": "markdown",
   "id": "adfe7dfb-9efc-497b-98cb-0c4daec313df",
   "metadata": {},
   "source": [
    "Let's see ROC curve"
   ]
  },
  {
   "cell_type": "code",
   "execution_count": 419,
   "id": "ea59658d-0398-43f1-9927-de5804193896",
   "metadata": {},
   "outputs": [
    {
     "data": {
      "image/png": "[encoded data removed]",
      "text/plain": [
       "<Figure size 640x480 with 1 Axes>"
      ]
     },
     "metadata": {},
     "output_type": "display_data"
    }
   ],
   "source": [
    "plt.hist(y_proba, bins=100)\n",
    "plt.show()"
   ]
  },
  {
   "cell_type": "markdown",
   "id": "ac1ace38-4a3a-462d-af1e-7f16e52ab6ea",
   "metadata": {},
   "source": [
    "Class 1 is rarely predictied, since only a small minority of the testing set observation had predicted probability above the threshold (0.5)"
   ]
  },
  {
   "cell_type": "markdown",
   "id": "685d0003-490d-4f67-a761-bdd7184c3a93",
   "metadata": {},
   "source": [
    "--------------------------------------------------------------------------------------------------------------------------------------------------------"
   ]
  },
  {
   "cell_type": "markdown",
   "id": "dbb4e261-40e2-4e27-a6d3-a139ef9cdc7b",
   "metadata": {},
   "source": [
    "Let's see ROC Curve:"
   ]
  },
  {
   "cell_type": "code",
   "execution_count": 403,
   "id": "a566f91c-e082-453a-a0ec-83b66dccbab2",
   "metadata": {},
   "outputs": [
    {
     "data": {
      "image/png": "[encoded data removed]",
      "text/plain": [
       "<Figure size 800x600 with 1 Axes>"
      ]
     },
     "metadata": {},
     "output_type": "display_data"
    }
   ],
   "source": [
    "fpr, tpr, thresholds = roc_curve(y_test, y_proba)\n",
    "roc_auc = auc(fpr, tpr)\n",
    "\n",
    "plt.figure(figsize=(8, 6))\n",
    "plt.plot(fpr, tpr, label=f'ROC Curve (AUC = {roc_auc:.3f})', color='darkorange')\n",
    "plt.plot([0, 1], [0, 1], 'k--')  # diagonal\n",
    "plt.xlabel('False Positive Rate')\n",
    "plt.ylabel('True Positive Rate')\n",
    "plt.title('ROC Curve')\n",
    "plt.legend()\n",
    "plt.grid(True)\n",
    "plt.show()"
   ]
  },
  {
   "cell_type": "markdown",
   "id": "3fd1f76a-b769-4eaa-974e-04395c9d1a7b",
   "metadata": {},
   "source": [
    "--------------------------------------------------------------------------------------------------------------------------------------------------------"
   ]
  },
  {
   "cell_type": "markdown",
   "id": "6e658600-1d88-41b7-9916-b1d0f6fab7a5",
   "metadata": {},
   "source": [
    "Let's see diffrent thresholds and their confusion reports"
   ]
  },
  {
   "cell_type": "code",
   "execution_count": 441,
   "id": "3c749e2f-7382-49e0-ab2a-966de23914e5",
   "metadata": {},
   "outputs": [
    {
     "name": "stdout",
     "output_type": "stream",
     "text": [
      "\n",
      "--- Threshold: 0.3 ---\n",
      "[[3126 4182]\n",
      " [ 120  808]]\n",
      "              precision    recall  f1-score   support\n",
      "\n",
      "           0      0.963     0.428     0.592      7308\n",
      "           1      0.162     0.871     0.273       928\n",
      "\n",
      "    accuracy                          0.478      8236\n",
      "   macro avg      0.562     0.649     0.433      8236\n",
      "weighted avg      0.873     0.478     0.556      8236\n",
      "\n",
      "\n",
      "--- Threshold: 0.5 ---\n",
      "[[6107 1201]\n",
      " [ 319  609]]\n",
      "              precision    recall  f1-score   support\n",
      "\n",
      "           0      0.950     0.836     0.889      7308\n",
      "           1      0.336     0.656     0.445       928\n",
      "\n",
      "    accuracy                          0.815      8236\n",
      "   macro avg      0.643     0.746     0.667      8236\n",
      "weighted avg      0.881     0.815     0.839      8236\n",
      "\n",
      "\n",
      "--- Threshold: 0.7 ---\n",
      "[[6771  537]\n",
      " [ 456  472]]\n",
      "              precision    recall  f1-score   support\n",
      "\n",
      "           0      0.937     0.927     0.932      7308\n",
      "           1      0.468     0.509     0.487       928\n",
      "\n",
      "    accuracy                          0.879      8236\n",
      "   macro avg      0.702     0.718     0.710      8236\n",
      "weighted avg      0.884     0.879     0.882      8236\n",
      "\n"
     ]
    }
   ],
   "source": [
    "for thresh in [0.3, 0.5, 0.7]:\n",
    "    y_pred_thresh = (y_proba >= thresh).astype(int)\n",
    "    print(f\"\\n--- Threshold: {thresh} ---\")\n",
    "    print(confusion_matrix(y_test, y_pred_thresh))\n",
    "    print(classification_report(y_test, y_pred_thresh, digits=3))"
   ]
  },
  {
   "cell_type": "markdown",
   "id": "0c2dad91-8766-41de-983b-3fc0fa38d9d5",
   "metadata": {},
   "source": [
    "At threshold 0.3, the model achieved very high recall (87.1%) but very low precision (16.2%), meaning it captured most positive cases but with many false positives.\n",
    "\n",
    "At threshold 0.5, we observed a balanced performance with a recall of 65.6% and a precision of 33.6%.\n",
    "\n",
    "At threshold 0.7, the model achieved the highest precision (46.8%) and the best F1-score (48.7%), indicating a better balance between false positives and false negatives."
   ]
  },
  {
   "cell_type": "markdown",
   "id": "9c62f14f-be2d-48df-89a8-907ca1b51a0b",
   "metadata": {},
   "source": [
    "--------------------------------------------------------------------------------------------------------------------------------------------------------"
   ]
  },
  {
   "cell_type": "markdown",
   "id": "6b318aea-b9f4-43f5-ac91-0500f372a310",
   "metadata": {},
   "source": [
    "Let's see precision - recall curve:"
   ]
  },
  {
   "cell_type": "code",
   "execution_count": 478,
   "id": "70d79ed2-de2f-42f6-924e-782d3f4ef537",
   "metadata": {},
   "outputs": [
    {
     "data": {
      "image/png": "[encoded data removed]",
      "text/plain": [
       "<Figure size 800x600 with 1 Axes>"
      ]
     },
     "metadata": {},
     "output_type": "display_data"
    }
   ],
   "source": [
    "precision, recall, thresholds = precision_recall_curve(y_test, y_proba)\n",
    "\n",
    "plt.figure(figsize=(8, 6))\n",
    "plt.plot(thresholds, precision[:-1], label='Precision')\n",
    "plt.plot(thresholds, recall[:-1], label='Recall')\n",
    "plt.xlabel('Threshold')\n",
    "plt.ylabel('Score')\n",
    "plt.title('Precision and Recall vs. Threshold')\n",
    "plt.legend()\n",
    "plt.grid()\n",
    "plt.show()"
   ]
  },
  {
   "cell_type": "markdown",
   "id": "20b81570-387f-4c86-a1ec-c70bb02d9356",
   "metadata": {},
   "source": [
    "On the precision-recall vs. threshold plot, we observe that as the threshold increases, precision improves at the cost of recall.\n",
    "Around threshold = 0.7, the model achieves a good balance, offering higher precision while maintaining moderate recall.\n",
    "This threshold is chosen to prioritize the quality of positive predictions, which is suitable in the business context where contacting uninterested clients can be costly."
   ]
  },
  {
   "cell_type": "markdown",
   "id": "609395bd-bdc1-44c4-9332-806f283d00d4",
   "metadata": {},
   "source": [
    "--------------------------------------------------------------------------------------------------------------------------------------------------------"
   ]
  },
  {
   "cell_type": "markdown",
   "id": "f592260c-d4d2-4089-b10b-ff58ce941a4d",
   "metadata": {},
   "source": [
    "Depending on business goals:\n",
    "\n",
    "- If the aim is to maximize outreach, threshold 0.3 is preferable.\n",
    "\n",
    "- If the goal is to minimize false positives and focus on the most likely subscribers, then threshold 0.7 is a better choice."
   ]
  },
  {
   "cell_type": "markdown",
   "id": "c3a2f949-7710-4466-be51-6e77b144c64f",
   "metadata": {},
   "source": [
    "Although I did not apply the final model using .predict() on the test set, the analysis using predict_proba and performance metrics (confusion matrices, ROC curve, and precision-recall curve) provides a solid evaluation of the model's behavior under different threshold strategies.\n",
    "\n",
    "This threshold analysis not only demonstrates the model's flexibility but also shows the importance of aligning evaluation metrics with real-world decision-making."
   ]
  }
 ],
 "metadata": {
  "kernelspec": {
   "display_name": "Python 3 (ipykernel)",
   "language": "python",
   "name": "python3"
  },
  "language_info": {
   "codemirror_mode": {
    "name": "ipython",
    "version": 3
   },
   "file_extension": ".py",
   "mimetype": "text/x-python",
   "name": "python",
   "nbconvert_exporter": "python",
   "pygments_lexer": "ipython3",
   "version": "3.11.7"
  }
 },
 "nbformat": 4,
 "nbformat_minor": 5
}
